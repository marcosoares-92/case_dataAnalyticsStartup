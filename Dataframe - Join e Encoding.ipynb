{
    "metadata": {
        "kernelspec": {
            "name": "python3",
            "display_name": "Python 3 (ipykernel)",
            "language": "python"
        },
        "language_info": {
            "name": "python",
            "version": "3.8.10",
            "mimetype": "text/x-python",
            "codemirror_mode": {
                "name": "ipython",
                "version": 3
            },
            "pygments_lexer": "ipython3",
            "nbconvert_exporter": "python",
            "file_extension": ".py"
        },
        "extensions": {
            "azuredatastudio": {
                "version": 1,
                "views": []
            }
        }
    },
    "nbformat_minor": 2,
    "nbformat": 4,
    "cells": [
        {
            "cell_type": "markdown",
            "source": [
                "# Instruções gerais\n",
                "\n",
                "Para executar uma CÉLULA, pressione o botão \"Run\" no topo, com a CÉLULA selecionada, ou pressione:\n",
                "    \n",
                "    Shift + Enter\n",
                "\n",
                "EXECUTE APENAS UMA CÉLULA POR VEZ\n",
                "\n",
                "-Caso deseje apagar a saída de uma célula carregada, mas não deseje carregar uma nova saída, vá à aba superior, escolha o ícone\n",
                "do teclado (open the command palette/ jupyter-notebook command group) e selecione clear cell output.\n",
                "\n",
                "@author: Marco César Prado Soares, MSc.\n",
                "Especialista Lean Six Sigma Master Black Belt, Eng. Químico, MSc. Eng. Mecatrônica (instrumentação) \n",
                "Marco.Soares@br.ey.com; marcosoares.feq@gmail.com"
            ],
            "metadata": {
                "extensions": {
                    "azuredatastudio": {
                        "views": []
                    }
                },
                "azdata_cell_guid": "24b8231f-437c-431d-8799-281a236d7472"
            }
        },
        {
            "cell_type": "markdown",
            "source": [
                "# **Caracterização Inicial do Dataframe e Data Cleaning**"
            ],
            "metadata": {
                "azdata_cell_guid": "8c8f0b29-84c1-4ea6-b3a7-ca23de244e50",
                "extensions": {
                    "azuredatastudio": {
                        "views": []
                    }
                }
            }
        },
        {
            "cell_type": "markdown",
            "source": [
                "## **Carregar bibliotecas necessárias à análise**"
            ],
            "metadata": {
                "azdata_cell_guid": "8dd5c4f4-f98c-457d-a4a9-42647d13fbea",
                "extensions": {
                    "azuredatastudio": {
                        "views": []
                    }
                }
            }
        },
        {
            "cell_type": "code",
            "source": [
                "import pandas as pd\n",
                "import numpy as np\n",
                "import matplotlib.pyplot as plt\n",
                "import seaborn as sns"
            ],
            "metadata": {
                "azdata_cell_guid": "420e5c38-6512-4db0-bf3c-198b841a1b87",
                "extensions": {
                    "azuredatastudio": {
                        "views": []
                    }
                }
            },
            "outputs": [],
            "execution_count": null
        },
        {
            "cell_type": "markdown",
            "source": [
                "## **Importar dataframe no Anaconda, Azure Data Studio, ou Google Colab**"
            ],
            "metadata": {
                "azdata_cell_guid": "3d40233a-b6ad-4de3-8991-faa8429dc4f1",
                "extensions": {
                    "azuredatastudio": {
                        "views": []
                    }
                }
            }
        },
        {
            "cell_type": "markdown",
            "source": [
                "<span style=\"font-size:12.0pt;\n",
                "font-family:&quot;Times New Roman&quot;,serif\">- Tanto em Python quanto em R, um dataframe é um <b>objeto criado</b> que <b>armazena uma tabela de dados</b>.</span>\n",
                "\n",
                "<span style=\"font-size:12.0pt;font-family:&quot;Times New Roman&quot;,serif\">- O objeto é criado automaticamente quando importamos um arquivo txt, csv, ou xlsx para o ambiente de programação, ou quando o criamos a partir de um dicionário, por exemplo (dicionário é um objeto que pode armazenar outros objetos de diversos tipos, desde variáveis numéricas até dataframes ou listas).</span>\n",
                "\n",
                "<span style=\"font-size:12.0pt;line-height:115%;font-family:&quot;Times New Roman&quot;,serif;\n",
                "mso-fareast-font-family:Calibri;mso-fareast-theme-font:minor-latin;mso-ansi-language:\n",
                "PT-BR;mso-fareast-language:EN-US;mso-bidi-language:AR-SA\">- Para importar o dataframe, utilizamos comandos do Pandas que variam para arquivo do Excel, csv com cabeçalho, ou csv sem cabeçalho. <b><span style=\"color:red\">Arquivos .txt e .csv são lidos da mesma forma</span></b>.</span>"
            ],
            "metadata": {
                "azdata_cell_guid": "6ac8a213-5a18-4586-80c6-09cbd58808f9",
                "extensions": {
                    "azuredatastudio": {
                        "views": []
                    }
                }
            }
        },
        {
            "cell_type": "markdown",
            "source": [
                "**Dados em arquivo CSV (comma separated values) com cabeçalho**"
            ],
            "metadata": {
                "azdata_cell_guid": "9cd54732-738b-492b-ab87-f9b699ff65a5",
                "extensions": {
                    "azuredatastudio": {
                        "views": []
                    }
                }
            }
        },
        {
            "cell_type": "code",
            "source": [
                "## dados em arquivo CSV (comma separated values) com cabeçalho\n",
                "\n",
                "caminho = \"cleaned_cases.csv\"\n",
                "dataset1 = pd.read_csv(caminho)\n",
                "\n",
                "caminho2 = \"cleaned_creds.csv\"\n",
                "dataset2 = pd.read_csv(caminho2)"
            ],
            "metadata": {
                "azdata_cell_guid": "0599c71b-b78d-454f-8e61-1d3ef527e20a",
                "extensions": {
                    "azuredatastudio": {
                        "views": []
                    }
                }
            },
            "outputs": [],
            "execution_count": 4
        },
        {
            "cell_type": "code",
            "source": [
                "dataset1.head()"
            ],
            "metadata": {
                "azdata_cell_guid": "af782231-ba5f-4abf-8494-315f115b4547"
            },
            "outputs": [
                {
                    "output_type": "execute_result",
                    "execution_count": 5,
                    "data": {
                        "text/plain": "   index  Unnamed: 0           accountid                  Id  channelid  \\\n0      0           4  0013j00002z0CeEAAU  0013j00002z0CeEAAU        2.0   \n1      1           5  0013j00002z0CeEAAU  0013j00002z0CeEAAU        2.0   \n2      2           6  0013j00002z0CeEAAU  0013j00002z0CeEAAU        2.0   \n3      3           7  0013j00002zQgldAAC  0013j00002zQgldAAC        2.0   \n4      4           8  0013j00002zQgldAAC  0013j00002zQgldAAC        2.0   \n\n         date  time_tag        tema  waitingtime  missed  pq_satisfacao  \n0  2020-07-31         0  Aplicativo         15.0   False              0  \n1  2020-07-31         0     Produto         15.0   False              0  \n2  2020-09-23         1     Produto          1.0   False              0  \n3  2020-08-29         1   Logística          6.0   False              0  \n4  2020-08-29         1      Pedido          6.0   False              0  ",
                        "text/html": "<div>\n<style scoped>\n    .dataframe tbody tr th:only-of-type {\n        vertical-align: middle;\n    }\n\n    .dataframe tbody tr th {\n        vertical-align: top;\n    }\n\n    .dataframe thead th {\n        text-align: right;\n    }\n</style>\n<table border=\"1\" class=\"dataframe\">\n  <thead>\n    <tr style=\"text-align: right;\">\n      <th></th>\n      <th>index</th>\n      <th>Unnamed: 0</th>\n      <th>accountid</th>\n      <th>Id</th>\n      <th>channelid</th>\n      <th>date</th>\n      <th>time_tag</th>\n      <th>tema</th>\n      <th>waitingtime</th>\n      <th>missed</th>\n      <th>pq_satisfacao</th>\n    </tr>\n  </thead>\n  <tbody>\n    <tr>\n      <th>0</th>\n      <td>0</td>\n      <td>4</td>\n      <td>0013j00002z0CeEAAU</td>\n      <td>0013j00002z0CeEAAU</td>\n      <td>2.0</td>\n      <td>2020-07-31</td>\n      <td>0</td>\n      <td>Aplicativo</td>\n      <td>15.0</td>\n      <td>False</td>\n      <td>0</td>\n    </tr>\n    <tr>\n      <th>1</th>\n      <td>1</td>\n      <td>5</td>\n      <td>0013j00002z0CeEAAU</td>\n      <td>0013j00002z0CeEAAU</td>\n      <td>2.0</td>\n      <td>2020-07-31</td>\n      <td>0</td>\n      <td>Produto</td>\n      <td>15.0</td>\n      <td>False</td>\n      <td>0</td>\n    </tr>\n    <tr>\n      <th>2</th>\n      <td>2</td>\n      <td>6</td>\n      <td>0013j00002z0CeEAAU</td>\n      <td>0013j00002z0CeEAAU</td>\n      <td>2.0</td>\n      <td>2020-09-23</td>\n      <td>1</td>\n      <td>Produto</td>\n      <td>1.0</td>\n      <td>False</td>\n      <td>0</td>\n    </tr>\n    <tr>\n      <th>3</th>\n      <td>3</td>\n      <td>7</td>\n      <td>0013j00002zQgldAAC</td>\n      <td>0013j00002zQgldAAC</td>\n      <td>2.0</td>\n      <td>2020-08-29</td>\n      <td>1</td>\n      <td>Logística</td>\n      <td>6.0</td>\n      <td>False</td>\n      <td>0</td>\n    </tr>\n    <tr>\n      <th>4</th>\n      <td>4</td>\n      <td>8</td>\n      <td>0013j00002zQgldAAC</td>\n      <td>0013j00002zQgldAAC</td>\n      <td>2.0</td>\n      <td>2020-08-29</td>\n      <td>1</td>\n      <td>Pedido</td>\n      <td>6.0</td>\n      <td>False</td>\n      <td>0</td>\n    </tr>\n  </tbody>\n</table>\n</div>"
                    },
                    "metadata": {}
                }
            ],
            "execution_count": 5
        },
        {
            "cell_type": "code",
            "source": [
                "dataset2.head()"
            ],
            "metadata": {
                "azdata_cell_guid": "f3ad8983-57f7-4b50-b000-98415258a501"
            },
            "outputs": [
                {
                    "output_type": "execute_result",
                    "execution_count": 6,
                    "data": {
                        "text/plain": "   index  Unnamed: 0           accountid        date  time_tag  \\\n0      0           4  0013j00002z0CeEAAU  2020-07-28         0   \n1      1           5  0013j00002z0CeEAAU  2020-07-28         0   \n2      2           6  0013j00002z0CeEAAU  2020-07-28         0   \n3      3           7  0013j00002zQgldAAC  2020-08-28         1   \n4      4           8  0013j00002zQgldAAC  2020-08-28         1   \n\n  shipping_address_city shipping_address_state max_machine  \n0           São Gonçalo                     RJ          T3  \n1           São Gonçalo                     RJ          T3  \n2           São Gonçalo                     RJ          T3  \n3              Itaboraí                     RJ          T1  \n4              Itaboraí                     RJ          T1  ",
                        "text/html": "<div>\n<style scoped>\n    .dataframe tbody tr th:only-of-type {\n        vertical-align: middle;\n    }\n\n    .dataframe tbody tr th {\n        vertical-align: top;\n    }\n\n    .dataframe thead th {\n        text-align: right;\n    }\n</style>\n<table border=\"1\" class=\"dataframe\">\n  <thead>\n    <tr style=\"text-align: right;\">\n      <th></th>\n      <th>index</th>\n      <th>Unnamed: 0</th>\n      <th>accountid</th>\n      <th>date</th>\n      <th>time_tag</th>\n      <th>shipping_address_city</th>\n      <th>shipping_address_state</th>\n      <th>max_machine</th>\n    </tr>\n  </thead>\n  <tbody>\n    <tr>\n      <th>0</th>\n      <td>0</td>\n      <td>4</td>\n      <td>0013j00002z0CeEAAU</td>\n      <td>2020-07-28</td>\n      <td>0</td>\n      <td>São Gonçalo</td>\n      <td>RJ</td>\n      <td>T3</td>\n    </tr>\n    <tr>\n      <th>1</th>\n      <td>1</td>\n      <td>5</td>\n      <td>0013j00002z0CeEAAU</td>\n      <td>2020-07-28</td>\n      <td>0</td>\n      <td>São Gonçalo</td>\n      <td>RJ</td>\n      <td>T3</td>\n    </tr>\n    <tr>\n      <th>2</th>\n      <td>2</td>\n      <td>6</td>\n      <td>0013j00002z0CeEAAU</td>\n      <td>2020-07-28</td>\n      <td>0</td>\n      <td>São Gonçalo</td>\n      <td>RJ</td>\n      <td>T3</td>\n    </tr>\n    <tr>\n      <th>3</th>\n      <td>3</td>\n      <td>7</td>\n      <td>0013j00002zQgldAAC</td>\n      <td>2020-08-28</td>\n      <td>1</td>\n      <td>Itaboraí</td>\n      <td>RJ</td>\n      <td>T1</td>\n    </tr>\n    <tr>\n      <th>4</th>\n      <td>4</td>\n      <td>8</td>\n      <td>0013j00002zQgldAAC</td>\n      <td>2020-08-28</td>\n      <td>1</td>\n      <td>Itaboraí</td>\n      <td>RJ</td>\n      <td>T1</td>\n    </tr>\n  </tbody>\n</table>\n</div>"
                    },
                    "metadata": {}
                }
            ],
            "execution_count": 6
        },
        {
            "cell_type": "markdown",
            "source": [
                "### **2\\. Saber total de linhas do dataframe:**"
            ],
            "metadata": {
                "azdata_cell_guid": "b17931e2-e5e1-4759-a554-ecd17667a1b3",
                "extensions": {
                    "azuredatastudio": {
                        "views": []
                    }
                }
            }
        },
        {
            "cell_type": "code",
            "source": [
                "total1 = len(dataset1)\r\n",
                "print(total1)"
            ],
            "metadata": {
                "azdata_cell_guid": "50b68be4-4583-4f98-b6f5-6226d49a005b",
                "extensions": {
                    "azuredatastudio": {
                        "views": []
                    }
                }
            },
            "outputs": [
                {
                    "name": "stdout",
                    "text": "77489\n",
                    "output_type": "stream"
                }
            ],
            "execution_count": 5
        },
        {
            "cell_type": "code",
            "source": [
                "total2 = len(dataset2)\r\n",
                "print(total2)"
            ],
            "metadata": {
                "azdata_cell_guid": "dbdb84a2-fa84-4857-b8db-8e8b8ceb72fd"
            },
            "outputs": [
                {
                    "output_type": "stream",
                    "name": "stdout",
                    "text": "77489\n"
                }
            ],
            "execution_count": 4
        },
        {
            "cell_type": "markdown",
            "source": [
                "<span style=\"font-size: 16px;\">Os dois dataframes possuem mesmo número de linhas. Vamos juntá-los utilizando o campo 'Unnamed: 0' como chave, o que será importante para implementação do algoritmo Machine Learning e definição das prioridades</span>"
            ],
            "metadata": {
                "azdata_cell_guid": "43d71e06-e9a2-4c77-81d4-67b4290fd8df",
                "extensions": {
                    "azuredatastudio": {
                        "views": []
                    }
                }
            },
            "attachments": {}
        },
        {
            "cell_type": "markdown",
            "source": [
                "### **3\\. Left Join**"
            ],
            "metadata": {
                "azdata_cell_guid": "f6ea6998-4528-4a42-a9b3-055feeaa78e5",
                "extensions": {
                    "azuredatastudio": {
                        "views": []
                    }
                }
            },
            "attachments": {}
        },
        {
            "cell_type": "code",
            "source": [
                "dataset = dataset1.join(dataset2, lsuffix = \"Unnamed: 0\", rsuffix = \"Unnamed: 0\")\r\n",
                "dataset.info()"
            ],
            "metadata": {
                "azdata_cell_guid": "13b3e3f6-cc9c-4fbd-882d-b0167b95ade4"
            },
            "outputs": [
                {
                    "name": "stdout",
                    "text": "<class 'pandas.core.frame.DataFrame'>\nRangeIndex: 77489 entries, 0 to 77488\nData columns (total 19 columns):\n #   Column                  Non-Null Count  Dtype  \n---  ------                  --------------  -----  \n 0   indexUnnamed: 0         77489 non-null  int64  \n 1   Unnamed: 0Unnamed: 0    77489 non-null  int64  \n 2   accountidUnnamed: 0     77489 non-null  object \n 3   Id                      77489 non-null  object \n 4   channelid               77489 non-null  float64\n 5   dateUnnamed: 0          77489 non-null  object \n 6   time_tagUnnamed: 0      77489 non-null  int64  \n 7   tema                    75841 non-null  object \n 8   waitingtime             77489 non-null  float64\n 9   missed                  77489 non-null  bool   \n 10  pq_satisfacao           77489 non-null  int64  \n 11  indexUnnamed: 0         77489 non-null  int64  \n 12  Unnamed: 0Unnamed: 0    77489 non-null  int64  \n 13  accountidUnnamed: 0     77489 non-null  object \n 14  dateUnnamed: 0          77489 non-null  object \n 15  time_tagUnnamed: 0      77489 non-null  int64  \n 16  shipping_address_city   77489 non-null  object \n 17  shipping_address_state  77489 non-null  object \n 18  max_machine             77489 non-null  object \ndtypes: bool(1), float64(2), int64(7), object(9)\nmemory usage: 10.7+ MB\n",
                    "output_type": "stream"
                }
            ],
            "execution_count": 6
        },
        {
            "cell_type": "markdown",
            "source": [
                "Selecionar as colunas"
            ],
            "metadata": {
                "azdata_cell_guid": "95cb33b5-f32f-48d0-b320-7007be15007b"
            },
            "attachments": {}
        },
        {
            "cell_type": "code",
            "source": [
                "dataset.iloc[:, 1]"
            ],
            "metadata": {
                "azdata_cell_guid": "4acd9edc-2ae2-4646-9956-088d475eca0b"
            },
            "outputs": [
                {
                    "output_type": "execute_result",
                    "execution_count": 38,
                    "data": {
                        "text/plain": "0             4\n1             5\n2             6\n3             7\n4             8\n          ...  \n77484    126984\n77485    126985\n77486    126986\n77487    126987\n77488    126988\nName: Unnamed: 0Unnamed: 0, Length: 77489, dtype: int64"
                    },
                    "metadata": {}
                }
            ],
            "execution_count": 38
        },
        {
            "cell_type": "code",
            "source": [
                "primary_key = dataset.iloc[:,1]\r\n",
                "channelID = dataset.iloc[:,4]\r\n",
                "time_tag = dataset.iloc[:,6]\r\n",
                "tema = dataset.iloc[:,7]\r\n",
                "missed = dataset.iloc[:,9]\r\n",
                "shipping_state = dataset.iloc[:,17]\r\n",
                "max_machine = dataset.iloc[:,18]\r\n",
                "pq_satisfacao = dataset.iloc[:,10]\r\n",
                "waiting_time = dataset.iloc[:,8]"
            ],
            "metadata": {
                "azdata_cell_guid": "d46354e1-dac4-40b5-991d-c0d6fcd3b63f",
                "tags": []
            },
            "outputs": [],
            "execution_count": 7
        },
        {
            "cell_type": "code",
            "source": [
                "#dicionário para criar o novo dataframe\r\n",
                "d = {'primary_key': primary_key,\r\n",
                "'channelID': channelID,\r\n",
                "'time_tag': time_tag,\r\n",
                "'tema': tema,\r\n",
                "'missed': missed,\r\n",
                "'shipping_state': shipping_state,\r\n",
                "'max_machine': max_machine,\r\n",
                "'pq_satisfacao': pq_satisfacao,\r\n",
                "'waiting_time': waiting_time}\r\n",
                "\r\n",
                "joined_df = pd.DataFrame(data = d)\r\n",
                "joined_df.head()"
            ],
            "metadata": {
                "azdata_cell_guid": "a88c9986-40f0-4480-86dc-629783ed2a4d"
            },
            "outputs": [
                {
                    "data": {
                        "text/plain": "   primary_key  channelID  time_tag        tema  missed shipping_state  \\\n0            4        2.0         0  Aplicativo   False             RJ   \n1            5        2.0         0     Produto   False             RJ   \n2            6        2.0         1     Produto   False             RJ   \n3            7        2.0         1   Logística   False             RJ   \n4            8        2.0         1      Pedido   False             RJ   \n\n  max_machine  pq_satisfacao  waiting_time  \n0          T3              0          15.0  \n1          T3              0          15.0  \n2          T3              0           1.0  \n3          T1              0           6.0  \n4          T1              0           6.0  ",
                        "text/html": "<div>\n<style scoped>\n    .dataframe tbody tr th:only-of-type {\n        vertical-align: middle;\n    }\n\n    .dataframe tbody tr th {\n        vertical-align: top;\n    }\n\n    .dataframe thead th {\n        text-align: right;\n    }\n</style>\n<table border=\"1\" class=\"dataframe\">\n  <thead>\n    <tr style=\"text-align: right;\">\n      <th></th>\n      <th>primary_key</th>\n      <th>channelID</th>\n      <th>time_tag</th>\n      <th>tema</th>\n      <th>missed</th>\n      <th>shipping_state</th>\n      <th>max_machine</th>\n      <th>pq_satisfacao</th>\n      <th>waiting_time</th>\n    </tr>\n  </thead>\n  <tbody>\n    <tr>\n      <th>0</th>\n      <td>4</td>\n      <td>2.0</td>\n      <td>0</td>\n      <td>Aplicativo</td>\n      <td>False</td>\n      <td>RJ</td>\n      <td>T3</td>\n      <td>0</td>\n      <td>15.0</td>\n    </tr>\n    <tr>\n      <th>1</th>\n      <td>5</td>\n      <td>2.0</td>\n      <td>0</td>\n      <td>Produto</td>\n      <td>False</td>\n      <td>RJ</td>\n      <td>T3</td>\n      <td>0</td>\n      <td>15.0</td>\n    </tr>\n    <tr>\n      <th>2</th>\n      <td>6</td>\n      <td>2.0</td>\n      <td>1</td>\n      <td>Produto</td>\n      <td>False</td>\n      <td>RJ</td>\n      <td>T3</td>\n      <td>0</td>\n      <td>1.0</td>\n    </tr>\n    <tr>\n      <th>3</th>\n      <td>7</td>\n      <td>2.0</td>\n      <td>1</td>\n      <td>Logística</td>\n      <td>False</td>\n      <td>RJ</td>\n      <td>T1</td>\n      <td>0</td>\n      <td>6.0</td>\n    </tr>\n    <tr>\n      <th>4</th>\n      <td>8</td>\n      <td>2.0</td>\n      <td>1</td>\n      <td>Pedido</td>\n      <td>False</td>\n      <td>RJ</td>\n      <td>T1</td>\n      <td>0</td>\n      <td>6.0</td>\n    </tr>\n  </tbody>\n</table>\n</div>"
                    },
                    "metadata": {},
                    "execution_count": 8,
                    "output_type": "execute_result"
                }
            ],
            "execution_count": 8
        },
        {
            "cell_type": "code",
            "source": [
                "joined_df.info()"
            ],
            "metadata": {
                "azdata_cell_guid": "1bc57e10-a363-457d-9808-7474a56d7b3f"
            },
            "outputs": [
                {
                    "name": "stdout",
                    "text": "<class 'pandas.core.frame.DataFrame'>\nRangeIndex: 77489 entries, 0 to 77488\nData columns (total 9 columns):\n #   Column          Non-Null Count  Dtype  \n---  ------          --------------  -----  \n 0   primary_key     77489 non-null  int64  \n 1   channelID       77489 non-null  float64\n 2   time_tag        77489 non-null  int64  \n 3   tema            75841 non-null  object \n 4   missed          77489 non-null  bool   \n 5   shipping_state  77489 non-null  object \n 6   max_machine     77489 non-null  object \n 7   pq_satisfacao   77489 non-null  int64  \n 8   waiting_time    77489 non-null  float64\ndtypes: bool(1), float64(2), int64(3), object(3)\nmemory usage: 4.8+ MB\n",
                    "output_type": "stream"
                }
            ],
            "execution_count": 9
        },
        {
            "cell_type": "markdown",
            "source": [
                "Exportar o dataframe:"
            ],
            "metadata": {
                "azdata_cell_guid": "dda35f17-e3a9-435f-9ba8-67aadc767deb"
            },
            "attachments": {}
        },
        {
            "cell_type": "code",
            "source": [
                "joined_df.to_csv(r\"joined_df.csv\", index = False)"
            ],
            "metadata": {
                "azdata_cell_guid": "8765f9a1-2a8f-4944-a82d-675c87d6d250"
            },
            "outputs": [],
            "execution_count": 10
        },
        {
            "cell_type": "markdown",
            "source": [
                "### **4\\. Encoding: atribuição de valores numéricos às variáveis classificatórias**"
            ],
            "metadata": {
                "azdata_cell_guid": "445a7cce-80e7-4632-9db8-1edf9831ca51",
                "extensions": {
                    "azuredatastudio": {
                        "views": []
                    }
                }
            },
            "attachments": {}
        },
        {
            "cell_type": "markdown",
            "source": [
                "Inicializar variáveis numéricas"
            ],
            "metadata": {
                "azdata_cell_guid": "60b1556e-47c2-4da1-9a40-126001efb390"
            },
            "attachments": {}
        },
        {
            "cell_type": "code",
            "source": [
                "joined_df['tema_encoded'] = 0\r\n",
                "joined_df['missed_encoded'] = 0\r\n",
                "joined_df['shipping_state_encoded'] = 0\r\n",
                "joined_df['max_machine_encoded'] = 0"
            ],
            "metadata": {
                "azdata_cell_guid": "f24ee038-6386-46bb-a260-b993b09a3f98",
                "tags": []
            },
            "outputs": [],
            "execution_count": 50
        },
        {
            "cell_type": "markdown",
            "source": [
                "Tema:\n",
                "\n",
                "<span style=\"color: #a31515;\">\"Aplicativo\" = 1</span>\n",
                "\n",
                "<span style=\"color: #a31515;\">\"Produto\" = 2</span>\n",
                "\n",
                "<span style=\"color: #a31515;\">\"Logística\"= 3</span>\n",
                "\n",
                "<span style=\"color: #a31515;\">\"Pedido\" = 4</span>\n",
                "\n",
                "<span style=\"color: #a31515;\">\"Risco\" = 5</span>\n",
                "\n",
                "<span style=\"color: #a31515;\">\"Feedback\" = 6</span>\n",
                "\n",
                "<span style=\"color: #a31515;\">\"Cadastro\" = 7</span>\n",
                "\n",
                "<span style=\"color: #a31515;\">\"Transação\" = 8</span>\n",
                "\n",
                "<span style=\"color: #a31515;\">\"Transferência\" = 9</span>\n",
                "\n",
                "<span style=\"color: #a31515;\">\"Bandeira\" = 10</span>\n",
                "\n",
                "<span style=\"color: #a31515;\">\"Telecom\" = 11</span>\n",
                "\n",
                "<span style=\"color: #a31515;\">\"Comunicado\" = 12</span>"
            ],
            "metadata": {
                "azdata_cell_guid": "20c06735-d5b4-414d-800b-0e98df52b4cf"
            },
            "attachments": {}
        },
        {
            "cell_type": "code",
            "source": [
                "joined_df.loc[joined_df['tema'] == \"Aplicativo\", 'tema_encoded'] = 1\r\n",
                "joined_df.loc[joined_df['tema']  == \"Produto\", 'tema_encoded'] = 2\r\n",
                "joined_df.loc[joined_df['tema'] == \"Logística\", 'tema_encoded'] = 3\r\n",
                "joined_df.loc[joined_df['tema'] == \"Pedido\", 'tema_encoded'] = 4\r\n",
                "joined_df.loc[joined_df['tema'] == \"Risco\", 'tema_encoded'] = 5\r\n",
                "joined_df.loc[joined_df['tema'] == \"Feedback\", 'tema_encoded'] = 6\r\n",
                "joined_df.loc[joined_df['tema'] == \"Cadastro\", 'tema_encoded'] = 7\r\n",
                "joined_df.loc[joined_df['tema'] == \"Transação\", 'tema_encoded'] = 8\r\n",
                "joined_df.loc[joined_df['tema'] == \"Transferência\", 'tema_encoded'] = 9\r\n",
                "joined_df.loc[joined_df['tema'] == \"Bandeira\", 'tema_encoded'] = 10\r\n",
                "joined_df.loc[joined_df['tema'] == \"Telecom\", 'tema_encoded'] = 11\r\n",
                "joined_df.loc[joined_df['tema'] == \"Comunicado\", 'tema_encoded'] = 12"
            ],
            "metadata": {
                "azdata_cell_guid": "7a98840f-f391-40bb-9882-d3dfa429d011"
            },
            "outputs": [],
            "execution_count": 51
        },
        {
            "cell_type": "markdown",
            "source": [
                "Missed:\n",
                "\n",
                "False = 0\n",
                "\n",
                "True = 1"
            ],
            "metadata": {
                "azdata_cell_guid": "766fbe83-43d8-46a6-9d38-1df55e933a9d"
            },
            "attachments": {}
        },
        {
            "cell_type": "code",
            "source": [
                "joined_df.loc[joined_df['missed'] == False, 'missed_encoded'] = 0\r\n",
                "joined_df.loc[joined_df['missed']  == True, 'missed_encoded'] = 1"
            ],
            "metadata": {
                "azdata_cell_guid": "ae124666-0634-40ec-987c-04a24774a66b",
                "tags": []
            },
            "outputs": [],
            "execution_count": 52
        },
        {
            "cell_type": "markdown",
            "source": [
                "Shipping state"
            ],
            "metadata": {
                "azdata_cell_guid": "23342e43-f368-48b1-a126-1490cb38eb7d"
            },
            "attachments": {}
        },
        {
            "cell_type": "code",
            "source": [
                "#valores possíveis\r\n",
                "joined_df['shipping_state'].unique()"
            ],
            "metadata": {
                "azdata_cell_guid": "69930780-89b2-436a-a4da-35d9474da193"
            },
            "outputs": [
                {
                    "output_type": "execute_result",
                    "execution_count": 53,
                    "data": {
                        "text/plain": "array(['RJ', 'SC', 'MT', 'GO', 'MG', 'AM', 'TO', 'PA', 'PB', 'MA', 'SP',\n       'RS', 'BA', 'CE', 'MS', 'PI', 'PE', 'AC', 'DF', 'AP', 'PR', 'SE',\n       'RR', 'RO', 'ES', 'RN', 'AL'], dtype=object)"
                    },
                    "metadata": {}
                }
            ],
            "execution_count": 53
        },
        {
            "cell_type": "markdown",
            "source": [
                "Encoding do estado"
            ],
            "metadata": {
                "azdata_cell_guid": "1cc80f68-35b3-4c98-81bc-18927faa6110"
            },
            "attachments": {}
        },
        {
            "cell_type": "markdown",
            "source": [
                "```\n",
                "'RJ' = 1, 'SC' = 2, 'MT' = 3, 'GO' = 4, 'MG' = 5, 'AM' = 6, 'TO' = 7, 'PA' = 8, 'PB' = 9, 'MA' = 10, 'SP' = 11,\n",
                "       'RS' = 12, 'BA' = 13, 'CE' = 14, 'MS' = 15, 'PI' = 16, 'PE' = 17, 'AC' = 18, 'DF' = 19, 'AP' = 20, 'PR' = 21, 'SE' = 22,\n",
                "       'RR' = 23, 'RO' = 24, 'ES' = 25, 'RN' = 26, 'AL' = 27\n",
                "```"
            ],
            "metadata": {
                "azdata_cell_guid": "664f1166-2b42-4e3f-b56b-22c363db01eb"
            },
            "attachments": {}
        },
        {
            "cell_type": "code",
            "source": [
                "joined_df.loc[joined_df['shipping_state'] == \"RJ\", 'shipping_state_encoded'] = 1\r\n",
                "joined_df.loc[joined_df['shipping_state'] == 'SC', 'shipping_state_encoded'] = 2\r\n",
                "joined_df.loc[joined_df['shipping_state'] == 'MT', 'shipping_state_encoded'] = 3\r\n",
                "joined_df.loc[joined_df['shipping_state'] == 'GO', 'shipping_state_encoded'] = 4\r\n",
                "joined_df.loc[joined_df['shipping_state'] == 'MG', 'shipping_state_encoded'] = 5\r\n",
                "joined_df.loc[joined_df['shipping_state'] == 'AM', 'shipping_state_encoded'] = 6\r\n",
                "joined_df.loc[joined_df['shipping_state'] == 'TO', 'shipping_state_encoded'] = 7\r\n",
                "joined_df.loc[joined_df['shipping_state'] == 'PA', 'shipping_state_encoded'] = 8\r\n",
                "joined_df.loc[joined_df['shipping_state'] == 'PB', 'shipping_state_encoded'] = 9\r\n",
                "joined_df.loc[joined_df['shipping_state'] == 'MA', 'shipping_state_encoded'] = 10\r\n",
                "joined_df.loc[joined_df['shipping_state'] == 'SP', 'shipping_state_encoded'] = 11\r\n",
                "joined_df.loc[joined_df['shipping_state'] == 'RS', 'shipping_state_encoded'] = 12\r\n",
                "joined_df.loc[joined_df['shipping_state'] == 'BA', 'shipping_state_encoded'] = 13\r\n",
                "joined_df.loc[joined_df['shipping_state'] == 'CE', 'shipping_state_encoded'] = 14\r\n",
                "joined_df.loc[joined_df['shipping_state'] == 'MS', 'shipping_state_encoded'] = 15\r\n",
                "joined_df.loc[joined_df['shipping_state'] == 'PI', 'shipping_state_encoded'] = 16\r\n",
                "joined_df.loc[joined_df['shipping_state'] == 'PE', 'shipping_state_encoded'] = 17\r\n",
                "joined_df.loc[joined_df['shipping_state'] == 'AC', 'shipping_state_encoded'] = 18\r\n",
                "joined_df.loc[joined_df['shipping_state'] == 'DF', 'shipping_state_encoded'] = 19\r\n",
                "joined_df.loc[joined_df['shipping_state'] == 'AP', 'shipping_state_encoded'] = 20\r\n",
                "joined_df.loc[joined_df['shipping_state'] == 'PR', 'shipping_state_encoded'] = 21\r\n",
                "joined_df.loc[joined_df['shipping_state'] == 'SE', 'shipping_state_encoded'] = 22\r\n",
                "joined_df.loc[joined_df['shipping_state'] == 'RR', 'shipping_state_encoded'] = 23\r\n",
                "joined_df.loc[joined_df['shipping_state'] == 'RO', 'shipping_state_encoded'] = 24\r\n",
                "joined_df.loc[joined_df['shipping_state'] == 'ES', 'shipping_state_encoded'] = 25\r\n",
                "joined_df.loc[joined_df['shipping_state'] == \"RN\", 'shipping_state_encoded'] = 26\r\n",
                "joined_df.loc[joined_df['shipping_state'] == \"AL\", 'shipping_state_encoded'] = 27"
            ],
            "metadata": {
                "azdata_cell_guid": "7c7e636e-1ab0-4e34-bd05-366de9f9bd69"
            },
            "outputs": [],
            "execution_count": 54
        },
        {
            "cell_type": "markdown",
            "source": [
                "Max Machine"
            ],
            "metadata": {
                "azdata_cell_guid": "5ec23a16-44ea-4863-b3cf-329311ce40c8"
            },
            "attachments": {}
        },
        {
            "cell_type": "code",
            "source": [
                "#valores possíveis\r\n",
                "joined_df['max_machine'].unique()"
            ],
            "metadata": {
                "azdata_cell_guid": "9de04b24-6b65-4e00-b073-fb3a267effd4"
            },
            "outputs": [
                {
                    "output_type": "execute_result",
                    "execution_count": 55,
                    "data": {
                        "text/plain": "array(['T3', 'T1', 'T2', 'NONE'], dtype=object)"
                    },
                    "metadata": {}
                }
            ],
            "execution_count": 55
        },
        {
            "cell_type": "markdown",
            "source": [
                "Encoding:\n",
                "\n",
                "'T1' = 1\n",
                "\n",
                "'T2' = 2\n",
                "\n",
                "'T3' = 3\n",
                "\n",
                "(Missing Values = None - mantém o valor zero)"
            ],
            "metadata": {
                "azdata_cell_guid": "3404c663-3b1c-4ba9-b447-b0623adf9ea7"
            },
            "attachments": {}
        },
        {
            "cell_type": "code",
            "source": [
                "joined_df.loc[joined_df['max_machine'] == \"T1\", 'max_machine_encoded'] = 1\r\n",
                "joined_df.loc[joined_df['max_machine'] == 'T2', 'max_machine_encoded'] = 2\r\n",
                "joined_df.loc[joined_df['max_machine'] == 'T3', 'max_machine_encoded'] = 3"
            ],
            "metadata": {
                "azdata_cell_guid": "8d949833-532d-47d9-ac25-16d8b8f999f1"
            },
            "outputs": [],
            "execution_count": 56
        },
        {
            "cell_type": "markdown",
            "source": [
                "## **Selecionar apenas as colunas numéricas, para exportação**"
            ],
            "metadata": {
                "azdata_cell_guid": "74d9605b-a238-4699-b8a2-cbd3c0989b82"
            },
            "attachments": {}
        },
        {
            "cell_type": "code",
            "source": [
                "joined_df = joined_df[['channelID', 'time_tag', 'tema_encoded', 'missed_encoded', 'shipping_state_encoded', 'max_machine_encoded', 'pq_satisfacao', 'waiting_time']]\r\n",
                "joined_df.info()"
            ],
            "metadata": {
                "azdata_cell_guid": "c3665841-a119-4ae1-85ab-0cec9f5b6e7a"
            },
            "outputs": [
                {
                    "output_type": "stream",
                    "name": "stdout",
                    "text": "<class 'pandas.core.frame.DataFrame'>\nRangeIndex: 77489 entries, 0 to 77488\nData columns (total 8 columns):\n #   Column                  Non-Null Count  Dtype  \n---  ------                  --------------  -----  \n 0   channelID               77489 non-null  float64\n 1   time_tag                77489 non-null  int64  \n 2   tema_encoded            77489 non-null  int64  \n 3   missed_encoded          77489 non-null  int64  \n 4   shipping_state_encoded  77489 non-null  int64  \n 5   max_machine_encoded     77489 non-null  int64  \n 6   pq_satisfacao           77489 non-null  int64  \n 7   waiting_time            77489 non-null  float64\ndtypes: float64(2), int64(6)\nmemory usage: 4.7 MB\n"
                }
            ],
            "execution_count": 57
        },
        {
            "cell_type": "code",
            "source": [
                "joined_df.head()"
            ],
            "metadata": {
                "azdata_cell_guid": "6f4b5681-8d61-482c-9a4e-efc2c2679e09"
            },
            "outputs": [
                {
                    "output_type": "execute_result",
                    "execution_count": 58,
                    "data": {
                        "text/plain": "   channelID  time_tag  tema_encoded  missed_encoded  shipping_state_encoded  \\\n0        2.0         0             1               0                       1   \n1        2.0         0             2               0                       1   \n2        2.0         1             2               0                       1   \n3        2.0         1             3               0                       1   \n4        2.0         1             4               0                       1   \n\n   max_machine_encoded  pq_satisfacao  waiting_time  \n0                    3              0          15.0  \n1                    3              0          15.0  \n2                    3              0           1.0  \n3                    1              0           6.0  \n4                    1              0           6.0  ",
                        "text/html": "<div>\n<style scoped>\n    .dataframe tbody tr th:only-of-type {\n        vertical-align: middle;\n    }\n\n    .dataframe tbody tr th {\n        vertical-align: top;\n    }\n\n    .dataframe thead th {\n        text-align: right;\n    }\n</style>\n<table border=\"1\" class=\"dataframe\">\n  <thead>\n    <tr style=\"text-align: right;\">\n      <th></th>\n      <th>channelID</th>\n      <th>time_tag</th>\n      <th>tema_encoded</th>\n      <th>missed_encoded</th>\n      <th>shipping_state_encoded</th>\n      <th>max_machine_encoded</th>\n      <th>pq_satisfacao</th>\n      <th>waiting_time</th>\n    </tr>\n  </thead>\n  <tbody>\n    <tr>\n      <th>0</th>\n      <td>2.0</td>\n      <td>0</td>\n      <td>1</td>\n      <td>0</td>\n      <td>1</td>\n      <td>3</td>\n      <td>0</td>\n      <td>15.0</td>\n    </tr>\n    <tr>\n      <th>1</th>\n      <td>2.0</td>\n      <td>0</td>\n      <td>2</td>\n      <td>0</td>\n      <td>1</td>\n      <td>3</td>\n      <td>0</td>\n      <td>15.0</td>\n    </tr>\n    <tr>\n      <th>2</th>\n      <td>2.0</td>\n      <td>1</td>\n      <td>2</td>\n      <td>0</td>\n      <td>1</td>\n      <td>3</td>\n      <td>0</td>\n      <td>1.0</td>\n    </tr>\n    <tr>\n      <th>3</th>\n      <td>2.0</td>\n      <td>1</td>\n      <td>3</td>\n      <td>0</td>\n      <td>1</td>\n      <td>1</td>\n      <td>0</td>\n      <td>6.0</td>\n    </tr>\n    <tr>\n      <th>4</th>\n      <td>2.0</td>\n      <td>1</td>\n      <td>4</td>\n      <td>0</td>\n      <td>1</td>\n      <td>1</td>\n      <td>0</td>\n      <td>6.0</td>\n    </tr>\n  </tbody>\n</table>\n</div>"
                    },
                    "metadata": {}
                }
            ],
            "execution_count": 58
        },
        {
            "cell_type": "markdown",
            "source": [
                "## **Exportar novo dataframe obtido como um arquivo CSV**"
            ],
            "metadata": {
                "azdata_cell_guid": "f79892d2-4325-4c42-b599-3a566e01ad90",
                "extensions": {
                    "azuredatastudio": {
                        "views": []
                    }
                }
            },
            "attachments": {}
        },
        {
            "cell_type": "code",
            "source": [
                "joined_df.to_csv(r\"joined_df_encoded.csv\", index = False)"
            ],
            "metadata": {
                "azdata_cell_guid": "6ccfc7d2-7b29-46e3-924e-db25c6ef38d6",
                "tags": [],
                "extensions": {
                    "azuredatastudio": {
                        "views": []
                    }
                }
            },
            "outputs": [],
            "execution_count": 59
        }
    ]
}