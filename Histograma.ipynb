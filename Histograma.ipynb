{
    "metadata": {
        "kernelspec": {
            "name": "python3",
            "display_name": "Python 3 (ipykernel)",
            "language": "python"
        },
        "language_info": {
            "name": "python",
            "version": "3.8.10",
            "mimetype": "text/x-python",
            "codemirror_mode": {
                "name": "ipython",
                "version": 3
            },
            "pygments_lexer": "ipython3",
            "nbconvert_exporter": "python",
            "file_extension": ".py"
        },
        "celltoolbar": "Tags",
        "extensions": {
            "azuredatastudio": {
                "version": 1,
                "views": []
            }
        }
    },
    "nbformat_minor": 2,
    "nbformat": 4,
    "cells": [
        {
            "cell_type": "code",
            "source": [
                "## Análise de distribuição estatística dos dados - Histograma, normalidade e transformação Box-Cox\n",
                "\n",
                "## CÉLULA 1: Instruções de carregamento do arquivo e bibliotecas a ser importadas\n",
                "\n",
                "\"\"\"\"\n",
                "    Para executar uma CÉLULA, pressione o botão \"Run\" no topo, com a CÉLULA selecionada, ou pressione:\n",
                "    \n",
                "    Shift + Enter\n",
                "\n",
                "-Se seus dados estiverem em um arquivo xlsx utilize a CÉLULA 2\n",
                "\n",
                "-Se seus dados estiverem em um arquivo csv contendo cabeçalhos, utilize a CÉLULA 3\n",
                "\n",
                "-Se seus dados estiverem em um arquivo csv sem cabeçalhos, utilize a CÉLULA 4\n",
                "\n",
                "-Utilize apenas a CÉLULA correta\n",
                "-Substitua o texto entre aspas na variável \"caminho\" pelo endereço do arquivo em sua máquina.\n",
                "\n",
                "EXECUTE ESTA CÉLULA ANTES DE PROSSEGUIR\n",
                "\n",
                "EXECUTE APENAS UMA CÉLULA POR VEZ\n",
                "\n",
                "-Caso deseje apagar a saída de uma célula carregada, mas não deseje carregar uma nova saída, vá à aba superior, escolha o ícone\n",
                "do teclado (open the command palette/ jupyter-notebook command group) e selecione clear cell output.\n",
                "\n",
                "@author: Marco César Prado Soares, MSc.\n",
                "Especialista Lean Six Sigma Master Black Belt, Eng. Químico, MSc. Eng. Mecatrônica (instrumentação) \n",
                "Marco.Soares@br.ey.com; marcosoares.feq@gmail.com\n",
                "\"\"\"\n",
                "import pandas as pd\n",
                "import numpy as np\n",
                "import matplotlib.pyplot as plt"
            ],
            "metadata": {
                "tags": [
                    "CELL_1"
                ],
                "extensions": {
                    "azuredatastudio": {
                        "views": []
                    }
                },
                "azdata_cell_guid": "3e1e22ca-18d7-4959-887f-f92d4a86f2b4"
            },
            "outputs": [],
            "execution_count": 1
        },
        {
            "cell_type": "code",
            "source": [
                "## CÉLULA 3: dados em arquivo csv com cabeçalho\n",
                "\n",
                "caminho1 = \"weekly_app_v2 - beforeChange.csv\"\n",
                "dataset1 = pd.read_csv(caminho1)\n",
                "\n",
                "dataset1\n",
                "#SIGA PARA A CÉLULA 5"
            ],
            "metadata": {
                "tags": [
                    "CELL_3"
                ],
                "extensions": {
                    "azuredatastudio": {
                        "views": []
                    }
                },
                "azdata_cell_guid": "37ed5162-8296-4a97-a1e9-7d9fbd62870d"
            },
            "outputs": [
                {
                    "data": {
                        "text/plain": "          date  count  time_tag  waiting_time  pq_satisfacao\n0   2020-02-24   25.0       0.0     14.160000       4.840000\n1   2020-03-02   41.0       0.0     11.024390       4.195122\n2   2020-03-09   31.0       0.0     11.387097       4.870968\n3   2020-03-16    3.0       0.0     10.666667       3.666667\n4   2020-03-23   29.0       0.0     10.241379       5.172414\n5   2020-03-30   44.0       0.0     11.795455       3.159091\n6   2020-04-06   44.0       0.0     10.659091       4.500000\n7   2020-04-13   51.0       0.0     14.176471       3.843137\n8   2020-04-20   59.0       0.0     12.000000       3.677966\n9   2020-04-27   99.0       0.0     19.878788       3.707071\n10  2020-05-04  146.0       0.0     11.130137       4.205479\n11  2020-05-11  187.0       0.0     23.208556       4.096257\n12  2020-05-18  192.0       0.0     27.541667       3.937500\n13  2020-05-25  199.0       0.0     23.768844       3.879397\n14  2020-06-01  212.0       0.0     46.976415       4.278302\n15  2020-06-08  223.0       0.0     33.856502       4.112108\n16  2020-06-15  309.0       0.0     17.957929       3.728155\n17  2020-06-22  435.0       0.0     21.000000       3.503448\n18  2020-06-29  624.0       0.0     17.597756       0.479167\n19  2020-07-06  568.0       0.0     20.644366       0.000000\n20  2020-07-13  537.0       0.0     18.182495       0.000000\n21  2020-07-20  529.0       0.0     19.752363       0.000000",
                        "text/html": "<div>\n<style scoped>\n    .dataframe tbody tr th:only-of-type {\n        vertical-align: middle;\n    }\n\n    .dataframe tbody tr th {\n        vertical-align: top;\n    }\n\n    .dataframe thead th {\n        text-align: right;\n    }\n</style>\n<table border=\"1\" class=\"dataframe\">\n  <thead>\n    <tr style=\"text-align: right;\">\n      <th></th>\n      <th>date</th>\n      <th>count</th>\n      <th>time_tag</th>\n      <th>waiting_time</th>\n      <th>pq_satisfacao</th>\n    </tr>\n  </thead>\n  <tbody>\n    <tr>\n      <th>0</th>\n      <td>2020-02-24</td>\n      <td>25.0</td>\n      <td>0.0</td>\n      <td>14.160000</td>\n      <td>4.840000</td>\n    </tr>\n    <tr>\n      <th>1</th>\n      <td>2020-03-02</td>\n      <td>41.0</td>\n      <td>0.0</td>\n      <td>11.024390</td>\n      <td>4.195122</td>\n    </tr>\n    <tr>\n      <th>2</th>\n      <td>2020-03-09</td>\n      <td>31.0</td>\n      <td>0.0</td>\n      <td>11.387097</td>\n      <td>4.870968</td>\n    </tr>\n    <tr>\n      <th>3</th>\n      <td>2020-03-16</td>\n      <td>3.0</td>\n      <td>0.0</td>\n      <td>10.666667</td>\n      <td>3.666667</td>\n    </tr>\n    <tr>\n      <th>4</th>\n      <td>2020-03-23</td>\n      <td>29.0</td>\n      <td>0.0</td>\n      <td>10.241379</td>\n      <td>5.172414</td>\n    </tr>\n    <tr>\n      <th>5</th>\n      <td>2020-03-30</td>\n      <td>44.0</td>\n      <td>0.0</td>\n      <td>11.795455</td>\n      <td>3.159091</td>\n    </tr>\n    <tr>\n      <th>6</th>\n      <td>2020-04-06</td>\n      <td>44.0</td>\n      <td>0.0</td>\n      <td>10.659091</td>\n      <td>4.500000</td>\n    </tr>\n    <tr>\n      <th>7</th>\n      <td>2020-04-13</td>\n      <td>51.0</td>\n      <td>0.0</td>\n      <td>14.176471</td>\n      <td>3.843137</td>\n    </tr>\n    <tr>\n      <th>8</th>\n      <td>2020-04-20</td>\n      <td>59.0</td>\n      <td>0.0</td>\n      <td>12.000000</td>\n      <td>3.677966</td>\n    </tr>\n    <tr>\n      <th>9</th>\n      <td>2020-04-27</td>\n      <td>99.0</td>\n      <td>0.0</td>\n      <td>19.878788</td>\n      <td>3.707071</td>\n    </tr>\n    <tr>\n      <th>10</th>\n      <td>2020-05-04</td>\n      <td>146.0</td>\n      <td>0.0</td>\n      <td>11.130137</td>\n      <td>4.205479</td>\n    </tr>\n    <tr>\n      <th>11</th>\n      <td>2020-05-11</td>\n      <td>187.0</td>\n      <td>0.0</td>\n      <td>23.208556</td>\n      <td>4.096257</td>\n    </tr>\n    <tr>\n      <th>12</th>\n      <td>2020-05-18</td>\n      <td>192.0</td>\n      <td>0.0</td>\n      <td>27.541667</td>\n      <td>3.937500</td>\n    </tr>\n    <tr>\n      <th>13</th>\n      <td>2020-05-25</td>\n      <td>199.0</td>\n      <td>0.0</td>\n      <td>23.768844</td>\n      <td>3.879397</td>\n    </tr>\n    <tr>\n      <th>14</th>\n      <td>2020-06-01</td>\n      <td>212.0</td>\n      <td>0.0</td>\n      <td>46.976415</td>\n      <td>4.278302</td>\n    </tr>\n    <tr>\n      <th>15</th>\n      <td>2020-06-08</td>\n      <td>223.0</td>\n      <td>0.0</td>\n      <td>33.856502</td>\n      <td>4.112108</td>\n    </tr>\n    <tr>\n      <th>16</th>\n      <td>2020-06-15</td>\n      <td>309.0</td>\n      <td>0.0</td>\n      <td>17.957929</td>\n      <td>3.728155</td>\n    </tr>\n    <tr>\n      <th>17</th>\n      <td>2020-06-22</td>\n      <td>435.0</td>\n      <td>0.0</td>\n      <td>21.000000</td>\n      <td>3.503448</td>\n    </tr>\n    <tr>\n      <th>18</th>\n      <td>2020-06-29</td>\n      <td>624.0</td>\n      <td>0.0</td>\n      <td>17.597756</td>\n      <td>0.479167</td>\n    </tr>\n    <tr>\n      <th>19</th>\n      <td>2020-07-06</td>\n      <td>568.0</td>\n      <td>0.0</td>\n      <td>20.644366</td>\n      <td>0.000000</td>\n    </tr>\n    <tr>\n      <th>20</th>\n      <td>2020-07-13</td>\n      <td>537.0</td>\n      <td>0.0</td>\n      <td>18.182495</td>\n      <td>0.000000</td>\n    </tr>\n    <tr>\n      <th>21</th>\n      <td>2020-07-20</td>\n      <td>529.0</td>\n      <td>0.0</td>\n      <td>19.752363</td>\n      <td>0.000000</td>\n    </tr>\n  </tbody>\n</table>\n</div>"
                    },
                    "metadata": {},
                    "execution_count": 2,
                    "output_type": "execute_result"
                }
            ],
            "execution_count": 2
        },
        {
            "cell_type": "code",
            "source": [
                "caminho2 = \"weekly_app_v2 - afterChange.csv\"\r\n",
                "dataset2 = pd.read_csv(caminho2)\r\n",
                "\r\n",
                "dataset2"
            ],
            "metadata": {
                "azdata_cell_guid": "0f264a20-ec11-4d45-a1a6-dc3aa38ec1a1"
            },
            "outputs": [
                {
                    "data": {
                        "text/plain": "          date  count  time_tag  waiting_time  pq_satisfacao\n0   2020-07-27  573.0       1.0     11.825480            0.0\n1   2020-08-03  537.0       1.0     18.668529            0.0\n2   2020-08-10  604.0       1.0     21.816225            0.0\n3   2020-08-17  598.0       1.0     12.909699            0.0\n4   2020-08-24  718.0       1.0     12.026462            0.0\n5   2020-08-31  691.0       1.0     10.578871            0.0\n6   2020-09-07  837.0       1.0     18.841099            0.0\n7   2020-09-14  659.0       1.0     15.053111            0.0\n8   2020-09-21  715.0       1.0     11.180420            0.0\n9   2020-09-28  667.0       1.0      8.967016            0.0\n10  2020-10-05  589.0       1.0      9.531409            0.0\n11  2020-10-12  686.0       1.0     10.246356            0.0\n12  2020-10-19  691.0       1.0     10.094067            0.0\n13  2020-10-26  291.0       1.0     13.120275            0.0",
                        "text/html": "<div>\n<style scoped>\n    .dataframe tbody tr th:only-of-type {\n        vertical-align: middle;\n    }\n\n    .dataframe tbody tr th {\n        vertical-align: top;\n    }\n\n    .dataframe thead th {\n        text-align: right;\n    }\n</style>\n<table border=\"1\" class=\"dataframe\">\n  <thead>\n    <tr style=\"text-align: right;\">\n      <th></th>\n      <th>date</th>\n      <th>count</th>\n      <th>time_tag</th>\n      <th>waiting_time</th>\n      <th>pq_satisfacao</th>\n    </tr>\n  </thead>\n  <tbody>\n    <tr>\n      <th>0</th>\n      <td>2020-07-27</td>\n      <td>573.0</td>\n      <td>1.0</td>\n      <td>11.825480</td>\n      <td>0.0</td>\n    </tr>\n    <tr>\n      <th>1</th>\n      <td>2020-08-03</td>\n      <td>537.0</td>\n      <td>1.0</td>\n      <td>18.668529</td>\n      <td>0.0</td>\n    </tr>\n    <tr>\n      <th>2</th>\n      <td>2020-08-10</td>\n      <td>604.0</td>\n      <td>1.0</td>\n      <td>21.816225</td>\n      <td>0.0</td>\n    </tr>\n    <tr>\n      <th>3</th>\n      <td>2020-08-17</td>\n      <td>598.0</td>\n      <td>1.0</td>\n      <td>12.909699</td>\n      <td>0.0</td>\n    </tr>\n    <tr>\n      <th>4</th>\n      <td>2020-08-24</td>\n      <td>718.0</td>\n      <td>1.0</td>\n      <td>12.026462</td>\n      <td>0.0</td>\n    </tr>\n    <tr>\n      <th>5</th>\n      <td>2020-08-31</td>\n      <td>691.0</td>\n      <td>1.0</td>\n      <td>10.578871</td>\n      <td>0.0</td>\n    </tr>\n    <tr>\n      <th>6</th>\n      <td>2020-09-07</td>\n      <td>837.0</td>\n      <td>1.0</td>\n      <td>18.841099</td>\n      <td>0.0</td>\n    </tr>\n    <tr>\n      <th>7</th>\n      <td>2020-09-14</td>\n      <td>659.0</td>\n      <td>1.0</td>\n      <td>15.053111</td>\n      <td>0.0</td>\n    </tr>\n    <tr>\n      <th>8</th>\n      <td>2020-09-21</td>\n      <td>715.0</td>\n      <td>1.0</td>\n      <td>11.180420</td>\n      <td>0.0</td>\n    </tr>\n    <tr>\n      <th>9</th>\n      <td>2020-09-28</td>\n      <td>667.0</td>\n      <td>1.0</td>\n      <td>8.967016</td>\n      <td>0.0</td>\n    </tr>\n    <tr>\n      <th>10</th>\n      <td>2020-10-05</td>\n      <td>589.0</td>\n      <td>1.0</td>\n      <td>9.531409</td>\n      <td>0.0</td>\n    </tr>\n    <tr>\n      <th>11</th>\n      <td>2020-10-12</td>\n      <td>686.0</td>\n      <td>1.0</td>\n      <td>10.246356</td>\n      <td>0.0</td>\n    </tr>\n    <tr>\n      <th>12</th>\n      <td>2020-10-19</td>\n      <td>691.0</td>\n      <td>1.0</td>\n      <td>10.094067</td>\n      <td>0.0</td>\n    </tr>\n    <tr>\n      <th>13</th>\n      <td>2020-10-26</td>\n      <td>291.0</td>\n      <td>1.0</td>\n      <td>13.120275</td>\n      <td>0.0</td>\n    </tr>\n  </tbody>\n</table>\n</div>"
                    },
                    "metadata": {},
                    "execution_count": 3,
                    "output_type": "execute_result"
                }
            ],
            "execution_count": 3
        },
        {
            "cell_type": "markdown",
            "source": [
                "# CÉLULA 6: Instruções Gerais\n",
                "\n",
                "### ATENÇÃO: NÃO EXECUTE ESTA CÉLULA - Ela contém apenas texto explicativo\n",
                "\n",
                "Este notebook destina-se à análise de distribuição estatística dos dados, e transformação deles em dados que sigam a distribuição normal. À seguir, são dadas as análises disponíveis. Siga à célula correspondente à análise desejada:\n",
                "\n",
                "## 1) Histograma com ou sem curva normal ajustada\n",
                "\n",
                "- Aqui será construído o histograma dos dados.\n",
                "- Este sistema permite a verificação simultânea da curva normal ajustada.\n",
                "- O resultado pode ser prejudicado para dados com diferenças extremamente pequenas. Neste caso, pode ser mais interessante utilizar o comando de histograma do R (exemplo: hist(y,main=\"Histograma do valor de inventario\", xlab = \"Valor\", ylab = \"Contagem\", col=\"red\"), o qual já é otimizado para esta situação particular.\n",
                "- Também são retornados: \n",
                "    1) um resumo das estatísticas gerais dos dados: total de dados avaliados; média; desvio-padrão; valor mais elevado; valor \n",
                "        mais baixo; e bin size, a largura da barra do histograma.\n",
                "    2) a tabela de frequencias usada na construção do histograma\n",
                "\n",
                "Siga para as CÉLULAS 7 a 9.\n",
                "----------------------------------------\n",
                "\n",
                "_______________________________________________________________________________________________________________________________\n",
                "_______________________________________________________________________________________________________________________________\n",
                "_______________________________________________________________________________________________________________________________\n",
                "\n",
                "## 2) Testes de normalidade\n",
                "\n",
                "- Aqui será avaliado se os dados podem ser descritos por uma distribuição estatística do tipo normal, por meio de dois testes distintos: teste de Lilliefors e teste de Anderson-Darling.\n",
                "- Note que existem outros testes (em especial testes Anderson-Darling) destinados à avaliação de outras distribuições. O pacote nortest do R fornece uma gama de testes deste tipo, em variedade maior que o disponibilizado no pacote statsmodels do Python.\n",
                "- Este sistema retornará dois dataframes contendo p-valores, a probabilidade de uma hipótese-nula ser verdadeira. Neste caso, a hipótese-nula dos testes de hipótese (Lilliefors e Anderson-Darling) é que os dados seguem a normal.\n",
                "\n",
                "Siga para as CÉLULAS 10 a 12.\n",
                "----------------------------------------\n",
                "\n",
                "_______________________________________________________________________________________________________________________________\n",
                "_______________________________________________________________________________________________________________________________\n",
                "_______________________________________________________________________________________________________________________________\n",
                "\n",
                "## 3) Transformação Box-Cox\n",
                "\n",
                "- Este sistema transforma o conjunto de dados original em dados descritos pela curva normal.\n",
                "- Também os limites de especificação transformados.\n",
                "- Possibilita, assim, que seja analisado se os dados estão dentro das especificações.\n",
                "\n",
                "Siga para as CÉLULAS 13 a 15.\n",
                "----------------------------------------"
            ],
            "metadata": {
                "tags": [
                    "CELL_6"
                ],
                "extensions": {
                    "azuredatastudio": {
                        "views": []
                    }
                },
                "azdata_cell_guid": "4bbdb1b8-388d-4145-8fd2-6002523a0b8a"
            }
        },
        {
            "cell_type": "code",
            "source": [
                "## CÉLULA 7: Função de construção do histograma dos dados\n",
                "\n",
                "#Execute esta CÉLULA para carregar a função\n",
                "\n",
                "def histogram(y, largura_da_barra, normal_curve_overlay = True, legenda_dos_dados = None, titulo_y = None, titulo_histograma = None):\n",
                "    \n",
                "    import pandas as pd\n",
                "    import matplotlib\n",
                "    import numpy as np\n",
                "    import matplotlib.pyplot as plt\n",
                "    \n",
                "    #Calculo do bin size - largura do histograma:\n",
                "    #1: Encontrar o menor (lowest) e o maior (highest) valor dentro da tabela de dados)\n",
                "    #2: Calcular rangehist = highest - lowest\n",
                "    #3: Calcular quantidade de dados (samplesize) de entrada fornecidos\n",
                "    #4: Calcular a quantidade de celulas da tabela de frequencias (ncells)\n",
                "    #ncells = numero inteiro mais proximo da (raiz quadrada de samplesize)\n",
                "    #5: Calcular binsize = rangehist/(ncells)\n",
                "    #ATENCAO: Nao se esquecer de converter range, ncells, samplesize e binsize para valores absolutos (modulos)\n",
                "    #isso porque a largura do histograma tem que ser um numero positivo\n",
                "\n",
                "    y = y.reset_index(drop=True)\n",
                "    #faz com que os indices desta serie sejam consecutivos e a partir de zero\n",
                "\n",
                "    #Estatisticas gerais: media (mu) e desvio-padrao (sigma)\n",
                "    mu = y.mean() \n",
                "    sigma = y.std() \n",
                "\n",
                "    #Calculo do bin-size\n",
                "    highest = y.max()\n",
                "    lowest = y.min()\n",
                "    rangehist = highest - lowest\n",
                "    rangehist = abs(rangehist)\n",
                "    #garante que sera um numero positivo\n",
                "    samplesize = y.count() #contagem do total de entradas\n",
                "    ncells = (samplesize)**0.5 #potenciacao: ** - raiz quadrada de samplesize\n",
                "    #resultado da raiz quadrada e sempre positivo\n",
                "    ncells = round(ncells) #numero \"redondo\" mais proximo\n",
                "    ncells = int(ncells) #parte inteira do numero arredondado\n",
                "    #ncells = numero de linhas da tabela de frequencias\n",
                "    binsize = rangehist/ncells\n",
                "    binsize = round(binsize)\n",
                "    binsize = int(binsize) #precisa ser inteiro\n",
                "    \n",
                "    #Construcao da tabela de frequencias\n",
                "\n",
                "    j = 0 #indice da tabela de frequencias\n",
                "    #Este indice e diferente do ordenamento dos valores em ordem crescente\n",
                "    xhist = []\n",
                "    #Lista vazia que contera os x do histograma\n",
                "    yhist = []\n",
                "    #Listas vazia que conteras o y do histograma\n",
                "    hist_labels = []\n",
                "    #Esta lista gravara os limites da barra na forma de strings\n",
                "\n",
                "    pontomediodabarra = lowest + binsize/2 \n",
                "    limitedabarra = lowest + binsize\n",
                "    #ponto medio da barra \n",
                "    #limite da primeira barra do histograma\n",
                "    seriedohist1 = y\n",
                "    seriedohist1 = seriedohist1.sort_values(ascending=True)\n",
                "    #serie com os valores em ordem crescente\n",
                "    seriedohist1 = seriedohist1.reset_index(drop=True)\n",
                "    #garante que a nova serie tenha indices consecutivos, iniciando em zero\n",
                "    i = 0 #linha inicial da serie do histograma em ordem crescente\n",
                "    valcomparado = seriedohist1[i]\n",
                "    #primeiro valor da serie, o mais baixo\n",
                "\n",
                "    while (j <= (ncells-1)):\n",
                "        \n",
                "        #para quando termina o numero de linhas da tabela\n",
                "        xhist.append(pontomediodabarra)\n",
                "        #tempo da tabela de frequencias\n",
                "        cont = 0\n",
                "        #variavel de contagem do histograma\n",
                "        #contagem deve ser reiniciada\n",
                "       \n",
                "        if (i < samplesize):\n",
                "            #2 condicionais para impedir que um termo de indice inexistente\n",
                "            #seja acessado\n",
                "            while (valcomparado <= limitedabarra) and (valcomparado < highest):\n",
                "                #o segundo criterio garante a parada em casos em que os dados sao\n",
                "                #muito proximos\n",
                "                    cont = cont + 1 #adiciona contagem a tabela de frequencias\n",
                "                    i = i + 1\n",
                "                    \n",
                "                    if (i < samplesize): \n",
                "                        valcomparado = seriedohist1[i]\n",
                "        \n",
                "        yhist.append(cont) #valor de ocorrencias contadas\n",
                "        \n",
                "        limite_infdabarra = pontomediodabarra - binsize/2\n",
                "        rotulo = \"%.2f - %.2f\" %(limite_infdabarra, limitedabarra)\n",
                "        #intervalo da tabela de frequencias\n",
                "        #%.2f: 2 casas decimais de aproximação\n",
                "        hist_labels.append(rotulo)\n",
                "        \n",
                "        pontomediodabarra = pontomediodabarra + binsize\n",
                "        #tanto os pontos medios quanto os limites se deslocam do mesmo intervalo\n",
                "        \n",
                "        limitedabarra = limitedabarra + binsize\n",
                "        #proxima barra\n",
                "        \n",
                "        j = j + 1\n",
                "    \n",
                "    #Temos que verificar se o valor maximo foi incluido\n",
                "    #isso porque o processo de aproximacao por numero inteiro pode ter\n",
                "    #arredondado para baixo e excluido o limite superior\n",
                "    #Porem, note que na ultima iteracao o limite superior da barra foi \n",
                "    #somado de binsize, mas como j ja e maior que ncells-1, o loop parou\n",
                "    \n",
                "    #assim, o limitedabarra nesse momento e o limite da barra que seria\n",
                "    #construida em seguida, nao da ultima barra da tabela de frequencias\n",
                "    #isso pode fazer com que esta barra ja seja maior que o highest\n",
                "    \n",
                "    #note porem que nao aumentamos o valor do limite inferior da barra\n",
                "    #por isso, basta vermos se ele mais o binsize sao menores que o valor mais alto\n",
                "    \n",
                "    \n",
                "    while ((limite_infdabarra+binsize) < highest):\n",
                "        \n",
                "        #vamos criar novas linhas ate que o ponto mais alto do histograma\n",
                "        #tenha sido contado\n",
                "        ncells = ncells + 1 #adiciona uma linha a tabela de frequencias\n",
                "        xhist.append(pontomediodabarra)\n",
                "        \n",
                "        cont = 0 #variavel de contagem do histograma\n",
                "        \n",
                "        while (valcomparado <= limitedabarra):\n",
                "                cont = cont + 1 #adiciona contagem a tabela de frequencias\n",
                "                i = i + 1\n",
                "                if (i < samplesize):\n",
                "                    valcomparado = seriedohist1[i]\n",
                "                    #apenas se i ainda nao e maior que o total de dados\n",
                "                \n",
                "                else: \n",
                "                    \n",
                "                    break\n",
                "        \n",
                "        #parar o loop se i atingiu um tamanho maior que a quantidade \n",
                "        #de dados.Temos que ter este cuidado porque estamos acrescentando\n",
                "        #mais linhas a tabela de frequencias para corrigir a aproximacao\n",
                "        #de ncells por um numero inteiro\n",
                "        \n",
                "        yhist.append(cont) #valor de ocorrencias contadas\n",
                "        \n",
                "        limite_infdabarra = pontomediodabarra - binsize/2\n",
                "        rotulo = \"%.2f - %.2f\" %(limite_infdabarra, limitedabarra)\n",
                "        #intervalo da tabela de frequencias - 2 casas decimais\n",
                "        hist_labels.append(rotulo)\n",
                "        \n",
                "        pontomediodabarra = pontomediodabarra + binsize\n",
                "        #tanto os pontos medios quanto os limites se deslocam do mesmo intervalo\n",
                "        \n",
                "        limitedabarra = limitedabarra + binsize\n",
                "        #proxima barra\n",
                "        \n",
                "    estatisticas_col1 = []\n",
                "    #contera as descricoes das colunas da tabela de estatisticas gerais\n",
                "    estatisticas_col2 = []\n",
                "    #contera os valores da tabela de estatisticas gerais\n",
                "    \n",
                "    estatisticas_col1.append(\"Total de dados avaliados\")\n",
                "    estatisticas_col2.append(samplesize)\n",
                "    estatisticas_col1.append(\"Média (mu)\")\n",
                "    estatisticas_col2.append(mu)\n",
                "    estatisticas_col1.append(\"Desvio-padrão (sigma)\")\n",
                "    estatisticas_col2.append(sigma)\n",
                "    estatisticas_col1.append(\"Valor mais elevado\")\n",
                "    estatisticas_col2.append(highest)\n",
                "    estatisticas_col1.append(\"Valor mais baixo\")\n",
                "    estatisticas_col2.append(lowest)\n",
                "    estatisticas_col1.append(\"Range dos dados\\n(valor máximo - valor mínimo)\")\n",
                "    estatisticas_col2.append(rangehist)\n",
                "    estatisticas_col1.append(\"Bin size\\n(largura da barra do histograma)\")\n",
                "    estatisticas_col2.append(binsize)\n",
                "    estatisticas_col1.append(\"Quantidade de linhas\\nna tabela de frequências\")\n",
                "    estatisticas_col2.append(ncells)\n",
                "    #como o comando append grava linha a linha em sequencia, garantimos\n",
                "    #a correspondencia das colunas\n",
                "    #Assim como em qualquer string, incluindo de rotulos de graficos\n",
                "    #os \\n sao lidos como quebra de linha\n",
                "    \n",
                "    d1 = {\"Estatísticas gerais dos dados\": estatisticas_col1, \"Valor calculado\": estatisticas_col2}\n",
                "    #dicionario das duas series, para criar o dataframe com as descricoes\n",
                "    estatisticas_gerais = pd.DataFrame(data = d1)\n",
                "    \n",
                "    #Casos os títulos estejam presentes (valor nao e None):\n",
                "    #vamos utiliza-los\n",
                "    #Caso contrario, vamos criar nomenclaturas genericas para o histograma\n",
                "    \n",
                "    eixo_y = \"Counting/Frequency\"\n",
                "    \n",
                "    if not (legenda_dos_dados is None):\n",
                "        xlabel = legenda_dos_dados\n",
                "    \n",
                "    else:\n",
                "        xlabel = \"Frequency\\n table data\"\n",
                "    \n",
                "    if not (titulo_y is None):\n",
                "        eixo_x = titulo_y\n",
                "        #lembre-se que no histograma, os dados originais vao pro eixo X\n",
                "        #O eixo Y vira o eixo da contagem/frequencia daqueles dados\n",
                "    \n",
                "    else:\n",
                "        eixo_x = \"X: Mean value of the interval\"\n",
                "    \n",
                "    if not (titulo_histograma is None):\n",
                "        string1 = \"- $\\mu = %.2f$, $\\sigma = %.2f$\" %(mu, sigma)\n",
                "        main_label = titulo_histograma + string1\n",
                "        #concatena a string do titulo a string com a media e desvio-padrao\n",
                "        #%.2f: o numero entre %. e f indica a quantidade de casas decimais da \n",
                "        #variavel float f. No caso, arredondamos para 2 casas\n",
                "        #NAO SE ESQUECA DO PONTO: ele que indicara que sera arredondado o \n",
                "        #numero de casas\n",
                "    \n",
                "    else:\n",
                "        main_label = \"Data Histogram - $\\mu = %.2f$, $\\sigma = %.2f$\" %(mu, sigma)\n",
                "        #os simbolos $\\ $ substituem o simbolo pela letra grega\n",
                "    \n",
                "    d2 = {\"Intervalos considerados\": hist_labels, eixo_x: xhist, eixo_y: yhist}\n",
                "    #dicionario que compoe a tabela de frequencias\n",
                "    tab_frequencias = pd.DataFrame(data = d2)\n",
                "    #cria a tabela de frequencias como um dataframe de saida\n",
                "    \n",
                "    \"\"\"\n",
                "    Normal curve equation\n",
                "    \n",
                "    y = p(X) = (1/((sigma)*sqrt(2*pi)))*exp((-1)*(X-mu)²/2(sigma²))\n",
                "    0 <= p(X) <= 1\n",
                "    mu = mean value of X\n",
                "    sigma = standard deviation of X\n",
                "    sqrt = square root function\n",
                "    pi = 3.14159...\n",
                "    e = 2.71828...\n",
                "    exp = e** = e^ = exponential function\n",
                "    \n",
                "    numpy functions available:\n",
                "        np.sqrt(X): square root of X\n",
                "        np.pi = value of pi\n",
                "        np.exp(X) = exponential function of X = e**X = e^X = exp(X)\n",
                "    \n",
                "    \"\"\"\n",
                "    #parametros da normal ja calculados:\n",
                "    #mu e sigma\n",
                "    #numero de bins: ncells\n",
                "    #limites de especificacao: lsl,usl - target\n",
                "    \n",
                "    #valor maximo do histograma\n",
                "    max_hist = max(yhist)\n",
                "    #seleciona o valor maximo da serie, para ajustar a curva normal\n",
                "    #isso porque a normal é criada com valores entre 0 e 1\n",
                "    #multiplicando ela por max_hist, fazemos ela se adequar a altura do histograma\n",
                "    \n",
                "    if (normal_curve_overlay == True):\n",
                "        \n",
                "        #construir a normal ajustada/esperada\n",
                "        #vamos criar pontos ao redor da media mu - 4sigma ate mu + 4sigma, \n",
                "        #de modo a garantir a quase totalidade da curva normal. \n",
                "        #O incremento será de 0.10 sigma a cada iteracao\n",
                "        x_inf = mu -(4)*sigma\n",
                "        x_sup = mu + 4*sigma\n",
                "        x_inc = (0.10)*sigma\n",
                "        \n",
                "        x_normal_adj = []\n",
                "        y_normal_adj = []\n",
                "        \n",
                "        x_adj = x_inf\n",
                "        y_adj = ((1 / (np.sqrt(2 * np.pi) * sigma)) *np.exp(-0.5 * (1 / sigma * (x_adj - mu))**2))\n",
                "        x_normal_adj.append(x_adj)\n",
                "        y_normal_adj.append(y_adj)\n",
                "        \n",
                "        while(x_adj < x_sup): \n",
                "            \n",
                "            x_adj = x_adj + x_inc\n",
                "            y_adj = ((1 / (np.sqrt(2 * np.pi) * sigma)) *np.exp(-0.5 * (1 / sigma * (x_adj - mu))**2))\n",
                "            x_normal_adj.append(x_adj)\n",
                "            y_normal_adj.append(y_adj)\n",
                "        \n",
                "        #vamos ajustar a altura da curva ao histograma. Para isso, precisamos\n",
                "        #calcular quantas vezes o ponto mais alto do histograma é maior que o ponto\n",
                "        #mais alto da normal (chamaremos essa relação de fator). A seguir,\n",
                "        #multiplicamos cada elemento da normal por este mesmo fator\n",
                "        max_normal = max(y_normal_adj) \n",
                "        #maximo da normal ajustada, numero entre 0 e 1\n",
                "        \n",
                "        fator = (max_hist)/(max_normal)\n",
                "        size_normal = len(y_normal_adj) #quantidade de dados criados\n",
                "        \n",
                "        i = 0\n",
                "        while (i < size_normal):\n",
                "            y_normal_adj[i] = (y_normal_adj[i])*(fator)\n",
                "            i = i + 1\n",
                "    \n",
                "    #Fazer o grafico\n",
                "    fig, ax = plt.subplots()\n",
                "    \n",
                "    ax.bar(xhist, yhist, width = largura_da_barra, label=xlabel, color='blue')\n",
                "    #ajuste manualmente a largura, width, para deixar as barras mais ou menos proximas\n",
                "    \n",
                "    if (normal_curve_overlay == True):\n",
                "    \n",
                "        #adicionar a normal\n",
                "        ax.plot(x_normal_adj, y_normal_adj, color = 'black', label = 'Adjusted/expected\\n normal curve')\n",
                "    \n",
                "    ax.set_xlabel(eixo_x)\n",
                "    ax.set_ylabel(eixo_y)\n",
                "    ax.set_title(main_label)\n",
                "    ax.set_xticks(xhist)\n",
                "    \n",
                "    ax.legend()\n",
                "    ax.grid(True) #mude para False, caso não deseje ver as linhas de grade\n",
                "    \n",
                "    fig.tight_layout()\n",
                "    plt.show()\n",
                "\n",
                "    return estatisticas_gerais, tab_frequencias"
            ],
            "metadata": {
                "tags": [
                    "CELL_7"
                ],
                "extensions": {
                    "azuredatastudio": {
                        "views": []
                    }
                },
                "azdata_cell_guid": "950598b6-2e12-44f9-abcf-5110a4ca51ad"
            },
            "outputs": [],
            "execution_count": 4
        },
        {
            "cell_type": "markdown",
            "source": [
                "# CÉLULA 8: Função para construção do histograma e da tabela de frequência dos dados\n",
                "\n",
                "### ATENÇÃO: NÃO EXECUTE ESTA CÉLULA - Ela contém apenas texto explicativo    \n",
                "    \n",
                "INSTRUÇÕES:\n",
                "\n",
                "1) Esta função retorna 2 dataframes:\n",
                "    \n",
                "    1) dataframe estatisticas_gerais, um resumo das estatísticas gerais dos dados: total de dados avaliados; média; desvio-padrão; valor mais elevado; valor mais baixo; e bin size, a largura da barra do histograma.\n",
                "    \n",
                "    2) dataframe tab_frequencias, que mostra a tabela de frequencias usada na construção do histograma\n",
                "\n",
                "2) Os parâmetros x e y da função devem ser apenas listas, não dataframe(s)\n",
                "\n",
                "3) Esta função retorna 2 dataframes. Deste modo, você precisa chamar 2 daframes, não apenas um.\n",
                "\n",
                "Exemplo: caso deseje salvar o dataframe estatisticas_gerais em df1,  e o dataframe tab_frequencias em df2, e os dados estão na variável y:\n",
                "    \n",
                "       df1, df2 = histogram(y, largura_da_barra = 10, normal_curve_overlay = True, legenda_dos_dados = None, titulo_y = None, titulo_histograma = None)\n",
                "    \n",
                "Note que o primeiro será sempre estatisticas_gerais, e o segundo será tab_frequencias\n",
                "\n",
                "Você pode dar outros nomes para os dataframes chamados:\n",
                "   \n",
                "       estatisticas_gerais, tab_frequencias = histogram(y, largura_da_barra = 10, normal_curve_overlay = True, legenda_dos_dados = None, titulo_y = None, titulo_histograma = None)\n",
                "\n",
                "4) Caso QUEIRA mostrar a curva normal ajustada, mantenha:\n",
                "    \n",
                "        normal_curve_overlay = True\n",
                "\n",
                "CASO NAO QUEIRA MOSTRAR A NORMAL:\n",
                "    \n",
                "        normal_curve_overlay = False\n",
                "\n",
                "5) Altere o valor de largura_da_barra até conseguir ver o histograma de forma clara\n",
                "    \n",
                "6) Os demais parâmetros são textos (strings). Declare-os entre aspas ou mantenha o valor None\n",
                "    \n",
                "##### NOTA: ESTE ALGORITMO PODE FALHAR CASO TODOS OS DADOS SEJAM MUITO PRÓXIMOS. \n",
                "\n",
                "Isso porque a largura ncells teria de ser tão larga que uma única barra englobaria todos os dados. Além disso, principalmente quando se usa a transformação Box-Cox, a diferença entre os dados transformados pode ser baixa demais para que a memória \n",
                "disponível no sistema identifique eles como números efetivamente diferentes (no arredondamento, eles passam a ser considerados iguais, fazendo com que o loop de comparação que verifica se um dado está numa barra ou na seguinte não possa ser finalizado. Isto gera MemoryError).\n",
                "\n",
                "CASO QUEIRA, mesmo assim, CONSTRUIR O HISTOGRAMA, apague as linhas de cálculo do bin size (de binsize = rangehist/ncells até binsize = int(binsize)) e substitua por um valor desejado de binsize. Por exemplo, substitua as linhas por:\n",
                "    \n",
                "    binsize = 10\n",
                "\n",
                "Assim, você definirá manualmente o tamanho da barra, podendo \"esticá-la\" para englobar todos os dados."
            ],
            "metadata": {
                "tags": [
                    "CELL_8"
                ],
                "extensions": {
                    "azuredatastudio": {
                        "views": []
                    }
                },
                "azdata_cell_guid": "c177dc82-398f-41fd-8b84-b6ef8e5da731"
            }
        },
        {
            "cell_type": "code",
            "source": [
                "## CÉLULA 9: CONSTRUÇÃO DO HISTOGRAMA PARA SEUS DADOS\n",
                "\n",
                "#DEFINA A VARIAVEL y para a qual será construído o histograma. \n",
                "#Basta substituir o valor entre aspas pelo nome da coluna onde está Y:\n",
                "\n",
                "y = dataset1['count']\n",
                "\n",
                "#NOTA: o valor y necessariamente deve ser uma série.\n",
                "\n",
                "estatisticas_gerais_antes_count, tab_frequencias_antes_count = histogram(y = y, largura_da_barra = 110, normal_curve_overlay = False, legenda_dos_dados = None, titulo_y = None, titulo_histograma = None)\n",
                "\n",
                "# Altere manualmente o valor numérico da largura_da_barra do histograma até alcançar um espaçamento mínimo entre barras\n",
                "#consecutivas. O valor da largura da barra depende de cada conjunto particular de dados utilizado.\n",
                "\n",
                "\"\"\"\n",
                "Substitua os demais campos None de acordo com as instruções dadas na CÉLULA 8.\n",
                "- Os títulos e legendas devem ser fornecidos como um texto entre aspas.\n",
                "- Modifique normal_curve_overlay = True para normal_curve_overlay = False caso não deseje ver a normal sobreposta.\n",
                "\n",
                "\"\"\"\n",
                "\n",
                "estatisticas_gerais_antes_count.to_csv(r\"estatisticas_gerais_antes_count.csv\", index = False)\n",
                "\n",
                "tab_frequencias_antes_count.to_csv(r\"tab_frequencias_antes_count.csv\", index = False)\n",
                ""
            ],
            "metadata": {
                "tags": [
                    "CELL_9"
                ],
                "extensions": {
                    "azuredatastudio": {
                        "views": []
                    }
                },
                "azdata_cell_guid": "1c0d64f1-8708-4345-a5c7-b7851866c7b3"
            },
            "outputs": [
                {
                    "data": {
                        "text/plain": "<Figure size 432x288 with 1 Axes>",
                        "image/png": "[encoded data removed]"
                    },
                    "metadata": {
                        "needs_background": "light"
                    },
                    "output_type": "display_data"
                }
            ],
            "execution_count": 9
        },
        {
            "cell_type": "code",
            "source": [
                "estatisticas_gerais_antes_count"
            ],
            "metadata": {
                "azdata_cell_guid": "1c60353f-6156-4f81-83ba-c8b39622f33c"
            },
            "outputs": [
                {
                    "data": {
                        "text/plain": "                    Estatísticas gerais dos dados  Valor calculado\n0                        Total de dados avaliados        22.000000\n1                                      Média (mu)       208.500000\n2                           Desvio-padrão (sigma)       202.345944\n3                              Valor mais elevado       624.000000\n4                                Valor mais baixo         3.000000\n5  Range dos dados\\n(valor máximo - valor mínimo)       621.000000\n6      Bin size\\n(largura da barra do histograma)       124.000000\n7  Quantidade de linhas\\nna tabela de frequências         6.000000",
                        "text/html": "<div>\n<style scoped>\n    .dataframe tbody tr th:only-of-type {\n        vertical-align: middle;\n    }\n\n    .dataframe tbody tr th {\n        vertical-align: top;\n    }\n\n    .dataframe thead th {\n        text-align: right;\n    }\n</style>\n<table border=\"1\" class=\"dataframe\">\n  <thead>\n    <tr style=\"text-align: right;\">\n      <th></th>\n      <th>Estatísticas gerais dos dados</th>\n      <th>Valor calculado</th>\n    </tr>\n  </thead>\n  <tbody>\n    <tr>\n      <th>0</th>\n      <td>Total de dados avaliados</td>\n      <td>22.000000</td>\n    </tr>\n    <tr>\n      <th>1</th>\n      <td>Média (mu)</td>\n      <td>208.500000</td>\n    </tr>\n    <tr>\n      <th>2</th>\n      <td>Desvio-padrão (sigma)</td>\n      <td>202.345944</td>\n    </tr>\n    <tr>\n      <th>3</th>\n      <td>Valor mais elevado</td>\n      <td>624.000000</td>\n    </tr>\n    <tr>\n      <th>4</th>\n      <td>Valor mais baixo</td>\n      <td>3.000000</td>\n    </tr>\n    <tr>\n      <th>5</th>\n      <td>Range dos dados\\n(valor máximo - valor mínimo)</td>\n      <td>621.000000</td>\n    </tr>\n    <tr>\n      <th>6</th>\n      <td>Bin size\\n(largura da barra do histograma)</td>\n      <td>124.000000</td>\n    </tr>\n    <tr>\n      <th>7</th>\n      <td>Quantidade de linhas\\nna tabela de frequências</td>\n      <td>6.000000</td>\n    </tr>\n  </tbody>\n</table>\n</div>"
                    },
                    "metadata": {},
                    "execution_count": 10,
                    "output_type": "execute_result"
                }
            ],
            "execution_count": 10
        },
        {
            "cell_type": "code",
            "source": [
                "tab_frequencias_antes_count"
            ],
            "metadata": {
                "azdata_cell_guid": "ec9f2e88-9365-4662-b680-c9a63fc10c69"
            },
            "outputs": [
                {
                    "data": {
                        "text/plain": "  Intervalos considerados  X: Mean value of the interval  Counting/Frequency\n0           3.00 - 127.00                           65.0                  10\n1         127.00 - 251.00                          189.0                   6\n2         251.00 - 375.00                          313.0                   1\n3         375.00 - 499.00                          437.0                   1\n4         499.00 - 623.00                          561.0                   3\n5         623.00 - 747.00                          685.0                   1",
                        "text/html": "<div>\n<style scoped>\n    .dataframe tbody tr th:only-of-type {\n        vertical-align: middle;\n    }\n\n    .dataframe tbody tr th {\n        vertical-align: top;\n    }\n\n    .dataframe thead th {\n        text-align: right;\n    }\n</style>\n<table border=\"1\" class=\"dataframe\">\n  <thead>\n    <tr style=\"text-align: right;\">\n      <th></th>\n      <th>Intervalos considerados</th>\n      <th>X: Mean value of the interval</th>\n      <th>Counting/Frequency</th>\n    </tr>\n  </thead>\n  <tbody>\n    <tr>\n      <th>0</th>\n      <td>3.00 - 127.00</td>\n      <td>65.0</td>\n      <td>10</td>\n    </tr>\n    <tr>\n      <th>1</th>\n      <td>127.00 - 251.00</td>\n      <td>189.0</td>\n      <td>6</td>\n    </tr>\n    <tr>\n      <th>2</th>\n      <td>251.00 - 375.00</td>\n      <td>313.0</td>\n      <td>1</td>\n    </tr>\n    <tr>\n      <th>3</th>\n      <td>375.00 - 499.00</td>\n      <td>437.0</td>\n      <td>1</td>\n    </tr>\n    <tr>\n      <th>4</th>\n      <td>499.00 - 623.00</td>\n      <td>561.0</td>\n      <td>3</td>\n    </tr>\n    <tr>\n      <th>5</th>\n      <td>623.00 - 747.00</td>\n      <td>685.0</td>\n      <td>1</td>\n    </tr>\n  </tbody>\n</table>\n</div>"
                    },
                    "metadata": {},
                    "execution_count": 11,
                    "output_type": "execute_result"
                }
            ],
            "execution_count": 11
        },
        {
            "cell_type": "code",
            "source": [
                "y = dataset1['waiting_time']\r\n",
                "\r\n",
                "#NOTA: o valor y necessariamente deve ser uma série.\r\n",
                "\r\n",
                "estatisticas_gerais_antes_wait, tab_frequencias_antes_wait = histogram(y = y, largura_da_barra = 6, normal_curve_overlay = False, legenda_dos_dados = None, titulo_y = None, titulo_histograma = None)\r\n",
                "\r\n",
                "# Altere manualmente o valor numérico da largura_da_barra do histograma até alcançar um espaçamento mínimo entre barras\r\n",
                "#consecutivas. O valor da largura da barra depende de cada conjunto particular de dados utilizado.\r\n",
                "\r\n",
                "\"\"\"\r\n",
                "Substitua os demais campos None de acordo com as instruções dadas na CÉLULA 8.\r\n",
                "- Os títulos e legendas devem ser fornecidos como um texto entre aspas.\r\n",
                "- Modifique normal_curve_overlay = True para normal_curve_overlay = False caso não deseje ver a normal sobreposta.\r\n",
                "\r\n",
                "\"\"\"\r\n",
                "\r\n",
                "estatisticas_gerais_antes_wait.to_csv(r\"estatisticas_gerais_antes_wait.csv\", index = False)\r\n",
                "\r\n",
                "tab_frequencias_antes_wait.to_csv(r\"tab_frequencias_antes_wait.csv\", index = False)\r\n",
                ""
            ],
            "metadata": {
                "azdata_cell_guid": "a6105544-f94b-4b67-9bc9-bec2d2049f01"
            },
            "outputs": [
                {
                    "data": {
                        "text/plain": "<Figure size 432x288 with 1 Axes>",
                        "image/png": "[encoded data removed]"
                    },
                    "metadata": {
                        "needs_background": "light"
                    },
                    "output_type": "display_data"
                }
            ],
            "execution_count": 17
        },
        {
            "cell_type": "code",
            "source": [
                "estatisticas_gerais_antes_wait"
            ],
            "metadata": {
                "azdata_cell_guid": "7e1cfee2-1617-490f-9adb-cfdd5d95403d"
            },
            "outputs": [
                {
                    "data": {
                        "text/plain": "                    Estatísticas gerais dos dados  Valor calculado\n0                        Total de dados avaliados        22.000000\n1                                      Média (mu)        18.527562\n2                           Desvio-padrão (sigma)         8.918919\n3                              Valor mais elevado        46.976415\n4                                Valor mais baixo        10.241379\n5  Range dos dados\\n(valor máximo - valor mínimo)        36.735036\n6      Bin size\\n(largura da barra do histograma)         7.000000\n7  Quantidade de linhas\\nna tabela de frequências         6.000000",
                        "text/html": "<div>\n<style scoped>\n    .dataframe tbody tr th:only-of-type {\n        vertical-align: middle;\n    }\n\n    .dataframe tbody tr th {\n        vertical-align: top;\n    }\n\n    .dataframe thead th {\n        text-align: right;\n    }\n</style>\n<table border=\"1\" class=\"dataframe\">\n  <thead>\n    <tr style=\"text-align: right;\">\n      <th></th>\n      <th>Estatísticas gerais dos dados</th>\n      <th>Valor calculado</th>\n    </tr>\n  </thead>\n  <tbody>\n    <tr>\n      <th>0</th>\n      <td>Total de dados avaliados</td>\n      <td>22.000000</td>\n    </tr>\n    <tr>\n      <th>1</th>\n      <td>Média (mu)</td>\n      <td>18.527562</td>\n    </tr>\n    <tr>\n      <th>2</th>\n      <td>Desvio-padrão (sigma)</td>\n      <td>8.918919</td>\n    </tr>\n    <tr>\n      <th>3</th>\n      <td>Valor mais elevado</td>\n      <td>46.976415</td>\n    </tr>\n    <tr>\n      <th>4</th>\n      <td>Valor mais baixo</td>\n      <td>10.241379</td>\n    </tr>\n    <tr>\n      <th>5</th>\n      <td>Range dos dados\\n(valor máximo - valor mínimo)</td>\n      <td>36.735036</td>\n    </tr>\n    <tr>\n      <th>6</th>\n      <td>Bin size\\n(largura da barra do histograma)</td>\n      <td>7.000000</td>\n    </tr>\n    <tr>\n      <th>7</th>\n      <td>Quantidade de linhas\\nna tabela de frequências</td>\n      <td>6.000000</td>\n    </tr>\n  </tbody>\n</table>\n</div>"
                    },
                    "metadata": {},
                    "execution_count": 18,
                    "output_type": "execute_result"
                }
            ],
            "execution_count": 18
        },
        {
            "cell_type": "code",
            "source": [
                "tab_frequencias_antes_wait"
            ],
            "metadata": {
                "azdata_cell_guid": "ed06aaf9-cfa7-4c1c-b01e-06a0efdf176a"
            },
            "outputs": [
                {
                    "data": {
                        "text/plain": "  Intervalos considerados  X: Mean value of the interval  Counting/Frequency\n0           10.24 - 17.24                      13.741379                  10\n1           17.24 - 24.24                      20.741379                   9\n2           24.24 - 31.24                      27.741379                   1\n3           31.24 - 38.24                      34.741379                   1\n4           38.24 - 45.24                      41.741379                   0\n5           45.24 - 52.24                      48.741379                   1",
                        "text/html": "<div>\n<style scoped>\n    .dataframe tbody tr th:only-of-type {\n        vertical-align: middle;\n    }\n\n    .dataframe tbody tr th {\n        vertical-align: top;\n    }\n\n    .dataframe thead th {\n        text-align: right;\n    }\n</style>\n<table border=\"1\" class=\"dataframe\">\n  <thead>\n    <tr style=\"text-align: right;\">\n      <th></th>\n      <th>Intervalos considerados</th>\n      <th>X: Mean value of the interval</th>\n      <th>Counting/Frequency</th>\n    </tr>\n  </thead>\n  <tbody>\n    <tr>\n      <th>0</th>\n      <td>10.24 - 17.24</td>\n      <td>13.741379</td>\n      <td>10</td>\n    </tr>\n    <tr>\n      <th>1</th>\n      <td>17.24 - 24.24</td>\n      <td>20.741379</td>\n      <td>9</td>\n    </tr>\n    <tr>\n      <th>2</th>\n      <td>24.24 - 31.24</td>\n      <td>27.741379</td>\n      <td>1</td>\n    </tr>\n    <tr>\n      <th>3</th>\n      <td>31.24 - 38.24</td>\n      <td>34.741379</td>\n      <td>1</td>\n    </tr>\n    <tr>\n      <th>4</th>\n      <td>38.24 - 45.24</td>\n      <td>41.741379</td>\n      <td>0</td>\n    </tr>\n    <tr>\n      <th>5</th>\n      <td>45.24 - 52.24</td>\n      <td>48.741379</td>\n      <td>1</td>\n    </tr>\n  </tbody>\n</table>\n</div>"
                    },
                    "metadata": {},
                    "execution_count": 19,
                    "output_type": "execute_result"
                }
            ],
            "execution_count": 19
        },
        {
            "cell_type": "code",
            "source": [
                "y = dataset2['count']\r\n",
                "\r\n",
                "#NOTA: o valor y necessariamente deve ser uma série.\r\n",
                "\r\n",
                "estatisticas_gerais_depois_count, tab_frequencias_depois_count = histogram(y = y, largura_da_barra = 115, normal_curve_overlay = True, legenda_dos_dados = None, titulo_y = None, titulo_histograma = None)\r\n",
                "\r\n",
                "# Altere manualmente o valor numérico da largura_da_barra do histograma até alcançar um espaçamento mínimo entre barras\r\n",
                "#consecutivas. O valor da largura da barra depende de cada conjunto particular de dados utilizado.\r\n",
                "\r\n",
                "\"\"\"\r\n",
                "Substitua os demais campos None de acordo com as instruções dadas na CÉLULA 8.\r\n",
                "- Os títulos e legendas devem ser fornecidos como um texto entre aspas.\r\n",
                "- Modifique normal_curve_overlay = True para normal_curve_overlay = False caso não deseje ver a normal sobreposta.\r\n",
                "\r\n",
                "\"\"\"\r\n",
                "\r\n",
                "estatisticas_gerais_depois_count.to_csv(r\"estatisticas_gerais_depois_count.csv\", index = False)\r\n",
                "\r\n",
                "tab_frequencias_depois_count.to_csv(r\"tab_frequencias_depois_count.csv\", index = False)"
            ],
            "metadata": {
                "azdata_cell_guid": "cb1924da-ee7b-4666-a711-8ccfccd8831b"
            },
            "outputs": [
                {
                    "data": {
                        "text/plain": "<Figure size 432x288 with 1 Axes>",
                        "image/png": "[encoded data removed]"
                    },
                    "metadata": {
                        "needs_background": "light"
                    },
                    "output_type": "display_data"
                }
            ],
            "execution_count": 23
        },
        {
            "cell_type": "code",
            "source": [
                "estatisticas_gerais_depois_count"
            ],
            "metadata": {
                "azdata_cell_guid": "5583dedb-4b77-492e-885c-1777671c4b47"
            },
            "outputs": [
                {
                    "data": {
                        "text/plain": "                    Estatísticas gerais dos dados  Valor calculado\n0                        Total de dados avaliados        14.000000\n1                                      Média (mu)       632.571429\n2                           Desvio-padrão (sigma)       124.255762\n3                              Valor mais elevado       837.000000\n4                                Valor mais baixo       291.000000\n5  Range dos dados\\n(valor máximo - valor mínimo)       546.000000\n6      Bin size\\n(largura da barra do histograma)       136.000000\n7  Quantidade de linhas\\nna tabela de frequências         5.000000",
                        "text/html": "<div>\n<style scoped>\n    .dataframe tbody tr th:only-of-type {\n        vertical-align: middle;\n    }\n\n    .dataframe tbody tr th {\n        vertical-align: top;\n    }\n\n    .dataframe thead th {\n        text-align: right;\n    }\n</style>\n<table border=\"1\" class=\"dataframe\">\n  <thead>\n    <tr style=\"text-align: right;\">\n      <th></th>\n      <th>Estatísticas gerais dos dados</th>\n      <th>Valor calculado</th>\n    </tr>\n  </thead>\n  <tbody>\n    <tr>\n      <th>0</th>\n      <td>Total de dados avaliados</td>\n      <td>14.000000</td>\n    </tr>\n    <tr>\n      <th>1</th>\n      <td>Média (mu)</td>\n      <td>632.571429</td>\n    </tr>\n    <tr>\n      <th>2</th>\n      <td>Desvio-padrão (sigma)</td>\n      <td>124.255762</td>\n    </tr>\n    <tr>\n      <th>3</th>\n      <td>Valor mais elevado</td>\n      <td>837.000000</td>\n    </tr>\n    <tr>\n      <th>4</th>\n      <td>Valor mais baixo</td>\n      <td>291.000000</td>\n    </tr>\n    <tr>\n      <th>5</th>\n      <td>Range dos dados\\n(valor máximo - valor mínimo)</td>\n      <td>546.000000</td>\n    </tr>\n    <tr>\n      <th>6</th>\n      <td>Bin size\\n(largura da barra do histograma)</td>\n      <td>136.000000</td>\n    </tr>\n    <tr>\n      <th>7</th>\n      <td>Quantidade de linhas\\nna tabela de frequências</td>\n      <td>5.000000</td>\n    </tr>\n  </tbody>\n</table>\n</div>"
                    },
                    "metadata": {},
                    "execution_count": 24,
                    "output_type": "execute_result"
                }
            ],
            "execution_count": 24
        },
        {
            "cell_type": "code",
            "source": [
                "tab_frequencias_depois_count"
            ],
            "metadata": {
                "azdata_cell_guid": "9366a663-ca61-4781-9ba3-6784e95b79c5"
            },
            "outputs": [
                {
                    "data": {
                        "text/plain": "  Intervalos considerados  X: Mean value of the interval  Counting/Frequency\n0         291.00 - 427.00                          359.0                   1\n1         427.00 - 563.00                          495.0                   1\n2         563.00 - 699.00                          631.0                   9\n3         699.00 - 835.00                          767.0                   2\n4         835.00 - 971.00                          903.0                   1",
                        "text/html": "<div>\n<style scoped>\n    .dataframe tbody tr th:only-of-type {\n        vertical-align: middle;\n    }\n\n    .dataframe tbody tr th {\n        vertical-align: top;\n    }\n\n    .dataframe thead th {\n        text-align: right;\n    }\n</style>\n<table border=\"1\" class=\"dataframe\">\n  <thead>\n    <tr style=\"text-align: right;\">\n      <th></th>\n      <th>Intervalos considerados</th>\n      <th>X: Mean value of the interval</th>\n      <th>Counting/Frequency</th>\n    </tr>\n  </thead>\n  <tbody>\n    <tr>\n      <th>0</th>\n      <td>291.00 - 427.00</td>\n      <td>359.0</td>\n      <td>1</td>\n    </tr>\n    <tr>\n      <th>1</th>\n      <td>427.00 - 563.00</td>\n      <td>495.0</td>\n      <td>1</td>\n    </tr>\n    <tr>\n      <th>2</th>\n      <td>563.00 - 699.00</td>\n      <td>631.0</td>\n      <td>9</td>\n    </tr>\n    <tr>\n      <th>3</th>\n      <td>699.00 - 835.00</td>\n      <td>767.0</td>\n      <td>2</td>\n    </tr>\n    <tr>\n      <th>4</th>\n      <td>835.00 - 971.00</td>\n      <td>903.0</td>\n      <td>1</td>\n    </tr>\n  </tbody>\n</table>\n</div>"
                    },
                    "metadata": {},
                    "execution_count": 25,
                    "output_type": "execute_result"
                }
            ],
            "execution_count": 25
        },
        {
            "cell_type": "code",
            "source": [
                "y = dataset2['waiting_time']\r\n",
                "\r\n",
                "#NOTA: o valor y necessariamente deve ser uma série.\r\n",
                "\r\n",
                "estatisticas_gerais_depois_wait, tab_frequencias_depois_wait = histogram(y = y, largura_da_barra = 2.5, normal_curve_overlay = False, legenda_dos_dados = None, titulo_y = None, titulo_histograma = None)\r\n",
                "\r\n",
                "# Altere manualmente o valor numérico da largura_da_barra do histograma até alcançar um espaçamento mínimo entre barras\r\n",
                "#consecutivas. O valor da largura da barra depende de cada conjunto particular de dados utilizado.\r\n",
                "\r\n",
                "\"\"\"\r\n",
                "Substitua os demais campos None de acordo com as instruções dadas na CÉLULA 8.\r\n",
                "- Os títulos e legendas devem ser fornecidos como um texto entre aspas.\r\n",
                "- Modifique normal_curve_overlay = True para normal_curve_overlay = False caso não deseje ver a normal sobreposta.\r\n",
                "\r\n",
                "\"\"\"\r\n",
                "\r\n",
                "estatisticas_gerais_depois_wait.to_csv(r\"estatisticas_gerais_depois_wait.csv\", index = False)\r\n",
                "\r\n",
                "tab_frequencias_depois_wait.to_csv(r\"tab_frequencias_depois_wait.csv\", index = False)\r\n",
                ""
            ],
            "metadata": {
                "azdata_cell_guid": "3cc22eb0-2c2c-41d3-b5a3-05225cc753e9"
            },
            "outputs": [
                {
                    "data": {
                        "text/plain": "<Figure size 432x288 with 1 Axes>",
                        "image/png": "[encoded data removed]"
                    },
                    "metadata": {
                        "needs_background": "light"
                    },
                    "output_type": "display_data"
                }
            ],
            "execution_count": 32
        },
        {
            "cell_type": "code",
            "source": [
                "estatisticas_gerais_depois_wait"
            ],
            "metadata": {
                "azdata_cell_guid": "dea44462-63e1-4865-b8e6-4ec7cfa4c753"
            },
            "outputs": [
                {
                    "data": {
                        "text/plain": "                    Estatísticas gerais dos dados  Valor calculado\n0                        Total de dados avaliados        14.000000\n1                                      Média (mu)        13.204216\n2                           Desvio-padrão (sigma)         3.956043\n3                              Valor mais elevado        21.816225\n4                                Valor mais baixo         8.967016\n5  Range dos dados\\n(valor máximo - valor mínimo)        12.849209\n6      Bin size\\n(largura da barra do histograma)         3.000000\n7  Quantidade de linhas\\nna tabela de frequências         5.000000",
                        "text/html": "<div>\n<style scoped>\n    .dataframe tbody tr th:only-of-type {\n        vertical-align: middle;\n    }\n\n    .dataframe tbody tr th {\n        vertical-align: top;\n    }\n\n    .dataframe thead th {\n        text-align: right;\n    }\n</style>\n<table border=\"1\" class=\"dataframe\">\n  <thead>\n    <tr style=\"text-align: right;\">\n      <th></th>\n      <th>Estatísticas gerais dos dados</th>\n      <th>Valor calculado</th>\n    </tr>\n  </thead>\n  <tbody>\n    <tr>\n      <th>0</th>\n      <td>Total de dados avaliados</td>\n      <td>14.000000</td>\n    </tr>\n    <tr>\n      <th>1</th>\n      <td>Média (mu)</td>\n      <td>13.204216</td>\n    </tr>\n    <tr>\n      <th>2</th>\n      <td>Desvio-padrão (sigma)</td>\n      <td>3.956043</td>\n    </tr>\n    <tr>\n      <th>3</th>\n      <td>Valor mais elevado</td>\n      <td>21.816225</td>\n    </tr>\n    <tr>\n      <th>4</th>\n      <td>Valor mais baixo</td>\n      <td>8.967016</td>\n    </tr>\n    <tr>\n      <th>5</th>\n      <td>Range dos dados\\n(valor máximo - valor mínimo)</td>\n      <td>12.849209</td>\n    </tr>\n    <tr>\n      <th>6</th>\n      <td>Bin size\\n(largura da barra do histograma)</td>\n      <td>3.000000</td>\n    </tr>\n    <tr>\n      <th>7</th>\n      <td>Quantidade de linhas\\nna tabela de frequências</td>\n      <td>5.000000</td>\n    </tr>\n  </tbody>\n</table>\n</div>"
                    },
                    "metadata": {},
                    "execution_count": 33,
                    "output_type": "execute_result"
                }
            ],
            "execution_count": 33
        },
        {
            "cell_type": "code",
            "source": [
                "tab_frequencias_depois_wait"
            ],
            "metadata": {
                "azdata_cell_guid": "4a5129e3-d133-4cc5-9d24-cb8641b891e1"
            },
            "outputs": [
                {
                    "data": {
                        "text/plain": "  Intervalos considerados  X: Mean value of the interval  Counting/Frequency\n0            8.97 - 11.97                      10.467016                   7\n1           11.97 - 14.97                      13.467016                   3\n2           14.97 - 17.97                      16.467016                   1\n3           17.97 - 20.97                      19.467016                   2\n4           20.97 - 23.97                      22.467016                   1",
                        "text/html": "<div>\n<style scoped>\n    .dataframe tbody tr th:only-of-type {\n        vertical-align: middle;\n    }\n\n    .dataframe tbody tr th {\n        vertical-align: top;\n    }\n\n    .dataframe thead th {\n        text-align: right;\n    }\n</style>\n<table border=\"1\" class=\"dataframe\">\n  <thead>\n    <tr style=\"text-align: right;\">\n      <th></th>\n      <th>Intervalos considerados</th>\n      <th>X: Mean value of the interval</th>\n      <th>Counting/Frequency</th>\n    </tr>\n  </thead>\n  <tbody>\n    <tr>\n      <th>0</th>\n      <td>8.97 - 11.97</td>\n      <td>10.467016</td>\n      <td>7</td>\n    </tr>\n    <tr>\n      <th>1</th>\n      <td>11.97 - 14.97</td>\n      <td>13.467016</td>\n      <td>3</td>\n    </tr>\n    <tr>\n      <th>2</th>\n      <td>14.97 - 17.97</td>\n      <td>16.467016</td>\n      <td>1</td>\n    </tr>\n    <tr>\n      <th>3</th>\n      <td>17.97 - 20.97</td>\n      <td>19.467016</td>\n      <td>2</td>\n    </tr>\n    <tr>\n      <th>4</th>\n      <td>20.97 - 23.97</td>\n      <td>22.467016</td>\n      <td>1</td>\n    </tr>\n  </tbody>\n</table>\n</div>"
                    },
                    "metadata": {},
                    "execution_count": 34,
                    "output_type": "execute_result"
                }
            ],
            "execution_count": 34
        }
    ]
}