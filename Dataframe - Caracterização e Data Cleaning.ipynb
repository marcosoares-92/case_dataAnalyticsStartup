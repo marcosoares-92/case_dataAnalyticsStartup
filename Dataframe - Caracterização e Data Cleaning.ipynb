{
    "metadata": {
        "kernelspec": {
            "name": "python3",
            "display_name": "Python 3 (ipykernel)",
            "language": "python"
        },
        "language_info": {
            "name": "python",
            "version": "3.8.10",
            "mimetype": "text/x-python",
            "codemirror_mode": {
                "name": "ipython",
                "version": 3
            },
            "pygments_lexer": "ipython3",
            "nbconvert_exporter": "python",
            "file_extension": ".py"
        },
        "extensions": {
            "azuredatastudio": {
                "version": 1,
                "views": []
            }
        }
    },
    "nbformat_minor": 2,
    "nbformat": 4,
    "cells": [
        {
            "cell_type": "markdown",
            "source": [
                "# Instruções gerais\n",
                "\n",
                "Para executar uma CÉLULA, pressione o botão \"Run\" no topo, com a CÉLULA selecionada, ou pressione:\n",
                "    \n",
                "    Shift + Enter\n",
                "\n",
                "EXECUTE APENAS UMA CÉLULA POR VEZ\n",
                "\n",
                "-Caso deseje apagar a saída de uma célula carregada, mas não deseje carregar uma nova saída, vá à aba superior, escolha o ícone\n",
                "do teclado (open the command palette/ jupyter-notebook command group) e selecione clear cell output.\n",
                "\n",
                "@author: Marco César Prado Soares, MSc.\n",
                "Especialista Lean Six Sigma Master Black Belt, Eng. Químico, MSc. Eng. Mecatrônica (instrumentação) \n",
                "Marco.Soares@br.ey.com; marcosoares.feq@gmail.com"
            ],
            "metadata": {
                "extensions": {
                    "azuredatastudio": {
                        "views": []
                    }
                },
                "azdata_cell_guid": "24b8231f-437c-431d-8799-281a236d7472"
            }
        },
        {
            "cell_type": "markdown",
            "source": [
                "# **Caracterização Inicial do Dataframe e Data Cleaning**"
            ],
            "metadata": {
                "azdata_cell_guid": "8c8f0b29-84c1-4ea6-b3a7-ca23de244e50",
                "extensions": {
                    "azuredatastudio": {
                        "views": []
                    }
                }
            }
        },
        {
            "cell_type": "markdown",
            "source": [
                "## **Carregar bibliotecas necessárias à análise**"
            ],
            "metadata": {
                "azdata_cell_guid": "8dd5c4f4-f98c-457d-a4a9-42647d13fbea",
                "extensions": {
                    "azuredatastudio": {
                        "views": []
                    }
                }
            }
        },
        {
            "cell_type": "code",
            "source": [
                "import pandas as pd\n",
                "import numpy as np\n",
                "import matplotlib.pyplot as plt\n",
                "import seaborn as sns"
            ],
            "metadata": {
                "azdata_cell_guid": "420e5c38-6512-4db0-bf3c-198b841a1b87",
                "extensions": {
                    "azuredatastudio": {
                        "views": []
                    }
                }
            },
            "outputs": [],
            "execution_count": 2
        },
        {
            "cell_type": "markdown",
            "source": [
                "## **Importar dataframe no Anaconda, Azure Data Studio, ou Google Colab**"
            ],
            "metadata": {
                "azdata_cell_guid": "3d40233a-b6ad-4de3-8991-faa8429dc4f1",
                "extensions": {
                    "azuredatastudio": {
                        "views": []
                    }
                }
            }
        },
        {
            "cell_type": "markdown",
            "source": [
                "<span style=\"font-size:12.0pt;\n",
                "font-family:&quot;Times New Roman&quot;,serif\">- Tanto em Python quanto em R, um dataframe é um <b>objeto criado</b> que <b>armazena uma tabela de dados</b>.</span>\n",
                "\n",
                "<span style=\"font-size:12.0pt;font-family:&quot;Times New Roman&quot;,serif\">- O objeto é criado automaticamente quando importamos um arquivo txt, csv, ou xlsx para o ambiente de programação, ou quando o criamos a partir de um dicionário, por exemplo (dicionário é um objeto que pode armazenar outros objetos de diversos tipos, desde variáveis numéricas até dataframes ou listas).</span>\n",
                "\n",
                "<span style=\"font-size:12.0pt;line-height:115%;font-family:&quot;Times New Roman&quot;,serif;\n",
                "mso-fareast-font-family:Calibri;mso-fareast-theme-font:minor-latin;mso-ansi-language:\n",
                "PT-BR;mso-fareast-language:EN-US;mso-bidi-language:AR-SA\">- Para importar o dataframe, utilizamos comandos do Pandas que variam para arquivo do Excel, csv com cabeçalho, ou csv sem cabeçalho. <b><span style=\"color:red\">Arquivos .txt e .csv são lidos da mesma forma</span></b>.</span>"
            ],
            "metadata": {
                "azdata_cell_guid": "6ac8a213-5a18-4586-80c6-09cbd58808f9",
                "extensions": {
                    "azuredatastudio": {
                        "views": []
                    }
                }
            }
        },
        {
            "cell_type": "markdown",
            "source": [
                "**Dados em arquivo CSV (comma separated values) com cabeçalho**"
            ],
            "metadata": {
                "azdata_cell_guid": "9cd54732-738b-492b-ab87-f9b699ff65a5",
                "extensions": {
                    "azuredatastudio": {
                        "views": []
                    }
                }
            }
        },
        {
            "cell_type": "code",
            "source": [
                "## dados em arquivo CSV (comma separated values) com cabeçalho\n",
                "\n",
                "caminho = \"cases.csv\"\n",
                "dataset1 = pd.read_csv(caminho)\n",
                "\n",
                "caminho2 = \"creds.csv\"\n",
                "dataset2 = pd.read_csv(caminho2)"
            ],
            "metadata": {
                "azdata_cell_guid": "0599c71b-b78d-454f-8e61-1d3ef527e20a",
                "extensions": {
                    "azuredatastudio": {
                        "views": []
                    }
                }
            },
            "outputs": [],
            "execution_count": 3
        },
        {
            "cell_type": "markdown",
            "source": [
                "## **Avaliar propriedades gerais do dataframe**"
            ],
            "metadata": {
                "azdata_cell_guid": "9061ea93-2444-40c7-87c4-3ff244186a66",
                "extensions": {
                    "azuredatastudio": {
                        "views": []
                    }
                }
            }
        },
        {
            "cell_type": "markdown",
            "source": [
                "### **1\\. <span style=\"font-size: 14px;\">&nbsp;Podemos utilizar o comando .head() para&nbsp;</span> mostrar o cabeçalho:**"
            ],
            "metadata": {
                "azdata_cell_guid": "b26c0c28-4dea-47df-8ddf-a857d5a12fe1",
                "extensions": {
                    "azuredatastudio": {
                        "views": []
                    }
                }
            }
        },
        {
            "cell_type": "code",
            "source": [
                "dataset1.head()"
            ],
            "metadata": {
                "azdata_cell_guid": "5ec07389-6bd7-434c-8623-30945ea23fcc",
                "extensions": {
                    "azuredatastudio": {
                        "views": []
                    }
                }
            },
            "outputs": [
                {
                    "output_type": "execute_result",
                    "execution_count": 351,
                    "data": {
                        "text/plain": "   Unnamed: 0           accountid    date_ref  channelid  waitingtime missed  \\\n0           0                 NaN         NaN        NaN          NaN    NaN   \n1           1                 NaN         NaN        NaN          NaN    NaN   \n2           2                 NaN         NaN        NaN          NaN    NaN   \n3           3                 NaN         NaN        NaN          NaN    NaN   \n4           4  0013j00002z0CeEAAU  2020-07-31        2.0         15.0  False   \n\n  pesquisa_de_satisfa_o__c                                            assunto  \\\n0                      NaN                                                NaN   \n1                      NaN                                                NaN   \n2                      NaN                                                NaN   \n3                      NaN                                                NaN   \n4                      NaN  Aplicativo:Dúvidas funcionalidades App:Primeir...   \n\n                   Id  \n0                 NaN  \n1                 NaN  \n2                 NaN  \n3                 NaN  \n4  0013j00002z0CeEAAU  ",
                        "text/html": "<div>\n<style scoped>\n    .dataframe tbody tr th:only-of-type {\n        vertical-align: middle;\n    }\n\n    .dataframe tbody tr th {\n        vertical-align: top;\n    }\n\n    .dataframe thead th {\n        text-align: right;\n    }\n</style>\n<table border=\"1\" class=\"dataframe\">\n  <thead>\n    <tr style=\"text-align: right;\">\n      <th></th>\n      <th>Unnamed: 0</th>\n      <th>accountid</th>\n      <th>date_ref</th>\n      <th>channelid</th>\n      <th>waitingtime</th>\n      <th>missed</th>\n      <th>pesquisa_de_satisfa_o__c</th>\n      <th>assunto</th>\n      <th>Id</th>\n    </tr>\n  </thead>\n  <tbody>\n    <tr>\n      <th>0</th>\n      <td>0</td>\n      <td>NaN</td>\n      <td>NaN</td>\n      <td>NaN</td>\n      <td>NaN</td>\n      <td>NaN</td>\n      <td>NaN</td>\n      <td>NaN</td>\n      <td>NaN</td>\n    </tr>\n    <tr>\n      <th>1</th>\n      <td>1</td>\n      <td>NaN</td>\n      <td>NaN</td>\n      <td>NaN</td>\n      <td>NaN</td>\n      <td>NaN</td>\n      <td>NaN</td>\n      <td>NaN</td>\n      <td>NaN</td>\n    </tr>\n    <tr>\n      <th>2</th>\n      <td>2</td>\n      <td>NaN</td>\n      <td>NaN</td>\n      <td>NaN</td>\n      <td>NaN</td>\n      <td>NaN</td>\n      <td>NaN</td>\n      <td>NaN</td>\n      <td>NaN</td>\n    </tr>\n    <tr>\n      <th>3</th>\n      <td>3</td>\n      <td>NaN</td>\n      <td>NaN</td>\n      <td>NaN</td>\n      <td>NaN</td>\n      <td>NaN</td>\n      <td>NaN</td>\n      <td>NaN</td>\n      <td>NaN</td>\n    </tr>\n    <tr>\n      <th>4</th>\n      <td>4</td>\n      <td>0013j00002z0CeEAAU</td>\n      <td>2020-07-31</td>\n      <td>2.0</td>\n      <td>15.0</td>\n      <td>False</td>\n      <td>NaN</td>\n      <td>Aplicativo:Dúvidas funcionalidades App:Primeir...</td>\n      <td>0013j00002z0CeEAAU</td>\n    </tr>\n  </tbody>\n</table>\n</div>"
                    },
                    "metadata": {}
                }
            ],
            "execution_count": 351
        },
        {
            "cell_type": "code",
            "source": [
                "dataset2.head()"
            ],
            "metadata": {
                "azdata_cell_guid": "813ee1e3-57a8-4006-8d54-d5d524aae991"
            },
            "outputs": [
                {
                    "output_type": "execute_result",
                    "execution_count": 352,
                    "data": {
                        "text/plain": "   Unnamed: 0   cred_date shipping_address_city shipping_address_state  \\\n0           0  2020-04-18      Feira de Santana                     BA   \n1           1  2020-10-16                Bacuri                     MA   \n2           2  2020-09-01        Bernardo Sayão                     TO   \n3           3  2020-08-29        Rio de Janeiro                     RJ   \n4           4  2020-07-28           São Gonçalo                     RJ   \n\n  max_machine           accountid  \n0          T1                 NaN  \n1          T1                 NaN  \n2          T1                 NaN  \n3          T3                 NaN  \n4          T3  0013j00002z0CeEAAU  ",
                        "text/html": "<div>\n<style scoped>\n    .dataframe tbody tr th:only-of-type {\n        vertical-align: middle;\n    }\n\n    .dataframe tbody tr th {\n        vertical-align: top;\n    }\n\n    .dataframe thead th {\n        text-align: right;\n    }\n</style>\n<table border=\"1\" class=\"dataframe\">\n  <thead>\n    <tr style=\"text-align: right;\">\n      <th></th>\n      <th>Unnamed: 0</th>\n      <th>cred_date</th>\n      <th>shipping_address_city</th>\n      <th>shipping_address_state</th>\n      <th>max_machine</th>\n      <th>accountid</th>\n    </tr>\n  </thead>\n  <tbody>\n    <tr>\n      <th>0</th>\n      <td>0</td>\n      <td>2020-04-18</td>\n      <td>Feira de Santana</td>\n      <td>BA</td>\n      <td>T1</td>\n      <td>NaN</td>\n    </tr>\n    <tr>\n      <th>1</th>\n      <td>1</td>\n      <td>2020-10-16</td>\n      <td>Bacuri</td>\n      <td>MA</td>\n      <td>T1</td>\n      <td>NaN</td>\n    </tr>\n    <tr>\n      <th>2</th>\n      <td>2</td>\n      <td>2020-09-01</td>\n      <td>Bernardo Sayão</td>\n      <td>TO</td>\n      <td>T1</td>\n      <td>NaN</td>\n    </tr>\n    <tr>\n      <th>3</th>\n      <td>3</td>\n      <td>2020-08-29</td>\n      <td>Rio de Janeiro</td>\n      <td>RJ</td>\n      <td>T3</td>\n      <td>NaN</td>\n    </tr>\n    <tr>\n      <th>4</th>\n      <td>4</td>\n      <td>2020-07-28</td>\n      <td>São Gonçalo</td>\n      <td>RJ</td>\n      <td>T3</td>\n      <td>0013j00002z0CeEAAU</td>\n    </tr>\n  </tbody>\n</table>\n</div>"
                    },
                    "metadata": {}
                }
            ],
            "execution_count": 352
        },
        {
            "cell_type": "markdown",
            "source": [
                "<span style=\"font-size:12.0pt;\n",
                "font-family:&quot;Times New Roman&quot;,serif\">Este comando mostra o cabeçalho e as 5 primeiras linhas (índices 0 a 4) do dataset.</span>"
            ],
            "metadata": {
                "azdata_cell_guid": "3e56432e-9ceb-46f3-80b7-03e70bd2ff66",
                "extensions": {
                    "azuredatastudio": {
                        "views": []
                    }
                }
            }
        },
        {
            "cell_type": "markdown",
            "source": [
                "### **2\\. Saber total de linhas do dataframe:**"
            ],
            "metadata": {
                "azdata_cell_guid": "b17931e2-e5e1-4759-a554-ecd17667a1b3",
                "extensions": {
                    "azuredatastudio": {
                        "views": []
                    }
                }
            }
        },
        {
            "cell_type": "code",
            "source": [
                "total1 = len(dataset1)\r\n",
                "print(total1)"
            ],
            "metadata": {
                "azdata_cell_guid": "50b68be4-4583-4f98-b6f5-6226d49a005b",
                "extensions": {
                    "azuredatastudio": {
                        "views": []
                    }
                }
            },
            "outputs": [
                {
                    "output_type": "stream",
                    "name": "stdout",
                    "text": "126989\n"
                }
            ],
            "execution_count": 280
        },
        {
            "cell_type": "code",
            "source": [
                "total2 = len(dataset2)\r\n",
                "print(total2)"
            ],
            "metadata": {
                "azdata_cell_guid": "dbdb84a2-fa84-4857-b8db-8e8b8ceb72fd"
            },
            "outputs": [
                {
                    "output_type": "stream",
                    "name": "stdout",
                    "text": "126989\n"
                }
            ],
            "execution_count": 281
        },
        {
            "cell_type": "markdown",
            "source": [
                "<span style=\"font-size:12.0pt;\n",
                "font-family:&quot;Times New Roman&quot;,serif\">Este comando armazena em “total” a quantidade de linhas (tamanho) do dataframe df. O comando <b><span style=\"color:red\">len (<span style=\"background:yellow;mso-highlight:\n",
                "yellow\">objeto</span>)</span></b> sempre calcula a dimensão (length) do <span style=\"background:yellow;mso-highlight:yellow\">objeto</span>.<o:p></o:p></span>"
            ],
            "metadata": {
                "azdata_cell_guid": "43d71e06-e9a2-4c77-81d4-67b4290fd8df",
                "extensions": {
                    "azuredatastudio": {
                        "views": []
                    }
                }
            }
        },
        {
            "cell_type": "markdown",
            "source": [
                "### **4. Saber os tipos de variáveis ou objetos do dataframe:**"
            ],
            "metadata": {
                "azdata_cell_guid": "5dbc2bdb-bfac-4b8e-b94d-5b263392ee98",
                "extensions": {
                    "azuredatastudio": {
                        "views": []
                    }
                }
            }
        },
        {
            "cell_type": "code",
            "source": [
                "dataset1.info()"
            ],
            "metadata": {
                "azdata_cell_guid": "9a40b878-de04-4195-a516-8d6acd656b74",
                "extensions": {
                    "azuredatastudio": {
                        "views": []
                    }
                }
            },
            "outputs": [
                {
                    "output_type": "stream",
                    "name": "stdout",
                    "text": "<class 'pandas.core.frame.DataFrame'>\nRangeIndex: 126989 entries, 0 to 126988\nData columns (total 9 columns):\n #   Column                    Non-Null Count   Dtype  \n---  ------                    --------------   -----  \n 0   Unnamed: 0                126989 non-null  int64  \n 1   accountid                 77489 non-null   object \n 2   date_ref                  77489 non-null   object \n 3   channelid                 77489 non-null   float64\n 4   waitingtime               77489 non-null   float64\n 5   missed                    77489 non-null   object \n 6   pesquisa_de_satisfa_o__c  11585 non-null   object \n 7   assunto                   77489 non-null   object \n 8   Id                        77489 non-null   object \ndtypes: float64(2), int64(1), object(6)\nmemory usage: 8.7+ MB\n"
                }
            ],
            "execution_count": 282
        },
        {
            "cell_type": "code",
            "source": [
                "dataset2.info()"
            ],
            "metadata": {
                "azdata_cell_guid": "137a3dd6-336a-4d33-839c-1a0457dac576"
            },
            "outputs": [
                {
                    "output_type": "stream",
                    "name": "stdout",
                    "text": "<class 'pandas.core.frame.DataFrame'>\nRangeIndex: 126989 entries, 0 to 126988\nData columns (total 6 columns):\n #   Column                  Non-Null Count   Dtype \n---  ------                  --------------   ----- \n 0   Unnamed: 0              126989 non-null  int64 \n 1   cred_date               126989 non-null  object\n 2   shipping_address_city   126989 non-null  object\n 3   shipping_address_state  126989 non-null  object\n 4   max_machine             126989 non-null  object\n 5   accountid               77489 non-null   object\ndtypes: int64(1), object(5)\nmemory usage: 5.8+ MB\n"
                }
            ],
            "execution_count": 283
        },
        {
            "cell_type": "markdown",
            "source": [
                "### **5. Mostrar primeira linha do dataframe:**"
            ],
            "metadata": {
                "azdata_cell_guid": "b92e3e3a-b18b-4796-a89d-4ead2cb6cb93",
                "extensions": {
                    "azuredatastudio": {
                        "views": []
                    }
                }
            }
        },
        {
            "cell_type": "code",
            "source": [
                "display(dataset1.iloc[0])"
            ],
            "metadata": {
                "azdata_cell_guid": "ef8a988f-7720-4e7b-badf-5db0f97c0a28",
                "extensions": {
                    "azuredatastudio": {
                        "views": []
                    }
                }
            },
            "outputs": [
                {
                    "output_type": "display_data",
                    "data": {
                        "text/plain": "Unnamed: 0                    0\naccountid                   NaN\ndate_ref                    NaN\nchannelid                   NaN\nwaitingtime                 NaN\nmissed                      NaN\npesquisa_de_satisfa_o__c    NaN\nassunto                     NaN\nId                          NaN\nName: 0, dtype: object"
                    },
                    "metadata": {}
                }
            ],
            "execution_count": 284
        },
        {
            "cell_type": "code",
            "source": [
                "display(dataset2.iloc[0])"
            ],
            "metadata": {
                "azdata_cell_guid": "3ef5a7ca-86d9-4acc-b075-990adae39c98"
            },
            "outputs": [
                {
                    "output_type": "display_data",
                    "data": {
                        "text/plain": "Unnamed: 0                               0\ncred_date                       2020-04-18\nshipping_address_city     Feira de Santana\nshipping_address_state                  BA\nmax_machine                             T1\naccountid                              NaN\nName: 0, dtype: object"
                    },
                    "metadata": {}
                }
            ],
            "execution_count": 285
        },
        {
            "cell_type": "markdown",
            "source": [
                "<span style=\"font-size:12.0pt;line-height:115%;\n",
                "font-family:&quot;Times New Roman&quot;,serif;mso-fareast-font-family:Calibri;mso-fareast-theme-font:\n",
                "minor-latin;mso-ansi-language:PT-BR;mso-fareast-language:EN-US;mso-bidi-language:\n",
                "AR-SA\">Este comando mostra o valor assumido por cada variável (coluna) na <b>primeira linha</b> do dataset, possibilitando uma visualização dos valores e ordens de grandeza.</span>"
            ],
            "metadata": {
                "azdata_cell_guid": "9b2b4f09-f0f5-4d86-b136-a828a24846d8",
                "extensions": {
                    "azuredatastudio": {
                        "views": []
                    }
                }
            }
        },
        {
            "cell_type": "markdown",
            "source": [
                "### **6. Verificar se o dataframe apresenta entradas nulas:**"
            ],
            "metadata": {
                "azdata_cell_guid": "f6ea6998-4528-4a42-a9b3-055feeaa78e5",
                "extensions": {
                    "azuredatastudio": {
                        "views": []
                    }
                }
            }
        },
        {
            "cell_type": "code",
            "source": [
                "dataset1.isnull().any()"
            ],
            "metadata": {
                "azdata_cell_guid": "8fb51bbd-192b-4329-8e97-abc73b98ee2c",
                "extensions": {
                    "azuredatastudio": {
                        "views": []
                    }
                }
            },
            "outputs": [
                {
                    "output_type": "execute_result",
                    "execution_count": 286,
                    "data": {
                        "text/plain": "Unnamed: 0                  False\naccountid                    True\ndate_ref                     True\nchannelid                    True\nwaitingtime                  True\nmissed                       True\npesquisa_de_satisfa_o__c     True\nassunto                      True\nId                           True\ndtype: bool"
                    },
                    "metadata": {}
                }
            ],
            "execution_count": 286
        },
        {
            "cell_type": "code",
            "source": [
                "dataset2.isnull().any()"
            ],
            "metadata": {
                "azdata_cell_guid": "94d6bc59-473e-4291-b996-cf583f73fbd9"
            },
            "outputs": [
                {
                    "output_type": "execute_result",
                    "execution_count": 287,
                    "data": {
                        "text/plain": "Unnamed: 0                False\ncred_date                 False\nshipping_address_city     False\nshipping_address_state    False\nmax_machine               False\naccountid                  True\ndtype: bool"
                    },
                    "metadata": {}
                }
            ],
            "execution_count": 287
        },
        {
            "cell_type": "markdown",
            "source": [
                "### **9\\. Obter estatísticas gerais do dataset:**"
            ],
            "metadata": {
                "azdata_cell_guid": "445a7cce-80e7-4632-9db8-1edf9831ca51",
                "extensions": {
                    "azuredatastudio": {
                        "views": []
                    }
                }
            }
        },
        {
            "cell_type": "code",
            "source": [
                "dataset1.describe()"
            ],
            "metadata": {
                "azdata_cell_guid": "a51999b7-553c-484b-8fc8-e07f12c597e1",
                "extensions": {
                    "azuredatastudio": {
                        "views": []
                    }
                }
            },
            "outputs": [
                {
                    "output_type": "execute_result",
                    "execution_count": 288,
                    "data": {
                        "text/plain": "          Unnamed: 0  channelid   waitingtime\ncount  126989.000000    77489.0  77489.000000\nmean    63494.000000        2.0     17.224767\nstd     36658.711004        0.0     78.520336\nmin         0.000000        2.0      0.000000\n25%     31747.000000        2.0      6.000000\n50%     63494.000000        2.0      9.000000\n75%     95241.000000        2.0     14.000000\nmax    126988.000000        2.0   7993.000000",
                        "text/html": "<div>\n<style scoped>\n    .dataframe tbody tr th:only-of-type {\n        vertical-align: middle;\n    }\n\n    .dataframe tbody tr th {\n        vertical-align: top;\n    }\n\n    .dataframe thead th {\n        text-align: right;\n    }\n</style>\n<table border=\"1\" class=\"dataframe\">\n  <thead>\n    <tr style=\"text-align: right;\">\n      <th></th>\n      <th>Unnamed: 0</th>\n      <th>channelid</th>\n      <th>waitingtime</th>\n    </tr>\n  </thead>\n  <tbody>\n    <tr>\n      <th>count</th>\n      <td>126989.000000</td>\n      <td>77489.0</td>\n      <td>77489.000000</td>\n    </tr>\n    <tr>\n      <th>mean</th>\n      <td>63494.000000</td>\n      <td>2.0</td>\n      <td>17.224767</td>\n    </tr>\n    <tr>\n      <th>std</th>\n      <td>36658.711004</td>\n      <td>0.0</td>\n      <td>78.520336</td>\n    </tr>\n    <tr>\n      <th>min</th>\n      <td>0.000000</td>\n      <td>2.0</td>\n      <td>0.000000</td>\n    </tr>\n    <tr>\n      <th>25%</th>\n      <td>31747.000000</td>\n      <td>2.0</td>\n      <td>6.000000</td>\n    </tr>\n    <tr>\n      <th>50%</th>\n      <td>63494.000000</td>\n      <td>2.0</td>\n      <td>9.000000</td>\n    </tr>\n    <tr>\n      <th>75%</th>\n      <td>95241.000000</td>\n      <td>2.0</td>\n      <td>14.000000</td>\n    </tr>\n    <tr>\n      <th>max</th>\n      <td>126988.000000</td>\n      <td>2.0</td>\n      <td>7993.000000</td>\n    </tr>\n  </tbody>\n</table>\n</div>"
                    },
                    "metadata": {}
                }
            ],
            "execution_count": 288
        },
        {
            "cell_type": "code",
            "source": [
                "dataset2.describe()"
            ],
            "metadata": {
                "azdata_cell_guid": "8d1dfbec-056f-4d24-abc8-4ff8e19c351f"
            },
            "outputs": [
                {
                    "output_type": "execute_result",
                    "execution_count": 289,
                    "data": {
                        "text/plain": "          Unnamed: 0\ncount  126989.000000\nmean    63494.000000\nstd     36658.711004\nmin         0.000000\n25%     31747.000000\n50%     63494.000000\n75%     95241.000000\nmax    126988.000000",
                        "text/html": "<div>\n<style scoped>\n    .dataframe tbody tr th:only-of-type {\n        vertical-align: middle;\n    }\n\n    .dataframe tbody tr th {\n        vertical-align: top;\n    }\n\n    .dataframe thead th {\n        text-align: right;\n    }\n</style>\n<table border=\"1\" class=\"dataframe\">\n  <thead>\n    <tr style=\"text-align: right;\">\n      <th></th>\n      <th>Unnamed: 0</th>\n    </tr>\n  </thead>\n  <tbody>\n    <tr>\n      <th>count</th>\n      <td>126989.000000</td>\n    </tr>\n    <tr>\n      <th>mean</th>\n      <td>63494.000000</td>\n    </tr>\n    <tr>\n      <th>std</th>\n      <td>36658.711004</td>\n    </tr>\n    <tr>\n      <th>min</th>\n      <td>0.000000</td>\n    </tr>\n    <tr>\n      <th>25%</th>\n      <td>31747.000000</td>\n    </tr>\n    <tr>\n      <th>50%</th>\n      <td>63494.000000</td>\n    </tr>\n    <tr>\n      <th>75%</th>\n      <td>95241.000000</td>\n    </tr>\n    <tr>\n      <th>max</th>\n      <td>126988.000000</td>\n    </tr>\n  </tbody>\n</table>\n</div>"
                    },
                    "metadata": {}
                }
            ],
            "execution_count": 289
        },
        {
            "cell_type": "markdown",
            "source": [
                "<span style=\"font-size:12.0pt;\n",
                "font-family:&quot;Times New Roman&quot;,serif;color:black;mso-themecolor:text1\">A saída desse comando será um dataframe contendo as seguintes estatísticas gerais: contagem de entradas (count); média (mean); desvio-padrão (std); menor valor assumido (min); limites do 1º (25%), 2º (50%), e 3º quartis (75%); e maior valor assumido (max).</span>\n",
                "\n",
                "<span style=\"font-size:12.0pt;\n",
                "font-family:&quot;Times New Roman&quot;,serif;color:black;mso-themecolor:text1\">Atenção: <b>só serão mostradas as variáveis numéricas</b>. Variáveis classificatórias expressas como texto ou data/timestamp serão omitidas.<o:p></o:p></span>"
            ],
            "metadata": {
                "azdata_cell_guid": "c0a65d0d-958b-4310-a348-d8419cf31575",
                "extensions": {
                    "azuredatastudio": {
                        "views": []
                    }
                }
            }
        },
        {
            "cell_type": "markdown",
            "source": [
                "## **Remover elementos nulos do dataframe ou da série**"
            ],
            "metadata": {
                "azdata_cell_guid": "f30da9da-2bb1-4272-ade0-104a6f4b35fb",
                "extensions": {
                    "azuredatastudio": {
                        "views": []
                    }
                }
            }
        },
        {
            "cell_type": "markdown",
            "source": [
                "**<span lang=\"EN-US\" style=\"font-size:12.0pt;line-height:115%;font-family:&quot;Times New Roman&quot;,serif;\n",
                "mso-fareast-font-family:Calibri;mso-fareast-theme-font:minor-latin;color:black;\n",
                "mso-themecolor:text1;mso-ansi-language:EN-US;mso-fareast-language:EN-US;\n",
                "mso-bidi-language:AR-SA\">O dropna pode ser utilizado para remover</span>** **<span lang=\"EN-US\" style=\"font-size:12.0pt;line-height:115%;font-family:&quot;Times New Roman&quot;,serif;\n",
                "mso-fareast-font-family:Calibri;mso-fareast-theme-font:minor-latin;color:red;\n",
                "background:yellow;mso-highlight:yellow;mso-ansi-language:EN-US;mso-fareast-language:\n",
                "EN-US;mso-bidi-language:AR-SA\">todos os elementos nulos do dataframe, exceto na coluna:</span>**\n",
                "\n",
                "| pesquisa\\_de\\_satisfa\\_o\\_\\_c<br><br> |\n",
                "| --- |"
            ],
            "metadata": {
                "azdata_cell_guid": "af9953c9-4d80-4781-bb1a-b07a29d8df9e",
                "extensions": {
                    "azuredatastudio": {
                        "views": []
                    }
                }
            },
            "attachments": {}
        },
        {
            "cell_type": "code",
            "source": [
                "#It is important to clean the dataset before analyzing it, eliminating\n",
                "#possible null entries - the Machine Learning model cannot work with such\n",
                "#null values\n",
                "\n",
                "\n",
                "dataset1 = dataset1.dropna(subset = ['accountid', 'date_ref', 'channelid', 'waitingtime', 'Id'])"
            ],
            "metadata": {
                "azdata_cell_guid": "1c0a278e-0e49-457f-aef8-670ae6bc57b1",
                "extensions": {
                    "azuredatastudio": {
                        "views": []
                    }
                }
            },
            "outputs": [],
            "execution_count": 4
        },
        {
            "cell_type": "code",
            "source": [
                "dataset2 = dataset2.dropna(axis=0)"
            ],
            "metadata": {
                "azdata_cell_guid": "703f33c8-0195-4aaa-a7b5-340e69c188bd"
            },
            "outputs": [],
            "execution_count": 354
        },
        {
            "cell_type": "markdown",
            "source": [
                "## **Propriedades dos novos datasets**\n",
                "\n",
                "* * *"
            ],
            "metadata": {
                "azdata_cell_guid": "61af15ba-194d-4817-81b0-010b94ab93e1",
                "extensions": {
                    "azuredatastudio": {
                        "views": []
                    }
                }
            },
            "attachments": {}
        },
        {
            "cell_type": "code",
            "source": [
                "dataset1.head()"
            ],
            "metadata": {
                "azdata_cell_guid": "4e8a69d1-f6f4-454c-8ece-88a8e2307435"
            },
            "outputs": [
                {
                    "output_type": "execute_result",
                    "execution_count": 355,
                    "data": {
                        "text/plain": "   Unnamed: 0           accountid    date_ref  channelid  waitingtime missed  \\\n4           4  0013j00002z0CeEAAU  2020-07-31        2.0         15.0  False   \n5           5  0013j00002z0CeEAAU  2020-07-31        2.0         15.0  False   \n6           6  0013j00002z0CeEAAU  2020-09-23        2.0          1.0  False   \n7           7  0013j00002zQgldAAC  2020-08-29        2.0          6.0  False   \n8           8  0013j00002zQgldAAC  2020-08-29        2.0          6.0  False   \n\n  pesquisa_de_satisfa_o__c                                            assunto  \\\n4                      NaN  Aplicativo:Dúvidas funcionalidades App:Primeir...   \n5                      NaN                              Produto:S920:Ativação   \n6                      NaN                    Produto:Cartão pré-pago:Dúvidas   \n7                      NaN                 Logística:Envio de Cartão:Tracking   \n8                      NaN                         Pedido:Cancelamento:Outros   \n\n                   Id  \n4  0013j00002z0CeEAAU  \n5  0013j00002z0CeEAAU  \n6  0013j00002z0CeEAAU  \n7  0013j00002zQgldAAC  \n8  0013j00002zQgldAAC  ",
                        "text/html": "<div>\n<style scoped>\n    .dataframe tbody tr th:only-of-type {\n        vertical-align: middle;\n    }\n\n    .dataframe tbody tr th {\n        vertical-align: top;\n    }\n\n    .dataframe thead th {\n        text-align: right;\n    }\n</style>\n<table border=\"1\" class=\"dataframe\">\n  <thead>\n    <tr style=\"text-align: right;\">\n      <th></th>\n      <th>Unnamed: 0</th>\n      <th>accountid</th>\n      <th>date_ref</th>\n      <th>channelid</th>\n      <th>waitingtime</th>\n      <th>missed</th>\n      <th>pesquisa_de_satisfa_o__c</th>\n      <th>assunto</th>\n      <th>Id</th>\n    </tr>\n  </thead>\n  <tbody>\n    <tr>\n      <th>4</th>\n      <td>4</td>\n      <td>0013j00002z0CeEAAU</td>\n      <td>2020-07-31</td>\n      <td>2.0</td>\n      <td>15.0</td>\n      <td>False</td>\n      <td>NaN</td>\n      <td>Aplicativo:Dúvidas funcionalidades App:Primeir...</td>\n      <td>0013j00002z0CeEAAU</td>\n    </tr>\n    <tr>\n      <th>5</th>\n      <td>5</td>\n      <td>0013j00002z0CeEAAU</td>\n      <td>2020-07-31</td>\n      <td>2.0</td>\n      <td>15.0</td>\n      <td>False</td>\n      <td>NaN</td>\n      <td>Produto:S920:Ativação</td>\n      <td>0013j00002z0CeEAAU</td>\n    </tr>\n    <tr>\n      <th>6</th>\n      <td>6</td>\n      <td>0013j00002z0CeEAAU</td>\n      <td>2020-09-23</td>\n      <td>2.0</td>\n      <td>1.0</td>\n      <td>False</td>\n      <td>NaN</td>\n      <td>Produto:Cartão pré-pago:Dúvidas</td>\n      <td>0013j00002z0CeEAAU</td>\n    </tr>\n    <tr>\n      <th>7</th>\n      <td>7</td>\n      <td>0013j00002zQgldAAC</td>\n      <td>2020-08-29</td>\n      <td>2.0</td>\n      <td>6.0</td>\n      <td>False</td>\n      <td>NaN</td>\n      <td>Logística:Envio de Cartão:Tracking</td>\n      <td>0013j00002zQgldAAC</td>\n    </tr>\n    <tr>\n      <th>8</th>\n      <td>8</td>\n      <td>0013j00002zQgldAAC</td>\n      <td>2020-08-29</td>\n      <td>2.0</td>\n      <td>6.0</td>\n      <td>False</td>\n      <td>NaN</td>\n      <td>Pedido:Cancelamento:Outros</td>\n      <td>0013j00002zQgldAAC</td>\n    </tr>\n  </tbody>\n</table>\n</div>"
                    },
                    "metadata": {}
                }
            ],
            "execution_count": 355
        },
        {
            "cell_type": "code",
            "source": [
                "dataset1.isnull().any()"
            ],
            "metadata": {
                "azdata_cell_guid": "43b586fe-848e-45e5-af88-698f91f2a674"
            },
            "outputs": [
                {
                    "output_type": "execute_result",
                    "execution_count": 294,
                    "data": {
                        "text/plain": "Unnamed: 0                  False\naccountid                   False\ndate_ref                    False\nchannelid                   False\nwaitingtime                 False\nmissed                      False\npesquisa_de_satisfa_o__c     True\nassunto                     False\nId                          False\ndtype: bool"
                    },
                    "metadata": {}
                }
            ],
            "execution_count": 294
        },
        {
            "cell_type": "code",
            "source": [
                "dataset2.head()"
            ],
            "metadata": {
                "azdata_cell_guid": "e678b20f-e7d1-46e3-aea2-3a6529db9193"
            },
            "outputs": [
                {
                    "output_type": "execute_result",
                    "execution_count": 295,
                    "data": {
                        "text/plain": "   Unnamed: 0   cred_date shipping_address_city shipping_address_state  \\\n4           4  2020-07-28           São Gonçalo                     RJ   \n5           5  2020-07-28           São Gonçalo                     RJ   \n6           6  2020-07-28           São Gonçalo                     RJ   \n7           7  2020-08-28              Itaboraí                     RJ   \n8           8  2020-08-28              Itaboraí                     RJ   \n\n  max_machine           accountid  \n4          T3  0013j00002z0CeEAAU  \n5          T3  0013j00002z0CeEAAU  \n6          T3  0013j00002z0CeEAAU  \n7          T1  0013j00002zQgldAAC  \n8          T1  0013j00002zQgldAAC  ",
                        "text/html": "<div>\n<style scoped>\n    .dataframe tbody tr th:only-of-type {\n        vertical-align: middle;\n    }\n\n    .dataframe tbody tr th {\n        vertical-align: top;\n    }\n\n    .dataframe thead th {\n        text-align: right;\n    }\n</style>\n<table border=\"1\" class=\"dataframe\">\n  <thead>\n    <tr style=\"text-align: right;\">\n      <th></th>\n      <th>Unnamed: 0</th>\n      <th>cred_date</th>\n      <th>shipping_address_city</th>\n      <th>shipping_address_state</th>\n      <th>max_machine</th>\n      <th>accountid</th>\n    </tr>\n  </thead>\n  <tbody>\n    <tr>\n      <th>4</th>\n      <td>4</td>\n      <td>2020-07-28</td>\n      <td>São Gonçalo</td>\n      <td>RJ</td>\n      <td>T3</td>\n      <td>0013j00002z0CeEAAU</td>\n    </tr>\n    <tr>\n      <th>5</th>\n      <td>5</td>\n      <td>2020-07-28</td>\n      <td>São Gonçalo</td>\n      <td>RJ</td>\n      <td>T3</td>\n      <td>0013j00002z0CeEAAU</td>\n    </tr>\n    <tr>\n      <th>6</th>\n      <td>6</td>\n      <td>2020-07-28</td>\n      <td>São Gonçalo</td>\n      <td>RJ</td>\n      <td>T3</td>\n      <td>0013j00002z0CeEAAU</td>\n    </tr>\n    <tr>\n      <th>7</th>\n      <td>7</td>\n      <td>2020-08-28</td>\n      <td>Itaboraí</td>\n      <td>RJ</td>\n      <td>T1</td>\n      <td>0013j00002zQgldAAC</td>\n    </tr>\n    <tr>\n      <th>8</th>\n      <td>8</td>\n      <td>2020-08-28</td>\n      <td>Itaboraí</td>\n      <td>RJ</td>\n      <td>T1</td>\n      <td>0013j00002zQgldAAC</td>\n    </tr>\n  </tbody>\n</table>\n</div>"
                    },
                    "metadata": {}
                }
            ],
            "execution_count": 295
        },
        {
            "cell_type": "code",
            "source": [
                "dataset2.isnull().any()"
            ],
            "metadata": {
                "azdata_cell_guid": "09d300f0-931c-45c9-bb37-6d119684de16"
            },
            "outputs": [
                {
                    "output_type": "execute_result",
                    "execution_count": 296,
                    "data": {
                        "text/plain": "Unnamed: 0                False\ncred_date                 False\nshipping_address_city     False\nshipping_address_state    False\nmax_machine               False\naccountid                 False\ndtype: bool"
                    },
                    "metadata": {}
                }
            ],
            "execution_count": 296
        },
        {
            "cell_type": "markdown",
            "source": [
                "## **Propriedades dos novos datasets: pesquisa de satisfação**"
            ],
            "metadata": {
                "azdata_cell_guid": "74d9605b-a238-4699-b8a2-cbd3c0989b82"
            },
            "attachments": {}
        },
        {
            "cell_type": "code",
            "source": [
                "dataset1['pesquisa_de_satisfa_o__c'].describe()\r\n",
                ""
            ],
            "metadata": {
                "azdata_cell_guid": "953a865c-cf46-48e9-aa8d-ca4c58c12286"
            },
            "outputs": [
                {
                    "output_type": "execute_result",
                    "execution_count": 297,
                    "data": {
                        "text/plain": "count       11585\nunique         10\ntop       Enviado\nfreq         9996\nName: pesquisa_de_satisfa_o__c, dtype: object"
                    },
                    "metadata": {}
                }
            ],
            "execution_count": 297
        },
        {
            "cell_type": "code",
            "source": [
                "dataset1['pesquisa_de_satisfa_o__c'].unique()"
            ],
            "metadata": {
                "azdata_cell_guid": "004630ae-5078-471c-9a58-118f719b90e3"
            },
            "outputs": [
                {
                    "output_type": "execute_result",
                    "execution_count": 298,
                    "data": {
                        "text/plain": "array([nan, 'Enviado', 'Incrivel', 'Normal', 'Bom', 'NaoResolveu',\n       'Triste', 'Cansativo', 'MalAtendido', 'Feliz', 'Pessimo'],\n      dtype=object)"
                    },
                    "metadata": {}
                }
            ],
            "execution_count": 298
        },
        {
            "cell_type": "markdown",
            "source": [
                "## **Propriedades dos novos datasets: missed**"
            ],
            "metadata": {
                "azdata_cell_guid": "8baffa6c-2666-448d-90c9-a40c7c87ba7c"
            },
            "attachments": {}
        },
        {
            "cell_type": "code",
            "source": [
                "dataset1['missed'].describe()"
            ],
            "metadata": {
                "azdata_cell_guid": "bad222aa-32e8-41c2-ac12-f1bbff1dbe41"
            },
            "outputs": [
                {
                    "output_type": "execute_result",
                    "execution_count": 299,
                    "data": {
                        "text/plain": "count     77489\nunique        2\ntop       False\nfreq      77483\nName: missed, dtype: object"
                    },
                    "metadata": {}
                }
            ],
            "execution_count": 299
        },
        {
            "cell_type": "code",
            "source": [
                "dataset1['missed'].unique()"
            ],
            "metadata": {
                "azdata_cell_guid": "39d43069-cd1a-4f8e-b571-bfc3ff031ab0"
            },
            "outputs": [
                {
                    "output_type": "execute_result",
                    "execution_count": 300,
                    "data": {
                        "text/plain": "array([False, True], dtype=object)"
                    },
                    "metadata": {}
                }
            ],
            "execution_count": 300
        },
        {
            "cell_type": "markdown",
            "source": [
                "## **Propriedades dos novos datasets: assunto**"
            ],
            "metadata": {
                "azdata_cell_guid": "47025fce-710a-4f5e-9865-c10fb9fa0e10"
            },
            "attachments": {}
        },
        {
            "cell_type": "code",
            "source": [
                "dataset1['assunto'].describe()"
            ],
            "metadata": {
                "azdata_cell_guid": "0f098cad-a53d-46e9-ba4f-77977a001cd6"
            },
            "outputs": [
                {
                    "output_type": "execute_result",
                    "execution_count": 301,
                    "data": {
                        "text/plain": "count                               77489\nunique                                221\ntop       Produto:Cartão pré-pago:Dúvidas\nfreq                                 5153\nName: assunto, dtype: object"
                    },
                    "metadata": {}
                }
            ],
            "execution_count": 301
        },
        {
            "cell_type": "markdown",
            "source": [
                "## **Propriedades dos novos datasets: address\\_state**"
            ],
            "metadata": {
                "azdata_cell_guid": "748f0a07-5afb-493a-9a45-806962f0cacf"
            },
            "attachments": {}
        },
        {
            "cell_type": "code",
            "source": [
                "dataset2['shipping_address_state'].describe()"
            ],
            "metadata": {
                "azdata_cell_guid": "23904e95-f1c1-4a70-bba8-14364f9ac535"
            },
            "outputs": [
                {
                    "output_type": "execute_result",
                    "execution_count": 302,
                    "data": {
                        "text/plain": "count     77489\nunique       27\ntop          SP\nfreq      20056\nName: shipping_address_state, dtype: object"
                    },
                    "metadata": {}
                }
            ],
            "execution_count": 302
        },
        {
            "cell_type": "markdown",
            "source": [
                "## **Propriedades dos novos datasets: max\\_machine**"
            ],
            "metadata": {
                "azdata_cell_guid": "fbd2ab54-7ef8-49b5-87f5-67741ff93314"
            },
            "attachments": {}
        },
        {
            "cell_type": "code",
            "source": [
                "dataset2['max_machine'].describe()"
            ],
            "metadata": {
                "azdata_cell_guid": "7afcc289-1348-42f4-90d5-938f7149c448"
            },
            "outputs": [
                {
                    "output_type": "execute_result",
                    "execution_count": 303,
                    "data": {
                        "text/plain": "count     77489\nunique        4\ntop          T2\nfreq      28569\nName: max_machine, dtype: object"
                    },
                    "metadata": {}
                }
            ],
            "execution_count": 303
        },
        {
            "cell_type": "code",
            "source": [
                "dataset2['max_machine'].unique()"
            ],
            "metadata": {
                "azdata_cell_guid": "430d2640-7aeb-42b0-a140-a7fd0dcba51e"
            },
            "outputs": [
                {
                    "output_type": "execute_result",
                    "execution_count": 304,
                    "data": {
                        "text/plain": "array(['T3', 'T1', 'T2', 'NONE'], dtype=object)"
                    },
                    "metadata": {}
                }
            ],
            "execution_count": 304
        },
        {
            "cell_type": "markdown",
            "source": [
                "## **Encoding da pesquisa de satisfação**"
            ],
            "metadata": {
                "azdata_cell_guid": "0713fa78-c0b0-4623-b7b4-734ad4ff14ea"
            },
            "attachments": {}
        },
        {
            "cell_type": "markdown",
            "source": [
                "Vamos criar uma nova variável no dataset1 chamada pq\\_satisfacao. Esta variável terá a seguinte escala numérica, de acordo com a variável <span style=\"color: rgb(163, 21, 21); font-family: Consolas, &quot;Courier New&quot;, monospace; font-size: 12px; white-space: pre;\">pesquisa_de_satisfa_o__c</span>:\n",
                "\n",
                "```\n",
                "'Pessimo' = 0\n",
                "```\n",
                "```\n",
                "'Triste' = 1 \n",
                "```\n",
                "```\n",
                "'MalAtendido'= 2\n",
                "```\n",
                "```\n",
                "'Cansativo' = 3\n",
                "```\n",
                "```\n",
                "'NaoResolveu' =  4\n",
                "```\n",
                "```\n",
                "nan = 'Enviado'=  'Normal'= 5\n",
                "```\n",
                "```\n",
                "'Bom' = 6\n",
                "```\n",
                "```\n",
                "'Feliz' = 7 \n",
                "```\n",
                "```\n",
                "'Incrivel' = 8  \n",
                "```"
            ],
            "metadata": {
                "azdata_cell_guid": "dad43a78-6440-47be-a22c-56891bcad30a"
            },
            "attachments": {}
        },
        {
            "cell_type": "code",
            "source": [
                "dataset1['pq_satisfacao'] = 0\r\n",
                "#criar variável numérica"
            ],
            "metadata": {
                "azdata_cell_guid": "00fe8db3-e0e8-48e8-a6d4-8b6a232edbd5"
            },
            "outputs": [],
            "execution_count": 5
        },
        {
            "cell_type": "code",
            "source": [
                "dataset1.loc[dataset1['pesquisa_de_satisfa_o__c'] == 'Pessimo', 'pq_satisfacao'] = 0\r\n",
                "dataset1.loc[dataset1['pesquisa_de_satisfa_o__c'] == 'Triste', 'pq_satisfacao'] = 1\r\n",
                "dataset1.loc[dataset1['pesquisa_de_satisfa_o__c'] == 'MalAtendido', 'pq_satisfacao'] = 2\r\n",
                "dataset1.loc[dataset1['pesquisa_de_satisfa_o__c'] == 'Cansativo', 'pq_satisfacao'] = 3\r\n",
                "dataset1.loc[dataset1['pesquisa_de_satisfa_o__c'] == 'NaoResolveu', 'pq_satisfacao'] = 4\r\n",
                "dataset1.loc[dataset1['pesquisa_de_satisfa_o__c'] == 'nan', 'pq_satisfacao'] = 5\r\n",
                "dataset1.loc[dataset1['pesquisa_de_satisfa_o__c'] == 'Enviado', 'pq_satisfacao'] = 5\r\n",
                "dataset1.loc[dataset1['pesquisa_de_satisfa_o__c'] == 'Normal', 'pq_satisfacao'] = 5\r\n",
                "dataset1.loc[dataset1['pesquisa_de_satisfa_o__c'] == 'Bom', 'pq_satisfacao'] = 6\r\n",
                "dataset1.loc[dataset1['pesquisa_de_satisfa_o__c'] == 'Feliz', 'pq_satisfacao'] = 7\r\n",
                "dataset1.loc[dataset1['pesquisa_de_satisfa_o__c'] == 'Incrivel', 'pq_satisfacao'] = 8"
            ],
            "metadata": {
                "azdata_cell_guid": "8f70b070-7e94-4c06-af22-43ad458eb057"
            },
            "outputs": [],
            "execution_count": 6
        },
        {
            "cell_type": "code",
            "source": [
                "dataset1['pq_satisfacao'].describe()"
            ],
            "metadata": {
                "azdata_cell_guid": "0ba28ed6-721d-42d3-ad03-07dced8dca12"
            },
            "outputs": [
                {
                    "output_type": "execute_result",
                    "execution_count": 307,
                    "data": {
                        "text/plain": "count    77489.000000\nmean         0.785750\nstd          1.902353\nmin          0.000000\n25%          0.000000\n50%          0.000000\n75%          0.000000\nmax          8.000000\nName: pq_satisfacao, dtype: float64"
                    },
                    "metadata": {}
                }
            ],
            "execution_count": 307
        },
        {
            "cell_type": "markdown",
            "source": [
                "## **Análise das datas nas bases - conversão de object array para datetime**"
            ],
            "metadata": {
                "azdata_cell_guid": "f0704ae2-5634-43c7-a5b0-a78eacc60df3"
            },
            "attachments": {}
        },
        {
            "cell_type": "markdown",
            "source": [
                "Vamos criar variáveis auxiliares 'date' que estejam no formato datetime64, e não como NumPy object array"
            ],
            "metadata": {
                "azdata_cell_guid": "317fabd1-51a5-441b-ad5e-022139878593"
            },
            "attachments": {}
        },
        {
            "cell_type": "code",
            "source": [
                "dataset1['date_ref'].describe()"
            ],
            "metadata": {
                "azdata_cell_guid": "b1097fcb-d123-44e1-b784-4d9c45250eac"
            },
            "outputs": [
                {
                    "output_type": "execute_result",
                    "execution_count": 308,
                    "data": {
                        "text/plain": "count          77489\nunique           245\ntop       2020-09-10\nfreq            1008\nName: date_ref, dtype: object"
                    },
                    "metadata": {}
                }
            ],
            "execution_count": 308
        },
        {
            "cell_type": "markdown",
            "source": [
                "Criar variável que converte o object array em datetime"
            ],
            "metadata": {
                "azdata_cell_guid": "82685543-ae15-47df-be5a-b4567953e9a4"
            },
            "attachments": {}
        },
        {
            "cell_type": "code",
            "source": [
                "dataset1['date'] = (dataset1['date_ref']).astype(\"datetime64[s]\")"
            ],
            "metadata": {
                "azdata_cell_guid": "2b6d0891-4f40-4c0d-8847-9982d2cb4ffa"
            },
            "outputs": [],
            "execution_count": 7
        },
        {
            "cell_type": "code",
            "source": [
                "dataset1['date'].describe()"
            ],
            "metadata": {
                "azdata_cell_guid": "cab54c35-6966-44ce-ae76-559b7f844a8f"
            },
            "outputs": [
                {
                    "output_type": "stream",
                    "name": "stderr",
                    "text": "C:\\Users\\W1ND0W~1\\AppData\\Local\\Temp/ipykernel_5036/1763608648.py:1: FutureWarning: Treating datetime data as categorical rather than numeric in `.describe` is deprecated and will be removed in a future version of pandas. Specify `datetime_is_numeric=True` to silence this warning and adopt the future behavior now.\n  dataset1['date'].describe()\n"
                },
                {
                    "output_type": "execute_result",
                    "execution_count": 359,
                    "data": {
                        "text/plain": "count                   77489\nunique                    245\ntop       2020-09-10 00:00:00\nfreq                     1008\nfirst     2020-02-23 00:00:00\nlast      2020-10-29 00:00:00\nName: date, dtype: object"
                    },
                    "metadata": {}
                }
            ],
            "execution_count": 359
        },
        {
            "cell_type": "code",
            "source": [
                "dataset2['date'] = (dataset2['cred_date']).astype(\"datetime64[s]\")"
            ],
            "metadata": {
                "azdata_cell_guid": "70043d9b-a9e5-4dd1-a74b-3a1ed21fe1b6"
            },
            "outputs": [],
            "execution_count": 10
        },
        {
            "cell_type": "markdown",
            "source": [
                "Vamos acrescentar uma tag temporal: 0 para antes de 1 Ago; 1 para após 1 Ago"
            ],
            "metadata": {
                "azdata_cell_guid": "baad8a27-77c5-4bc1-bb27-1977b3c67350"
            },
            "attachments": {}
        },
        {
            "cell_type": "code",
            "source": [
                "dataset1['time_tag'] = 0\r\n",
                "dataset2['time_tag'] = 0\r\n",
                "#inicializar com valor nulo\r\n",
                "\r\n",
                "reference_date = np.datetime64(\"2020-08-01\")"
            ],
            "metadata": {
                "azdata_cell_guid": "f67bbf70-980d-4ca3-8383-d4c58164b6ee"
            },
            "outputs": [],
            "execution_count": 8
        },
        {
            "cell_type": "code",
            "source": [
                "dataset1.loc[dataset1['date'] >= reference_date, 'time_tag'] = 1\r\n",
                "dataset2.loc[dataset2['date'] >= reference_date, 'time_tag'] = 1\r\n",
                "# mudar valor apenas para os casos em que supera a data de referência"
            ],
            "metadata": {
                "azdata_cell_guid": "67c0f08c-d2c0-4b0a-ba7e-a9479f24a252"
            },
            "outputs": [],
            "execution_count": 11
        },
        {
            "cell_type": "markdown",
            "source": [
                "## **Encontrar substrings referentes aos assuntos, e criar grupos para os assuntos**"
            ],
            "metadata": {
                "azdata_cell_guid": "0d98da5c-ed0e-4ba8-bc45-5efc622503ea"
            },
            "attachments": {}
        },
        {
            "cell_type": "code",
            "source": [
                "dataset1['assunto'].unique()"
            ],
            "metadata": {
                "azdata_cell_guid": "af61083e-188d-45bd-abe9-770e4be33afa"
            },
            "outputs": [
                {
                    "output_type": "execute_result",
                    "execution_count": 363,
                    "data": {
                        "text/plain": "array(['Aplicativo:Dúvidas funcionalidades App:Primeiro Acesso',\n       'Produto:S920:Ativação', 'Produto:Cartão pré-pago:Dúvidas',\n       'Logística:Envio de Cartão:Tracking', 'Pedido:Cancelamento:Outros',\n       'Aplicativo:Dúvidas funcionalidades App:Redefinição de senha',\n       'Aplicativo:Dúvidas funcionalidades App:Prazos e taxas',\n       'Logística:OS:Confirmação/alteração de dados',\n       'Aplicativo:Cartões:Redefinição de senha',\n       'Risco:Dúvidas bloqueio:',\n       'Aplicativo:Dúvidas funcionalidades App:Saldo',\n       'Logística:Envio de Cartão:Ineficiência',\n       'Aplicativo:Dúvidas funcionalidades App:Link de Pagamento',\n       'Produto:D195:Dúvida D195', 'Transação:Erro de transação:',\n       'Produto:Pinpad:Problema Revertido',\n       'Transferência de saldo:Conta bancária:',\n       'Cadastro:Alteração de dados:Nome fantasia',\n       'Cadastro:Alteração de dados:Outros',\n       'Aplicativo:Dúvidas funcionalidades App:Transferência bancária',\n       'Aplicativo:Cartões:Ativação', 'Produto:D195:Ativação',\n       'Logística:Troca:Pinpad', 'Pedido:Confirmação do pedido:',\n       'Logística:OS:Tracking de OS', 'Aplicativo:Cartões:Saldo',\n       'Produto:Pinpad:Falha no pareamento',\n       'Cadastro:Alteração de dados:Titularidade', 'Logística:Troca:S920',\n       'Produto:D195:Falha de Conexão - revertido',\n       'Produto:Modelo de recebimento:',\n       'Aplicativo:Dúvidas funcionalidades App:Renda Extra',\n       'Bandeiras:Dúvidas Bandeiras:Bandeiras disponíveis',\n       'Produto:Pinpad:Pareamento', 'Logística:OS:OS atrasada',\n       'Bandeira:Dúvidas Bandeiras:Disponíveis',\n       'Feedback do cliente:Aplicativo:Outros',\n       'Produto:Promoções:Dúvidas',\n       'Transferência de saldo:Conta bancária:Problema',\n       'Aplicativo:Dúvidas funcionalidades App:Relatório',\n       'Logística:Troca:D195',\n       'Produto:D195:Falha de Conexão - não revertido',\n       'Aplicativo:Dúvidas funcionalidades App:Cancelamento de Venda',\n       'Transferência de saldo:Cartão pré-pago:Problema', 'Outros::',\n       'Cadastro:Alteração de dados:Telefone',\n       'Aplicativo:Cartões:Solicitação de Cartão', 'Produto::',\n       'Produto:Promoções:Problema',\n       'Produto:S920:Falha de Conexão - revertido',\n       'Transação:Consulta de transação:',\n       'Produto:Pinpad:Dúvidas pinpad',\n       'Cadastro:Alteração de dados:E-mail',\n       'Aplicativo:Dúvidas funcionalidades App:Cadastro de conta bancária',\n       'Cadastro:Alteração de dados:Endereço',\n       'Feedback do cliente:Atendimento:Encantador',\n       'Produto:S920:Dúvida S920', 'Logística:OS:Ineficiência',\n       'Aplicativo:Cartões:Problema na solicitação',\n       'Logística:Envio Chip:',\n       'Aplicativo:Dúvidas funcionalidades App:Transferência cartão pré-pago',\n       'Feedback do cliente:Aplicativo:Venda digitada',\n       'Feedback do cliente:Pagamentos:Prazos',\n       'Produto:D195:Falha de conexão - wifi - revertido',\n       'Logística:Envio de Bobina:',\n       'Cadastro:Alteração de dados:CNPJ X CPF',\n       'Logística:Desinstalação:S920',\n       'Produto:Cartão pré-pago:Atendimento acesso',\n       'Aplicativo:Dúvidas funcionalidades App:Calculadora de taxas',\n       'Produto:Promoções:', 'Logística:Troca:Mpos',\n       'Cadastro:Consulta de Dados:',\n       'Produto:mPOS:Falha de conexão - GPRS - revertido',\n       'Feedback do cliente:Máquina:S920',\n       'Produto:mPOS:Falha de Conexão - revertido',\n       'Produto:mPOS:Dúvidas mpos',\n       'Risco:Bloqueio:Transações fora do padrão',\n       'Produto:Simulação de vendas:', 'Produto:mPOS:Ativação',\n       'Aplicativo:Dúvidas funcionalidades App:Realização de vendas',\n       'Aplicativo:Dúvidas funcionalidades App:Outros',\n       'Produto:Cartão pré-pago:Transferência de Saldo para conta',\n       'Feedback do cliente:Pagamentos:Meios de recebimento',\n       'Produto:S920:Falha de Conexão - não revertido',\n       'Cadastro:Recredenciamento:Dúvidas',\n       'Aplicativo:Cartões:Falha na ativação',\n       'Feedback do cliente:Atendimento:Canal',\n       'Bandeira:Dúvidas Bandeiras:Pedido de novas bandeiras',\n       'Produto:S920:Problema', 'Logística:OS:Cancelamento de OS',\n       'Pedido:Cancelamento:Modelo não atende',\n       'Aplicativo:Dúvidas funcionalidades App:Emprestimo',\n       'Logística:Instalação:Pinpad',\n       'Feedback do cliente:Aplicativo:Simulador de vendas/ Tabela de Taxas',\n       'Feedback do cliente:Pagamentos:Taxas',\n       'Telecom:Reativação de chip:', 'Incidente::',\n       'Logística:Desinstalação:Pinpad',\n       'Aplicativo:Dúvidas funcionalidades App:Comprovante de venda',\n       'Logística:Envio de Cartão pré-pago:',\n       'Feedback do cliente:Aplicativo:Link de Pagamento',\n       'Aplicativo:Problema:Login', 'Logística:Desinstalação:D195',\n       'Transação:Time Out:', '::', 'Pedido:Boleto:',\n       'Produto:D195:Problema',\n       'Produto:Cartão pré-pago:Alteração de dados na Acesso',\n       'Risco:Bloqueio:', 'Produto:D195:Problema Revertido',\n       'Feedback do cliente:Máquina:D195',\n       'Cadastro:Alteração de dados:Razão social',\n       'Logística:Instalação:D195',\n       'Produto:Cartão pré-pago:Transferência de Saldo entre cartões',\n       'Produto:S920:Falha de conexão - GPRS - revertido',\n       'Feedback do cliente:Atendimento:',\n       'Produto:mPOS:Problema POS - revertido',\n       'Feedback do cliente:Máquina:Pinpad', 'Aplicativo:Problema:Outros',\n       'Feedback do cliente:Pagamentos:Transferência automática',\n       'Produto:mPOS:Atualização',\n       'Produto:mPOS:Falha de Conexão - não revertido',\n       'Logística:Envio de Cartão:Atraso na entrega',\n       'Aplicativo:Dúvidas funcionalidades App:Pedido de Máquina',\n       'Produto:S920:Problema Revertido', 'Cadastro:Problema:',\n       'Aplicativo::', 'Cadastro:Alteração de dados:Nome da mãe',\n       'Logística:Envio de adesivo:', 'Transação:Cancelamento de Venda:',\n       'Pedido:Cancelamento:Taxas',\n       'Bandeiras:Dúvidas Bandeiras:Pedido de novas bandeiras',\n       'Logística:Máquina roubada / perdida:',\n       'Logística:Instalação:S920', 'Logística:Troca:',\n       'Feedback do cliente:Atendimento:Horário de atendimento',\n       'Feedback do cliente:Outros:Bandeiras',\n       'Pedido:Cancelamento:Atraso na entrega',\n       'Feedback do cliente:Logística:Prazo de entrega',\n       'Produto:mPOS:Problema', 'Feedback do cliente:Outros:Risco',\n       'Logística:Envio de Cartão pré-pago:1 via Ton',\n       'Transferência de saldo::',\n       'Produto:D195:Falha de conexão - GPRS - revertido',\n       'Produto:Pinpad:', 'Feedback do cliente:Outros:Contrato',\n       'Comunicados::', 'Produto:D195:',\n       'Feedback do cliente:Aplicativo:Extrato cartão',\n       'Aplicativo:Dúvidas funcionalidades App:Indicação',\n       'Feedback do cliente:Cartão:Funcionalidade',\n       'Feedback do cliente:Inbound:',\n       'Feedback do cliente:Pagamentos:Modelo de pagamento',\n       'Feedback do cliente:Aplicativo:Relatórios',\n       'Produto:S920:Falha de conexão - wifi - revertido',\n       'Aplicativo:Dúvidas funcionalidades App:Catálogo de Produtos',\n       'Aplicativo:Problema:', 'Feedback do cliente:Logística:OPL',\n       'Feedback do cliente:Logística:Kit incompleto',\n       'Feedback do cliente:Logística:Prazo de troca',\n       'Feedback do cliente:Atendimento:Comunicação ativa',\n       'Transferência de saldo:Transferência Terceiros:Dúvidas',\n       'Logística:Desinstalação:Mpos', 'Produto:D195:Falha na ativação',\n       'Cadastro:Problema:Outros',\n       'Aplicativo:Dúvidas funcionalidades App:Seguro',\n       'Feedback do cliente:Logística:Atraso',\n       'Aplicativo:Dúvidas funcionalidades App:',\n       'Transferência de saldo:Transferência Terceiros:Problema',\n       'Produto:mPOS:Falha de conexão - wifi - revertido',\n       'Feedback do cliente:Outros:', 'Feedback do cliente:Pagamentos:',\n       'Produto:mPOS:Falha na atualização', 'Cadastro:Recredenciamento:',\n       'Feedback do cliente:Outros:Brindes/Assessórios',\n       'Logística:Gestão de equipamentos:',\n       'Transferência de saldo:Cartão pré-pago:',\n       'Pedido:Blacklist:Estorno',\n       'Feedback do cliente:Logística:Estado do produto',\n       'Produto:S920:Falha na ativação', 'Risco::',\n       'Logística:Instalação:Mpos',\n       'Feedback do cliente:Atendimento:Atendimento presencial',\n       'Feedback do cliente:Aplicativo:Acesso/ Senha',\n       'Feedback do cliente:Cartão:Taxas',\n       'Produto:mPOS:Falha na ativação', 'Pedido:Cancelamento:',\n       'Telecom::', 'Produto:Cartão pré-pago:',\n       'Feedback do cliente:Outros:Régua de e-mail',\n       'Feedback do cliente:Logística:Produto errado',\n       'Feedback do cliente:Máquina:',\n       'Feedback do cliente:Cartão:Atendimento acesso',\n       'Feedback do cliente::', 'Logística:OS:',\n       'Feedback do cliente:Cartão:Hotsite',\n       'Logística:Envio de Cartão pré-pago:2 via Ton',\n       'Logística:Envio de Cartão:', 'Bandeira:Dúvidas Bandeiras:',\n       'Pedido:Blacklist:Dúvida',\n       'Feedback do cliente:Outros:Confirmação de pedido',\n       'Produto:S920:', 'Feedback do cliente:Máquina:Mpos',\n       'Feedback do cliente:Aplicativo:Catálogo de Produtos', 'Pedido::',\n       'Cadastro:Alteração de dados:',\n       'Feedback do cliente:Aplicativo:Cadastro de conta bancária',\n       'Feedback do cliente:Atendimento:URA', 'Logística:Desinstalação:',\n       'Risco:Bloqueio:Chargeback', 'Feedback do cliente:Logística:',\n       'Aplicativo:Cartões:',\n       'Logística:Envio de Cartão pré-pago:2 via Stone Mais',\n       'Transferência de saldo:Cartão:Problema',\n       'Bandeiras:Dúvidas Bandeiras:Disponíveis',\n       'Risco:Bloqueio:Chargeback máquina', 'Produto:mPOS:',\n       'Feedback do cliente:Cartão:', 'Feedback do cliente:Aplicativo:',\n       'Cadastro::', 'Transferência de saldo:Cartão:Funcionalidade'],\n      dtype=object)"
                    },
                    "metadata": {}
                }
            ],
            "execution_count": 363
        },
        {
            "cell_type": "markdown",
            "source": [
                "Do trecho acima, vemos que as substrings procuradas serão:\n",
                "\n",
                "'<span style=\"font-size: 12px; white-space: pre-wrap;\">Aplicativo', </span> <span style=\"font-size: 12px; white-space: pre-wrap;\">'</span><span style=\"font-size: 12px; white-space: pre-wrap;\">Produto', '</span><span style=\"font-size: 12px; white-space: pre-wrap;\">Logística', 'Pedido', 'Risco', 'Feedback', 'Cadastro', 'Transação', 'Transferência', 'Bandeira', 'Telecom', 'Comunicado'</span>"
            ],
            "metadata": {
                "azdata_cell_guid": "fddb0f66-a8ab-46cc-a10d-a484ca6cabd5"
            },
            "attachments": {}
        },
        {
            "cell_type": "code",
            "source": [
                "from pandas import Series\r\n",
                "\r\n",
                "dataset1['tema'] = ''\r\n",
                "#initialize as string\r\n",
                "\r\n",
                "i = 0\r\n",
                "#dataset1['assunto'].str.contains(\"Aplicativo\", regex = True) is a series of boolean values: True if contains, False if not contains\r\n",
                "#we want the element [i] from this list\r\n",
                "#since we will pass a boolean as the argument, if else will only check if it is true\r\n",
                "\r\n",
                "#reiniciar índices:\r\n",
                "dataset1 = dataset1.reset_index()\r\n",
                "\r\n",
                "dataset1.info()\r\n",
                ""
            ],
            "metadata": {
                "azdata_cell_guid": "1b8da63c-7b05-4a77-8b7e-ec85d039863f"
            },
            "outputs": [
                {
                    "name": "stdout",
                    "text": "<class 'pandas.core.frame.DataFrame'>\nRangeIndex: 77489 entries, 0 to 77488\nData columns (total 14 columns):\n #   Column                    Non-Null Count  Dtype         \n---  ------                    --------------  -----         \n 0   index                     77489 non-null  int64         \n 1   Unnamed: 0                77489 non-null  int64         \n 2   accountid                 77489 non-null  object        \n 3   date_ref                  77489 non-null  object        \n 4   channelid                 77489 non-null  float64       \n 5   waitingtime               77489 non-null  float64       \n 6   missed                    77489 non-null  object        \n 7   pesquisa_de_satisfa_o__c  11585 non-null  object        \n 8   assunto                   77489 non-null  object        \n 9   Id                        77489 non-null  object        \n 10  pq_satisfacao             77489 non-null  int64         \n 11  date                      77489 non-null  datetime64[ns]\n 12  time_tag                  77489 non-null  int64         \n 13  tema                      77489 non-null  object        \ndtypes: datetime64[ns](1), float64(2), int64(4), object(7)\nmemory usage: 8.3+ MB\n",
                    "output_type": "stream"
                }
            ],
            "execution_count": 12
        },
        {
            "cell_type": "code",
            "source": [
                "#tema: coluna 12\r\n",
                "dataset1['aplicativo'] = (dataset1['assunto']).str.contains(\"Aplicativo\", regex = True)\r\n",
                "dataset1['produto'] = (dataset1['assunto']).str.contains(\"Produto\", regex = True)\r\n",
                "dataset1['logistica'] = (dataset1['assunto']).str.contains(\"Logística\", regex = True)\r\n",
                "dataset1['pedido'] = (dataset1['assunto']).str.contains(\"Pedido\", regex = True)\r\n",
                "dataset1['risco'] = (dataset1['assunto']).str.contains(\"Risco\", regex = True)\r\n",
                "dataset1['feedback'] = (dataset1['assunto']).str.contains(\"Feedback\", regex = True)\r\n",
                "dataset1['cadastro'] = (dataset1['assunto']).str.contains(\"Cadastro\", regex = True)\r\n",
                "dataset1['transacao'] = (dataset1['assunto']).str.contains(\"Transação\", regex = True)       \r\n",
                "dataset1['transferencia'] = (dataset1['assunto']).str.contains(\"Transferência\", regex = True)\r\n",
                "dataset1['bandeira'] = (dataset1['assunto']).str.contains(\"Bandeira\", regex = True)\r\n",
                "dataset1['telecom'] = (dataset1['assunto']).str.contains(\"Telecom\", regex = True)\r\n",
                "dataset1['comunicado'] = (dataset1['assunto']).str.contains(\"Comunicado\", regex = True)\r\n",
                "        \r\n",
                "#para preencher a coluna tema, basta filtrar cada uma destas colunas, encontrando os valores true\r\n",
                "#e.g. a coluna 'aplicativo' apresenta valor true apenas para os casos em que 'assunto' contem a substring \"Aplicativo\"\r\n",
                "\r\n",
                "dataset1.loc[dataset1['aplicativo'] == True, 'tema'] = \"Aplicativo\"\r\n",
                "dataset1.loc[dataset1['produto'] == True, 'tema'] = \"Produto\"\r\n",
                "dataset1.loc[dataset1['logistica'] == True, 'tema'] = \"Logística\"\r\n",
                "dataset1.loc[dataset1['pedido'] == True, 'tema'] = \"Pedido\"\r\n",
                "dataset1.loc[dataset1['risco'] == True, 'tema'] = \"Risco\"\r\n",
                "dataset1.loc[dataset1['feedback'] == True, 'tema'] = \"Feedback\"\r\n",
                "dataset1.loc[dataset1['cadastro'] == True, 'tema'] = \"Cadastro\"\r\n",
                "dataset1.loc[dataset1['transacao'] == True, 'tema'] = \"Transação\"\r\n",
                "dataset1.loc[dataset1['transferencia'] == True, 'tema'] = \"Transferência\"\r\n",
                "dataset1.loc[dataset1['bandeira'] == True, 'tema'] = \"Bandeira\"\r\n",
                "dataset1.loc[dataset1['telecom'] == True, 'tema'] = \"Telecom\"\r\n",
                "dataset1.loc[dataset1['comunicado'] == True, 'tema'] = \"Comunicado\""
            ],
            "metadata": {
                "azdata_cell_guid": "158b6524-d069-42fb-975d-c44466f738b0",
                "tags": []
            },
            "outputs": [],
            "execution_count": 13
        },
        {
            "cell_type": "markdown",
            "source": [
                "Selecionar apenas as colunas dos datasets que devem ser exportadas"
            ],
            "metadata": {
                "azdata_cell_guid": "63d54bce-81ad-414d-9950-29b1623140c6"
            },
            "attachments": {}
        },
        {
            "cell_type": "code",
            "source": [
                "dataset1 = dataset1[['Unnamed: 0', 'accountid', 'Id', 'channelid', 'date', 'time_tag', 'tema', 'assunto', 'waitingtime', 'missed', 'pq_satisfacao']]\r\n",
                "#reiniciar índices:\r\n",
                "dataset1 = dataset1.reset_index()\r\n",
                "\r\n",
                "dataset2 = dataset2[['Unnamed: 0', 'accountid', 'date', 'time_tag', 'shipping_address_city', 'shipping_address_state', 'max_machine']]\r\n",
                "#reiniciar índices:\r\n",
                "dataset2 = dataset2.reset_index()"
            ],
            "metadata": {
                "azdata_cell_guid": "a3109b1c-a884-41d9-bed2-a005f67b7889",
                "tags": []
            },
            "outputs": [],
            "execution_count": 14
        },
        {
            "cell_type": "markdown",
            "source": [
                "Verificação"
            ],
            "metadata": {
                "azdata_cell_guid": "d7cbb3d9-21b0-4964-bba4-9fd0b5f3b2e1"
            },
            "attachments": {}
        },
        {
            "cell_type": "code",
            "source": [
                "dataset1.head()"
            ],
            "metadata": {
                "azdata_cell_guid": "ad0501b5-1b79-4a6c-8b62-2c4d2432c280"
            },
            "outputs": [
                {
                    "data": {
                        "text/plain": "   index  Unnamed: 0           accountid                  Id  channelid  \\\n0      0           4  0013j00002z0CeEAAU  0013j00002z0CeEAAU        2.0   \n1      1           5  0013j00002z0CeEAAU  0013j00002z0CeEAAU        2.0   \n2      2           6  0013j00002z0CeEAAU  0013j00002z0CeEAAU        2.0   \n3      3           7  0013j00002zQgldAAC  0013j00002zQgldAAC        2.0   \n4      4           8  0013j00002zQgldAAC  0013j00002zQgldAAC        2.0   \n\n        date  time_tag        tema  \\\n0 2020-07-31         0  Aplicativo   \n1 2020-07-31         0     Produto   \n2 2020-09-23         1     Produto   \n3 2020-08-29         1   Logística   \n4 2020-08-29         1      Pedido   \n\n                                             assunto  waitingtime missed  \\\n0  Aplicativo:Dúvidas funcionalidades App:Primeir...         15.0  False   \n1                              Produto:S920:Ativação         15.0  False   \n2                    Produto:Cartão pré-pago:Dúvidas          1.0  False   \n3                 Logística:Envio de Cartão:Tracking          6.0  False   \n4                         Pedido:Cancelamento:Outros          6.0  False   \n\n   pq_satisfacao  \n0              0  \n1              0  \n2              0  \n3              0  \n4              0  ",
                        "text/html": "<div>\n<style scoped>\n    .dataframe tbody tr th:only-of-type {\n        vertical-align: middle;\n    }\n\n    .dataframe tbody tr th {\n        vertical-align: top;\n    }\n\n    .dataframe thead th {\n        text-align: right;\n    }\n</style>\n<table border=\"1\" class=\"dataframe\">\n  <thead>\n    <tr style=\"text-align: right;\">\n      <th></th>\n      <th>index</th>\n      <th>Unnamed: 0</th>\n      <th>accountid</th>\n      <th>Id</th>\n      <th>channelid</th>\n      <th>date</th>\n      <th>time_tag</th>\n      <th>tema</th>\n      <th>assunto</th>\n      <th>waitingtime</th>\n      <th>missed</th>\n      <th>pq_satisfacao</th>\n    </tr>\n  </thead>\n  <tbody>\n    <tr>\n      <th>0</th>\n      <td>0</td>\n      <td>4</td>\n      <td>0013j00002z0CeEAAU</td>\n      <td>0013j00002z0CeEAAU</td>\n      <td>2.0</td>\n      <td>2020-07-31</td>\n      <td>0</td>\n      <td>Aplicativo</td>\n      <td>Aplicativo:Dúvidas funcionalidades App:Primeir...</td>\n      <td>15.0</td>\n      <td>False</td>\n      <td>0</td>\n    </tr>\n    <tr>\n      <th>1</th>\n      <td>1</td>\n      <td>5</td>\n      <td>0013j00002z0CeEAAU</td>\n      <td>0013j00002z0CeEAAU</td>\n      <td>2.0</td>\n      <td>2020-07-31</td>\n      <td>0</td>\n      <td>Produto</td>\n      <td>Produto:S920:Ativação</td>\n      <td>15.0</td>\n      <td>False</td>\n      <td>0</td>\n    </tr>\n    <tr>\n      <th>2</th>\n      <td>2</td>\n      <td>6</td>\n      <td>0013j00002z0CeEAAU</td>\n      <td>0013j00002z0CeEAAU</td>\n      <td>2.0</td>\n      <td>2020-09-23</td>\n      <td>1</td>\n      <td>Produto</td>\n      <td>Produto:Cartão pré-pago:Dúvidas</td>\n      <td>1.0</td>\n      <td>False</td>\n      <td>0</td>\n    </tr>\n    <tr>\n      <th>3</th>\n      <td>3</td>\n      <td>7</td>\n      <td>0013j00002zQgldAAC</td>\n      <td>0013j00002zQgldAAC</td>\n      <td>2.0</td>\n      <td>2020-08-29</td>\n      <td>1</td>\n      <td>Logística</td>\n      <td>Logística:Envio de Cartão:Tracking</td>\n      <td>6.0</td>\n      <td>False</td>\n      <td>0</td>\n    </tr>\n    <tr>\n      <th>4</th>\n      <td>4</td>\n      <td>8</td>\n      <td>0013j00002zQgldAAC</td>\n      <td>0013j00002zQgldAAC</td>\n      <td>2.0</td>\n      <td>2020-08-29</td>\n      <td>1</td>\n      <td>Pedido</td>\n      <td>Pedido:Cancelamento:Outros</td>\n      <td>6.0</td>\n      <td>False</td>\n      <td>0</td>\n    </tr>\n  </tbody>\n</table>\n</div>"
                    },
                    "metadata": {},
                    "execution_count": 15,
                    "output_type": "execute_result"
                }
            ],
            "execution_count": 15
        },
        {
            "cell_type": "code",
            "source": [
                "dataset2.head()"
            ],
            "metadata": {
                "azdata_cell_guid": "e7498a0b-f526-44b9-a1b3-758c75540202"
            },
            "outputs": [
                {
                    "output_type": "execute_result",
                    "execution_count": 370,
                    "data": {
                        "text/plain": "   index  Unnamed: 0           accountid       date  time_tag  \\\n0      0           4  0013j00002z0CeEAAU 2020-07-28         0   \n1      1           5  0013j00002z0CeEAAU 2020-07-28         0   \n2      2           6  0013j00002z0CeEAAU 2020-07-28         0   \n3      3           7  0013j00002zQgldAAC 2020-08-28         1   \n4      4           8  0013j00002zQgldAAC 2020-08-28         1   \n\n  shipping_address_city shipping_address_state max_machine  \n0           São Gonçalo                     RJ          T3  \n1           São Gonçalo                     RJ          T3  \n2           São Gonçalo                     RJ          T3  \n3              Itaboraí                     RJ          T1  \n4              Itaboraí                     RJ          T1  ",
                        "text/html": "<div>\n<style scoped>\n    .dataframe tbody tr th:only-of-type {\n        vertical-align: middle;\n    }\n\n    .dataframe tbody tr th {\n        vertical-align: top;\n    }\n\n    .dataframe thead th {\n        text-align: right;\n    }\n</style>\n<table border=\"1\" class=\"dataframe\">\n  <thead>\n    <tr style=\"text-align: right;\">\n      <th></th>\n      <th>index</th>\n      <th>Unnamed: 0</th>\n      <th>accountid</th>\n      <th>date</th>\n      <th>time_tag</th>\n      <th>shipping_address_city</th>\n      <th>shipping_address_state</th>\n      <th>max_machine</th>\n    </tr>\n  </thead>\n  <tbody>\n    <tr>\n      <th>0</th>\n      <td>0</td>\n      <td>4</td>\n      <td>0013j00002z0CeEAAU</td>\n      <td>2020-07-28</td>\n      <td>0</td>\n      <td>São Gonçalo</td>\n      <td>RJ</td>\n      <td>T3</td>\n    </tr>\n    <tr>\n      <th>1</th>\n      <td>1</td>\n      <td>5</td>\n      <td>0013j00002z0CeEAAU</td>\n      <td>2020-07-28</td>\n      <td>0</td>\n      <td>São Gonçalo</td>\n      <td>RJ</td>\n      <td>T3</td>\n    </tr>\n    <tr>\n      <th>2</th>\n      <td>2</td>\n      <td>6</td>\n      <td>0013j00002z0CeEAAU</td>\n      <td>2020-07-28</td>\n      <td>0</td>\n      <td>São Gonçalo</td>\n      <td>RJ</td>\n      <td>T3</td>\n    </tr>\n    <tr>\n      <th>3</th>\n      <td>3</td>\n      <td>7</td>\n      <td>0013j00002zQgldAAC</td>\n      <td>2020-08-28</td>\n      <td>1</td>\n      <td>Itaboraí</td>\n      <td>RJ</td>\n      <td>T1</td>\n    </tr>\n    <tr>\n      <th>4</th>\n      <td>4</td>\n      <td>8</td>\n      <td>0013j00002zQgldAAC</td>\n      <td>2020-08-28</td>\n      <td>1</td>\n      <td>Itaboraí</td>\n      <td>RJ</td>\n      <td>T1</td>\n    </tr>\n  </tbody>\n</table>\n</div>"
                    },
                    "metadata": {}
                }
            ],
            "execution_count": 370
        },
        {
            "cell_type": "markdown",
            "source": [
                "## **Exportar dataframe obtido como um arquivo CSV**"
            ],
            "metadata": {
                "azdata_cell_guid": "f79892d2-4325-4c42-b599-3a566e01ad90",
                "extensions": {
                    "azuredatastudio": {
                        "views": []
                    }
                }
            }
        },
        {
            "cell_type": "code",
            "source": [
                "dataset1.to_csv(r\"cleaned_cases.csv\", index = False)\n",
                "#Modifique o endereço (path) pelo endereço em que o arquivo deve ser salvo\n",
                "#Modifique o trecho \"poll.csv\" pelo nome desejado para o arquivo. Não remova a extensão .csv.\n",
                "#Exemplo: se deseja que o arquivo se chame dataframe_tratado, substitua o trecho \"poll.csv\" por \"dataframe_tratado.csv\"\n",
                "\n",
                "dataset2.to_csv(r\"cleaned_creds.csv\", index = False)"
            ],
            "metadata": {
                "azdata_cell_guid": "6ccfc7d2-7b29-46e3-924e-db25c6ef38d6",
                "tags": [],
                "extensions": {
                    "azuredatastudio": {
                        "views": []
                    }
                }
            },
            "outputs": [],
            "execution_count": 16
        }
    ]
}