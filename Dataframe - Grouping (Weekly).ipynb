{
    "metadata": {
        "kernelspec": {
            "name": "python3",
            "display_name": "Python 3 (ipykernel)",
            "language": "python"
        },
        "language_info": {
            "name": "python",
            "version": "3.8.10",
            "mimetype": "text/x-python",
            "codemirror_mode": {
                "name": "ipython",
                "version": 3
            },
            "pygments_lexer": "ipython3",
            "nbconvert_exporter": "python",
            "file_extension": ".py"
        },
        "extensions": {
            "azuredatastudio": {
                "version": 1,
                "views": []
            }
        }
    },
    "nbformat_minor": 2,
    "nbformat": 4,
    "cells": [
        {
            "cell_type": "markdown",
            "source": [
                "# Instruções gerais\n",
                "\n",
                "Para executar uma CÉLULA, pressione o botão \"Run\" no topo, com a CÉLULA selecionada, ou pressione:\n",
                "    \n",
                "    Shift + Enter\n",
                "\n",
                "EXECUTE APENAS UMA CÉLULA POR VEZ\n",
                "\n",
                "-Caso deseje apagar a saída de uma célula carregada, mas não deseje carregar uma nova saída, vá à aba superior, escolha o ícone\n",
                "do teclado (open the command palette/ jupyter-notebook command group) e selecione clear cell output.\n",
                "\n",
                "@author: Marco César Prado Soares, MSc.\n",
                "Especialista Lean Six Sigma Master Black Belt, Eng. Químico, MSc. Eng. Mecatrônica (instrumentação) \n",
                "Marco.Soares@br.ey.com; marcosoares.feq@gmail.com"
            ],
            "metadata": {
                "extensions": {
                    "azuredatastudio": {
                        "views": []
                    }
                },
                "azdata_cell_guid": "24b8231f-437c-431d-8799-281a236d7472"
            }
        },
        {
            "cell_type": "markdown",
            "source": [
                "# **Grouping (Weekly)**"
            ],
            "metadata": {
                "azdata_cell_guid": "8c8f0b29-84c1-4ea6-b3a7-ca23de244e50",
                "extensions": {
                    "azuredatastudio": {
                        "views": []
                    }
                }
            },
            "attachments": {}
        },
        {
            "cell_type": "markdown",
            "source": [
                "## **Carregar bibliotecas necessárias à análise**"
            ],
            "metadata": {
                "azdata_cell_guid": "8dd5c4f4-f98c-457d-a4a9-42647d13fbea",
                "extensions": {
                    "azuredatastudio": {
                        "views": []
                    }
                }
            }
        },
        {
            "cell_type": "code",
            "source": [
                "import pandas as pd\n",
                "import numpy as np\n",
                "import matplotlib.pyplot as plt\n",
                "import seaborn as sns"
            ],
            "metadata": {
                "azdata_cell_guid": "420e5c38-6512-4db0-bf3c-198b841a1b87",
                "extensions": {
                    "azuredatastudio": {
                        "views": []
                    }
                }
            },
            "outputs": [],
            "execution_count": 2
        },
        {
            "cell_type": "markdown",
            "source": [
                "## **Importar dataframe no Anaconda, Azure Data Studio, ou Google Colab**"
            ],
            "metadata": {
                "azdata_cell_guid": "3d40233a-b6ad-4de3-8991-faa8429dc4f1",
                "extensions": {
                    "azuredatastudio": {
                        "views": []
                    }
                }
            }
        },
        {
            "cell_type": "markdown",
            "source": [
                "<span style=\"font-size:12.0pt;\n",
                "font-family:&quot;Times New Roman&quot;,serif\">- Tanto em Python quanto em R, um dataframe é um <b>objeto criado</b> que <b>armazena uma tabela de dados</b>.</span>\n",
                "\n",
                "<span style=\"font-size:12.0pt;font-family:&quot;Times New Roman&quot;,serif\">- O objeto é criado automaticamente quando importamos um arquivo txt, csv, ou xlsx para o ambiente de programação, ou quando o criamos a partir de um dicionário, por exemplo (dicionário é um objeto que pode armazenar outros objetos de diversos tipos, desde variáveis numéricas até dataframes ou listas).</span>\n",
                "\n",
                "<span style=\"font-size:12.0pt;line-height:115%;font-family:&quot;Times New Roman&quot;,serif;\n",
                "mso-fareast-font-family:Calibri;mso-fareast-theme-font:minor-latin;mso-ansi-language:\n",
                "PT-BR;mso-fareast-language:EN-US;mso-bidi-language:AR-SA\">- Para importar o dataframe, utilizamos comandos do Pandas que variam para arquivo do Excel, csv com cabeçalho, ou csv sem cabeçalho. <b><span style=\"color:red\">Arquivos .txt e .csv são lidos da mesma forma</span></b>.</span>"
            ],
            "metadata": {
                "azdata_cell_guid": "6ac8a213-5a18-4586-80c6-09cbd58808f9",
                "extensions": {
                    "azuredatastudio": {
                        "views": []
                    }
                }
            }
        },
        {
            "cell_type": "markdown",
            "source": [
                "**Dados em arquivo CSV (comma separated values) com cabeçalho**"
            ],
            "metadata": {
                "azdata_cell_guid": "9cd54732-738b-492b-ab87-f9b699ff65a5",
                "extensions": {
                    "azuredatastudio": {
                        "views": []
                    }
                }
            }
        },
        {
            "cell_type": "code",
            "source": [
                "## dados em arquivo CSV (comma separated values) com cabeçalho\n",
                "\n",
                "caminho = \"cleaned_cases.csv\"\n",
                "dataset1 = pd.read_csv(caminho)\n",
                "\n",
                "caminho2 = \"cleaned_creds.csv\"\n",
                "dataset2 = pd.read_csv(caminho2)"
            ],
            "metadata": {
                "azdata_cell_guid": "0599c71b-b78d-454f-8e61-1d3ef527e20a",
                "extensions": {
                    "azuredatastudio": {
                        "views": []
                    }
                }
            },
            "outputs": [],
            "execution_count": 3
        },
        {
            "cell_type": "markdown",
            "source": [
                "## **Avaliar propriedades gerais do dataframe**"
            ],
            "metadata": {
                "azdata_cell_guid": "9061ea93-2444-40c7-87c4-3ff244186a66",
                "extensions": {
                    "azuredatastudio": {
                        "views": []
                    }
                }
            }
        },
        {
            "cell_type": "markdown",
            "source": [
                "### **1\\. <span style=\"font-size: 14px;\">&nbsp;Podemos utilizar o comando .head() para&nbsp;</span> mostrar o cabeçalho:**"
            ],
            "metadata": {
                "azdata_cell_guid": "b26c0c28-4dea-47df-8ddf-a857d5a12fe1",
                "extensions": {
                    "azuredatastudio": {
                        "views": []
                    }
                }
            }
        },
        {
            "cell_type": "code",
            "source": [
                "dataset1.head()"
            ],
            "metadata": {
                "azdata_cell_guid": "5ec07389-6bd7-434c-8623-30945ea23fcc",
                "extensions": {
                    "azuredatastudio": {
                        "views": []
                    }
                }
            },
            "outputs": [
                {
                    "data": {
                        "text/plain": "   index  Unnamed: 0           accountid                  Id  channelid  \\\n0      0           4  0013j00002z0CeEAAU  0013j00002z0CeEAAU        2.0   \n1      1           5  0013j00002z0CeEAAU  0013j00002z0CeEAAU        2.0   \n2      2           6  0013j00002z0CeEAAU  0013j00002z0CeEAAU        2.0   \n3      3           7  0013j00002zQgldAAC  0013j00002zQgldAAC        2.0   \n4      4           8  0013j00002zQgldAAC  0013j00002zQgldAAC        2.0   \n\n         date  time_tag        tema  waitingtime  missed  pq_satisfacao  \n0  2020-07-31         0  Aplicativo         15.0   False              0  \n1  2020-07-31         0     Produto         15.0   False              0  \n2  2020-09-23         1     Produto          1.0   False              0  \n3  2020-08-29         1   Logística          6.0   False              0  \n4  2020-08-29         1      Pedido          6.0   False              0  ",
                        "text/html": "<div>\n<style scoped>\n    .dataframe tbody tr th:only-of-type {\n        vertical-align: middle;\n    }\n\n    .dataframe tbody tr th {\n        vertical-align: top;\n    }\n\n    .dataframe thead th {\n        text-align: right;\n    }\n</style>\n<table border=\"1\" class=\"dataframe\">\n  <thead>\n    <tr style=\"text-align: right;\">\n      <th></th>\n      <th>index</th>\n      <th>Unnamed: 0</th>\n      <th>accountid</th>\n      <th>Id</th>\n      <th>channelid</th>\n      <th>date</th>\n      <th>time_tag</th>\n      <th>tema</th>\n      <th>waitingtime</th>\n      <th>missed</th>\n      <th>pq_satisfacao</th>\n    </tr>\n  </thead>\n  <tbody>\n    <tr>\n      <th>0</th>\n      <td>0</td>\n      <td>4</td>\n      <td>0013j00002z0CeEAAU</td>\n      <td>0013j00002z0CeEAAU</td>\n      <td>2.0</td>\n      <td>2020-07-31</td>\n      <td>0</td>\n      <td>Aplicativo</td>\n      <td>15.0</td>\n      <td>False</td>\n      <td>0</td>\n    </tr>\n    <tr>\n      <th>1</th>\n      <td>1</td>\n      <td>5</td>\n      <td>0013j00002z0CeEAAU</td>\n      <td>0013j00002z0CeEAAU</td>\n      <td>2.0</td>\n      <td>2020-07-31</td>\n      <td>0</td>\n      <td>Produto</td>\n      <td>15.0</td>\n      <td>False</td>\n      <td>0</td>\n    </tr>\n    <tr>\n      <th>2</th>\n      <td>2</td>\n      <td>6</td>\n      <td>0013j00002z0CeEAAU</td>\n      <td>0013j00002z0CeEAAU</td>\n      <td>2.0</td>\n      <td>2020-09-23</td>\n      <td>1</td>\n      <td>Produto</td>\n      <td>1.0</td>\n      <td>False</td>\n      <td>0</td>\n    </tr>\n    <tr>\n      <th>3</th>\n      <td>3</td>\n      <td>7</td>\n      <td>0013j00002zQgldAAC</td>\n      <td>0013j00002zQgldAAC</td>\n      <td>2.0</td>\n      <td>2020-08-29</td>\n      <td>1</td>\n      <td>Logística</td>\n      <td>6.0</td>\n      <td>False</td>\n      <td>0</td>\n    </tr>\n    <tr>\n      <th>4</th>\n      <td>4</td>\n      <td>8</td>\n      <td>0013j00002zQgldAAC</td>\n      <td>0013j00002zQgldAAC</td>\n      <td>2.0</td>\n      <td>2020-08-29</td>\n      <td>1</td>\n      <td>Pedido</td>\n      <td>6.0</td>\n      <td>False</td>\n      <td>0</td>\n    </tr>\n  </tbody>\n</table>\n</div>"
                    },
                    "metadata": {},
                    "execution_count": 4,
                    "output_type": "execute_result"
                }
            ],
            "execution_count": 4
        },
        {
            "cell_type": "code",
            "source": [
                "dataset2.head()"
            ],
            "metadata": {
                "azdata_cell_guid": "813ee1e3-57a8-4006-8d54-d5d524aae991"
            },
            "outputs": [
                {
                    "data": {
                        "text/plain": "   index  Unnamed: 0           accountid        date  time_tag  \\\n0      0           4  0013j00002z0CeEAAU  2020-07-28         0   \n1      1           5  0013j00002z0CeEAAU  2020-07-28         0   \n2      2           6  0013j00002z0CeEAAU  2020-07-28         0   \n3      3           7  0013j00002zQgldAAC  2020-08-28         1   \n4      4           8  0013j00002zQgldAAC  2020-08-28         1   \n\n  shipping_address_city shipping_address_state max_machine  \n0           São Gonçalo                     RJ          T3  \n1           São Gonçalo                     RJ          T3  \n2           São Gonçalo                     RJ          T3  \n3              Itaboraí                     RJ          T1  \n4              Itaboraí                     RJ          T1  ",
                        "text/html": "<div>\n<style scoped>\n    .dataframe tbody tr th:only-of-type {\n        vertical-align: middle;\n    }\n\n    .dataframe tbody tr th {\n        vertical-align: top;\n    }\n\n    .dataframe thead th {\n        text-align: right;\n    }\n</style>\n<table border=\"1\" class=\"dataframe\">\n  <thead>\n    <tr style=\"text-align: right;\">\n      <th></th>\n      <th>index</th>\n      <th>Unnamed: 0</th>\n      <th>accountid</th>\n      <th>date</th>\n      <th>time_tag</th>\n      <th>shipping_address_city</th>\n      <th>shipping_address_state</th>\n      <th>max_machine</th>\n    </tr>\n  </thead>\n  <tbody>\n    <tr>\n      <th>0</th>\n      <td>0</td>\n      <td>4</td>\n      <td>0013j00002z0CeEAAU</td>\n      <td>2020-07-28</td>\n      <td>0</td>\n      <td>São Gonçalo</td>\n      <td>RJ</td>\n      <td>T3</td>\n    </tr>\n    <tr>\n      <th>1</th>\n      <td>1</td>\n      <td>5</td>\n      <td>0013j00002z0CeEAAU</td>\n      <td>2020-07-28</td>\n      <td>0</td>\n      <td>São Gonçalo</td>\n      <td>RJ</td>\n      <td>T3</td>\n    </tr>\n    <tr>\n      <th>2</th>\n      <td>2</td>\n      <td>6</td>\n      <td>0013j00002z0CeEAAU</td>\n      <td>2020-07-28</td>\n      <td>0</td>\n      <td>São Gonçalo</td>\n      <td>RJ</td>\n      <td>T3</td>\n    </tr>\n    <tr>\n      <th>3</th>\n      <td>3</td>\n      <td>7</td>\n      <td>0013j00002zQgldAAC</td>\n      <td>2020-08-28</td>\n      <td>1</td>\n      <td>Itaboraí</td>\n      <td>RJ</td>\n      <td>T1</td>\n    </tr>\n    <tr>\n      <th>4</th>\n      <td>4</td>\n      <td>8</td>\n      <td>0013j00002zQgldAAC</td>\n      <td>2020-08-28</td>\n      <td>1</td>\n      <td>Itaboraí</td>\n      <td>RJ</td>\n      <td>T1</td>\n    </tr>\n  </tbody>\n</table>\n</div>"
                    },
                    "metadata": {},
                    "execution_count": 5,
                    "output_type": "execute_result"
                }
            ],
            "execution_count": 5
        },
        {
            "cell_type": "markdown",
            "source": [
                "<span style=\"font-size:12.0pt;\n",
                "font-family:&quot;Times New Roman&quot;,serif\">Vamos agora segregar o dataset1 em cada um dos temas para, a seguir, agrupá-lo em datas. Para isso, vamos filtrar os datasets, ordená-los em ordem crescente de datas, e reiniciar os índices</span>"
            ],
            "metadata": {
                "azdata_cell_guid": "3e56432e-9ceb-46f3-80b7-03e70bd2ff66",
                "extensions": {
                    "azuredatastudio": {
                        "views": []
                    }
                }
            },
            "attachments": {}
        },
        {
            "cell_type": "code",
            "source": [
                "df_aplicativo = dataset1.loc[dataset1['tema'] == \"Aplicativo\"]\r\n",
                "df_aplicativo = df_aplicativo.sort_values('date')\r\n",
                "df_aplicativo = df_aplicativo.reset_index()\r\n",
                "\r\n",
                "df_produto = dataset1.loc[dataset1['tema'] == \"Produto\"]\r\n",
                "df_produto = df_produto.sort_values('date')\r\n",
                "df_produto = df_produto.reset_index()\r\n",
                "\r\n",
                "df_logistica = dataset1.loc[dataset1['tema'] == \"Logística\"]\r\n",
                "df_logistica = df_logistica.sort_values('date')\r\n",
                "df_logistica = df_logistica.reset_index()\r\n",
                "\r\n",
                "df_pedido = dataset1.loc[dataset1['tema'] == \"Pedido\"]\r\n",
                "df_pedido = df_pedido.sort_values('date')\r\n",
                "df_pedido = df_pedido.reset_index()\r\n",
                "\r\n",
                "df_risco = dataset1.loc[dataset1['tema'] == \"Risco\"]\r\n",
                "df_risco = df_risco.sort_values('date')\r\n",
                "df_risco = df_risco.reset_index()\r\n",
                "\r\n",
                "df_feedback = dataset1.loc[dataset1['tema'] == \"Feedback\"]\r\n",
                "df_feedback = df_feedback.sort_values('date')\r\n",
                "df_feedback = df_feedback.reset_index()\r\n",
                "\r\n",
                "df_cadastro = dataset1.loc[dataset1['tema'] == \"Cadastro\"]\r\n",
                "df_cadastro = df_cadastro.sort_values('date')\r\n",
                "df_cadastro = df_cadastro.reset_index()\r\n",
                "\r\n",
                "df_transacao = dataset1.loc[dataset1['tema'] == \"Transação\"]\r\n",
                "df_transacao = df_transacao.sort_values('date')\r\n",
                "df_transacao = df_transacao.reset_index()\r\n",
                "\r\n",
                "df_transferencia = dataset1.loc[dataset1['tema'] == \"Transferência\"]\r\n",
                "df_transferencia = df_transferencia.sort_values('date')\r\n",
                "df_transferencia = df_transferencia.reset_index()\r\n",
                "\r\n",
                "df_bandeira = dataset1.loc[dataset1['tema'] == \"Bandeira\"]\r\n",
                "df_bandeira = df_bandeira.sort_values('date')\r\n",
                "df_bandeira = df_bandeira.reset_index()\r\n",
                "\r\n",
                "df_telecom = dataset1.loc[dataset1['tema'] == \"Telecom\"]\r\n",
                "df_telecom = df_telecom.sort_values('date')\r\n",
                "df_telecom = df_telecom.reset_index()\r\n",
                "\r\n",
                "df_comunicado = dataset1.loc[dataset1['tema'] == \"Comunicado\"]\r\n",
                "df_comunicado = df_comunicado.sort_values('date')\r\n",
                "df_comunicado = df_comunicado.reset_index()"
            ],
            "metadata": {
                "azdata_cell_guid": "ed5bfd09-727c-4eb5-a644-d4f50a4cdece"
            },
            "outputs": [],
            "execution_count": 6
        },
        {
            "cell_type": "code",
            "source": [
                "df_aplicativo['date'] = pd.to_datetime(df_aplicativo['date']) - pd.to_timedelta(7, unit='d')\r\n",
                "df_app_grp = df_aplicativo.groupby([pd.Grouper(key='date', freq='W-MON')]).describe()\r\n",
                "dates_list = df_app_grp.index\r\n",
                "df_app_grp.info()\r\n",
                "\r\n",
                "#contagem total de chamados na semana\r\n",
                "#df_app_grp['count'] = (df_aplicativo.groupby(['date', pd.Grouper(key='date', freq='W-MON')])['Unnamed: 0'].count())[2]"
            ],
            "metadata": {
                "azdata_cell_guid": "f7d40d6a-3332-443b-a62a-d8bd696fd3e5"
            },
            "outputs": [
                {
                    "name": "stdout",
                    "text": "<class 'pandas.core.frame.DataFrame'>\nDatetimeIndex: 36 entries, 2020-02-24 to 2020-10-26\nFreq: W-MON\nData columns (total 56 columns):\n #   Column                  Non-Null Count  Dtype  \n---  ------                  --------------  -----  \n 0   (level_0, count)        36 non-null     float64\n 1   (level_0, mean)         36 non-null     float64\n 2   (level_0, std)          36 non-null     float64\n 3   (level_0, min)          36 non-null     float64\n 4   (level_0, 25%)          36 non-null     float64\n 5   (level_0, 50%)          36 non-null     float64\n 6   (level_0, 75%)          36 non-null     float64\n 7   (level_0, max)          36 non-null     float64\n 8   (index, count)          36 non-null     float64\n 9   (index, mean)           36 non-null     float64\n 10  (index, std)            36 non-null     float64\n 11  (index, min)            36 non-null     float64\n 12  (index, 25%)            36 non-null     float64\n 13  (index, 50%)            36 non-null     float64\n 14  (index, 75%)            36 non-null     float64\n 15  (index, max)            36 non-null     float64\n 16  (Unnamed: 0, count)     36 non-null     float64\n 17  (Unnamed: 0, mean)      36 non-null     float64\n 18  (Unnamed: 0, std)       36 non-null     float64\n 19  (Unnamed: 0, min)       36 non-null     float64\n 20  (Unnamed: 0, 25%)       36 non-null     float64\n 21  (Unnamed: 0, 50%)       36 non-null     float64\n 22  (Unnamed: 0, 75%)       36 non-null     float64\n 23  (Unnamed: 0, max)       36 non-null     float64\n 24  (channelid, count)      36 non-null     float64\n 25  (channelid, mean)       36 non-null     float64\n 26  (channelid, std)        36 non-null     float64\n 27  (channelid, min)        36 non-null     float64\n 28  (channelid, 25%)        36 non-null     float64\n 29  (channelid, 50%)        36 non-null     float64\n 30  (channelid, 75%)        36 non-null     float64\n 31  (channelid, max)        36 non-null     float64\n 32  (time_tag, count)       36 non-null     float64\n 33  (time_tag, mean)        36 non-null     float64\n 34  (time_tag, std)         36 non-null     float64\n 35  (time_tag, min)         36 non-null     float64\n 36  (time_tag, 25%)         36 non-null     float64\n 37  (time_tag, 50%)         36 non-null     float64\n 38  (time_tag, 75%)         36 non-null     float64\n 39  (time_tag, max)         36 non-null     float64\n 40  (waitingtime, count)    36 non-null     float64\n 41  (waitingtime, mean)     36 non-null     float64\n 42  (waitingtime, std)      36 non-null     float64\n 43  (waitingtime, min)      36 non-null     float64\n 44  (waitingtime, 25%)      36 non-null     float64\n 45  (waitingtime, 50%)      36 non-null     float64\n 46  (waitingtime, 75%)      36 non-null     float64\n 47  (waitingtime, max)      36 non-null     float64\n 48  (pq_satisfacao, count)  36 non-null     float64\n 49  (pq_satisfacao, mean)   36 non-null     float64\n 50  (pq_satisfacao, std)    36 non-null     float64\n 51  (pq_satisfacao, min)    36 non-null     float64\n 52  (pq_satisfacao, 25%)    36 non-null     float64\n 53  (pq_satisfacao, 50%)    36 non-null     float64\n 54  (pq_satisfacao, 75%)    36 non-null     float64\n 55  (pq_satisfacao, max)    36 non-null     float64\ndtypes: float64(56)\nmemory usage: 16.0 KB\n",
                    "output_type": "stream"
                }
            ],
            "execution_count": 7
        },
        {
            "cell_type": "markdown",
            "source": [
                "Com estas informações, podemos agora selecionar as colunas desejadas"
            ],
            "metadata": {
                "azdata_cell_guid": "7f620b57-69b5-481a-b1b9-c7070b243a2d"
            },
            "attachments": {}
        },
        {
            "cell_type": "code",
            "source": [
                "dates_list"
            ],
            "metadata": {
                "azdata_cell_guid": "89639741-45c8-4106-9148-c57c0ff991c4"
            },
            "outputs": [
                {
                    "output_type": "execute_result",
                    "execution_count": 127,
                    "data": {
                        "text/plain": "DatetimeIndex(['2019-07-29', '2019-08-05', '2019-08-12', '2019-08-19',\n               '2019-08-26', '2019-09-02', '2019-09-09', '2019-09-16',\n               '2019-09-23', '2019-09-30', '2019-10-07', '2019-10-14',\n               '2019-10-21', '2019-10-28', '2019-11-04', '2019-11-11',\n               '2019-11-18', '2019-11-25', '2019-12-02', '2019-12-09',\n               '2019-12-16', '2019-12-23', '2019-12-30', '2020-01-06',\n               '2020-01-13', '2020-01-20', '2020-01-27', '2020-02-03',\n               '2020-02-10', '2020-02-17', '2020-02-24', '2020-03-02',\n               '2020-03-09', '2020-03-16', '2020-03-23', '2020-03-30'],\n              dtype='datetime64[ns]', name='date', freq='W-MON')"
                    },
                    "metadata": {}
                }
            ],
            "execution_count": 127
        },
        {
            "cell_type": "code",
            "source": [
                "#criar listas com cada elemento \r\n",
                "#count:\r\n",
                "count = []\r\n",
                "time_tag = []\r\n",
                "waiting_time = []\r\n",
                "pq_satisfacao = []\r\n",
                "\r\n",
                "df_length = len(df_app_grp)\r\n",
                "i = 0\r\n",
                "\r\n",
                "while(i < df_length):\r\n",
                "\r\n",
                "    count.append(df_app_grp.iloc[i,0])\r\n",
                "    time_tag.append(df_app_grp.iloc[i,33])\r\n",
                "    waiting_time.append(df_app_grp.iloc[i,41])\r\n",
                "    pq_satisfacao.append(df_app_grp.iloc[i,49])\r\n",
                "    i = i + 1\r\n",
                "\r\n",
                "#criar dicionario com as listas\r\n",
                "d = {'date': dates_list, 'count': count, 'time_tag': time_tag, 'waiting_time': waiting_time, 'pq_satisfacao': pq_satisfacao}\r\n",
                "\r\n",
                "#converter dicionario no novo dataframe\r\n",
                "app_week = pd.DataFrame(data = d)\r\n",
                "app_week.head()"
            ],
            "metadata": {
                "azdata_cell_guid": "8a879e4b-fa57-47c4-be0b-62eb1e44cd3c",
                "tags": []
            },
            "outputs": [
                {
                    "data": {
                        "text/plain": "        date  count  time_tag  waiting_time  pq_satisfacao\n0 2020-02-24   25.0       0.0     14.160000       4.840000\n1 2020-03-02   41.0       0.0     11.024390       4.195122\n2 2020-03-09   31.0       0.0     11.387097       4.870968\n3 2020-03-16    3.0       0.0     10.666667       3.666667\n4 2020-03-23   29.0       0.0     10.241379       5.172414",
                        "text/html": "<div>\n<style scoped>\n    .dataframe tbody tr th:only-of-type {\n        vertical-align: middle;\n    }\n\n    .dataframe tbody tr th {\n        vertical-align: top;\n    }\n\n    .dataframe thead th {\n        text-align: right;\n    }\n</style>\n<table border=\"1\" class=\"dataframe\">\n  <thead>\n    <tr style=\"text-align: right;\">\n      <th></th>\n      <th>date</th>\n      <th>count</th>\n      <th>time_tag</th>\n      <th>waiting_time</th>\n      <th>pq_satisfacao</th>\n    </tr>\n  </thead>\n  <tbody>\n    <tr>\n      <th>0</th>\n      <td>2020-02-24</td>\n      <td>25.0</td>\n      <td>0.0</td>\n      <td>14.160000</td>\n      <td>4.840000</td>\n    </tr>\n    <tr>\n      <th>1</th>\n      <td>2020-03-02</td>\n      <td>41.0</td>\n      <td>0.0</td>\n      <td>11.024390</td>\n      <td>4.195122</td>\n    </tr>\n    <tr>\n      <th>2</th>\n      <td>2020-03-09</td>\n      <td>31.0</td>\n      <td>0.0</td>\n      <td>11.387097</td>\n      <td>4.870968</td>\n    </tr>\n    <tr>\n      <th>3</th>\n      <td>2020-03-16</td>\n      <td>3.0</td>\n      <td>0.0</td>\n      <td>10.666667</td>\n      <td>3.666667</td>\n    </tr>\n    <tr>\n      <th>4</th>\n      <td>2020-03-23</td>\n      <td>29.0</td>\n      <td>0.0</td>\n      <td>10.241379</td>\n      <td>5.172414</td>\n    </tr>\n  </tbody>\n</table>\n</div>"
                    },
                    "metadata": {},
                    "execution_count": 24,
                    "output_type": "execute_result"
                }
            ],
            "execution_count": 24
        },
        {
            "cell_type": "markdown",
            "source": [
                "Vamos agora repetir este processo para os demais dataframes"
            ],
            "metadata": {
                "azdata_cell_guid": "88b1dfd2-0900-4286-b9de-db196460a1c6"
            },
            "attachments": {}
        },
        {
            "cell_type": "markdown",
            "source": [
                "Logística"
            ],
            "metadata": {
                "azdata_cell_guid": "c98d4747-6229-4edd-8b8e-6e489ae869d1"
            },
            "attachments": {}
        },
        {
            "cell_type": "code",
            "source": [
                "df_logistica['date'] = pd.to_datetime(df_logistica['date']) - pd.to_timedelta(7, unit='d')\r\n",
                "df_log_grp = df_logistica.groupby([pd.Grouper(key='date', freq='W-MON')]).describe()\r\n",
                "dates_list = df_log_grp.index"
            ],
            "metadata": {
                "azdata_cell_guid": "9ebc0dc6-4e3d-4285-b3fd-4bb320075fe1",
                "tags": []
            },
            "outputs": [],
            "execution_count": 28
        },
        {
            "cell_type": "code",
            "source": [
                "#criar listas com cada elemento \r\n",
                "#count:\r\n",
                "count = []\r\n",
                "time_tag = []\r\n",
                "waiting_time = []\r\n",
                "pq_satisfacao = []\r\n",
                "\r\n",
                "df_length = len(df_log_grp)\r\n",
                "i = 0\r\n",
                "\r\n",
                "while(i < df_length):\r\n",
                "\r\n",
                "    count.append(df_log_grp.iloc[i,0])\r\n",
                "    time_tag.append(df_log_grp.iloc[i,33])\r\n",
                "    waiting_time.append(df_log_grp.iloc[i,41])\r\n",
                "    pq_satisfacao.append(df_log_grp.iloc[i,49])\r\n",
                "    i = i + 1\r\n",
                "\r\n",
                "#criar dicionario com as listas\r\n",
                "d = {'date': dates_list, 'count': count, 'time_tag': time_tag, 'waiting_time': waiting_time, 'pq_satisfacao': pq_satisfacao}\r\n",
                "\r\n",
                "#converter dicionario no novo dataframe\r\n",
                "log_week = pd.DataFrame(data = d)\r\n",
                "log_week.head()"
            ],
            "metadata": {
                "azdata_cell_guid": "c03cb86e-87b6-4ac6-90f1-255cd2325727"
            },
            "outputs": [
                {
                    "data": {
                        "text/plain": "        date  count  time_tag  waiting_time  pq_satisfacao\n0 2020-02-17   35.0       0.0     13.257143       4.542857\n1 2020-02-24   40.0       0.0     12.350000       4.850000\n2 2020-03-02   48.0       0.0     11.000000       4.250000\n3 2020-03-09    7.0       0.0     17.571429       3.571429\n4 2020-03-16   27.0       0.0     10.444444       4.777778",
                        "text/html": "<div>\n<style scoped>\n    .dataframe tbody tr th:only-of-type {\n        vertical-align: middle;\n    }\n\n    .dataframe tbody tr th {\n        vertical-align: top;\n    }\n\n    .dataframe thead th {\n        text-align: right;\n    }\n</style>\n<table border=\"1\" class=\"dataframe\">\n  <thead>\n    <tr style=\"text-align: right;\">\n      <th></th>\n      <th>date</th>\n      <th>count</th>\n      <th>time_tag</th>\n      <th>waiting_time</th>\n      <th>pq_satisfacao</th>\n    </tr>\n  </thead>\n  <tbody>\n    <tr>\n      <th>0</th>\n      <td>2020-02-17</td>\n      <td>35.0</td>\n      <td>0.0</td>\n      <td>13.257143</td>\n      <td>4.542857</td>\n    </tr>\n    <tr>\n      <th>1</th>\n      <td>2020-02-24</td>\n      <td>40.0</td>\n      <td>0.0</td>\n      <td>12.350000</td>\n      <td>4.850000</td>\n    </tr>\n    <tr>\n      <th>2</th>\n      <td>2020-03-02</td>\n      <td>48.0</td>\n      <td>0.0</td>\n      <td>11.000000</td>\n      <td>4.250000</td>\n    </tr>\n    <tr>\n      <th>3</th>\n      <td>2020-03-09</td>\n      <td>7.0</td>\n      <td>0.0</td>\n      <td>17.571429</td>\n      <td>3.571429</td>\n    </tr>\n    <tr>\n      <th>4</th>\n      <td>2020-03-16</td>\n      <td>27.0</td>\n      <td>0.0</td>\n      <td>10.444444</td>\n      <td>4.777778</td>\n    </tr>\n  </tbody>\n</table>\n</div>"
                    },
                    "metadata": {},
                    "execution_count": 29,
                    "output_type": "execute_result"
                }
            ],
            "execution_count": 29
        },
        {
            "cell_type": "markdown",
            "source": [
                "Pedido"
            ],
            "metadata": {
                "azdata_cell_guid": "c1eab633-3b5a-471a-a945-d8aba2e29eb4"
            },
            "attachments": {}
        },
        {
            "cell_type": "code",
            "source": [
                "df_pedido['date'] = pd.to_datetime(df_pedido['date']) - pd.to_timedelta(7, unit='d')\r\n",
                "df_pedido_grp = df_pedido.groupby([pd.Grouper(key='date', freq='W-MON')]).describe()\r\n",
                "dates_list = df_log_grp.index"
            ],
            "metadata": {
                "azdata_cell_guid": "168a6b36-f30c-4d4a-b322-1abcff01aade"
            },
            "outputs": [],
            "execution_count": 30
        },
        {
            "cell_type": "code",
            "source": [
                "#criar listas com cada elemento \r\n",
                "#count:\r\n",
                "count = []\r\n",
                "time_tag = []\r\n",
                "waiting_time = []\r\n",
                "pq_satisfacao = []\r\n",
                "\r\n",
                "df_length = len(df_pedido_grp)\r\n",
                "i = 0\r\n",
                "\r\n",
                "while(i < df_length):\r\n",
                "\r\n",
                "    count.append(df_pedido_grp.iloc[i,0])\r\n",
                "    time_tag.append(df_pedido_grp.iloc[i,33])\r\n",
                "    waiting_time.append(df_pedido_grp.iloc[i,41])\r\n",
                "    pq_satisfacao.append(df_pedido_grp.iloc[i,49])\r\n",
                "    i = i + 1\r\n",
                "\r\n",
                "#criar dicionario com as listas\r\n",
                "d = {'date': dates_list, 'count': count, 'time_tag': time_tag, 'waiting_time': waiting_time, 'pq_satisfacao': pq_satisfacao}\r\n",
                "\r\n",
                "#converter dicionario no novo dataframe\r\n",
                "pedido_week = pd.DataFrame(data = d)\r\n",
                "pedido_week.head()"
            ],
            "metadata": {
                "azdata_cell_guid": "f5431753-fa1f-45c1-8a46-faba4c00a084"
            },
            "outputs": [
                {
                    "data": {
                        "text/plain": "        date  count  time_tag  waiting_time  pq_satisfacao\n0 2020-02-17    2.0       0.0     13.500000       5.000000\n1 2020-02-24    6.0       0.0     12.500000       4.166667\n2 2020-03-02    4.0       0.0     15.500000       5.000000\n3 2020-03-09    0.0       NaN           NaN            NaN\n4 2020-03-16    9.0       0.0     13.444444       4.555556",
                        "text/html": "<div>\n<style scoped>\n    .dataframe tbody tr th:only-of-type {\n        vertical-align: middle;\n    }\n\n    .dataframe tbody tr th {\n        vertical-align: top;\n    }\n\n    .dataframe thead th {\n        text-align: right;\n    }\n</style>\n<table border=\"1\" class=\"dataframe\">\n  <thead>\n    <tr style=\"text-align: right;\">\n      <th></th>\n      <th>date</th>\n      <th>count</th>\n      <th>time_tag</th>\n      <th>waiting_time</th>\n      <th>pq_satisfacao</th>\n    </tr>\n  </thead>\n  <tbody>\n    <tr>\n      <th>0</th>\n      <td>2020-02-17</td>\n      <td>2.0</td>\n      <td>0.0</td>\n      <td>13.500000</td>\n      <td>5.000000</td>\n    </tr>\n    <tr>\n      <th>1</th>\n      <td>2020-02-24</td>\n      <td>6.0</td>\n      <td>0.0</td>\n      <td>12.500000</td>\n      <td>4.166667</td>\n    </tr>\n    <tr>\n      <th>2</th>\n      <td>2020-03-02</td>\n      <td>4.0</td>\n      <td>0.0</td>\n      <td>15.500000</td>\n      <td>5.000000</td>\n    </tr>\n    <tr>\n      <th>3</th>\n      <td>2020-03-09</td>\n      <td>0.0</td>\n      <td>NaN</td>\n      <td>NaN</td>\n      <td>NaN</td>\n    </tr>\n    <tr>\n      <th>4</th>\n      <td>2020-03-16</td>\n      <td>9.0</td>\n      <td>0.0</td>\n      <td>13.444444</td>\n      <td>4.555556</td>\n    </tr>\n  </tbody>\n</table>\n</div>"
                    },
                    "metadata": {},
                    "execution_count": 31,
                    "output_type": "execute_result"
                }
            ],
            "execution_count": 31
        },
        {
            "cell_type": "markdown",
            "source": [
                "Risco"
            ],
            "metadata": {
                "azdata_cell_guid": "325432db-b232-4540-9c0d-632d5a997f21"
            },
            "attachments": {}
        },
        {
            "cell_type": "code",
            "source": [
                "df_risco['date'] = pd.to_datetime(df_risco['date']) - pd.to_timedelta(7, unit='d')\r\n",
                "df_risco_grp = df_risco.groupby([pd.Grouper(key='date', freq='W-MON')]).describe()\r\n",
                "dates_list = df_risco_grp.index"
            ],
            "metadata": {
                "azdata_cell_guid": "a57b7597-412f-4f3f-94c7-e52430872d98"
            },
            "outputs": [],
            "execution_count": 33
        },
        {
            "cell_type": "code",
            "source": [
                "#criar listas com cada elemento \r\n",
                "#count:\r\n",
                "count = []\r\n",
                "time_tag = []\r\n",
                "waiting_time = []\r\n",
                "pq_satisfacao = []\r\n",
                "\r\n",
                "df_length = len(df_risco_grp)\r\n",
                "i = 0\r\n",
                "\r\n",
                "while(i < df_length):\r\n",
                "\r\n",
                "    count.append(df_risco_grp.iloc[i,0])\r\n",
                "    time_tag.append(df_risco_grp.iloc[i,33])\r\n",
                "    waiting_time.append(df_risco_grp.iloc[i,41])\r\n",
                "    pq_satisfacao.append(df_risco_grp.iloc[i,49])\r\n",
                "    i = i + 1\r\n",
                "\r\n",
                "#criar dicionario com as listas\r\n",
                "d = {'date': dates_list, 'count': count, 'time_tag': time_tag, 'waiting_time': waiting_time, 'pq_satisfacao': pq_satisfacao}\r\n",
                "\r\n",
                "#converter dicionario no novo dataframe\r\n",
                "risk_week = pd.DataFrame(data = d)\r\n",
                "risk_week.head()"
            ],
            "metadata": {
                "azdata_cell_guid": "fdbea6f5-42d1-4509-b606-e3878f99aa08"
            },
            "outputs": [
                {
                    "data": {
                        "text/plain": "        date  count  time_tag  waiting_time  pq_satisfacao\n0 2020-03-02    1.0       0.0           9.0            7.0\n1 2020-03-09    1.0       0.0          18.0            0.0\n2 2020-03-16    0.0       NaN           NaN            NaN\n3 2020-03-23    0.0       NaN           NaN            NaN\n4 2020-03-30    1.0       0.0          10.0            0.0",
                        "text/html": "<div>\n<style scoped>\n    .dataframe tbody tr th:only-of-type {\n        vertical-align: middle;\n    }\n\n    .dataframe tbody tr th {\n        vertical-align: top;\n    }\n\n    .dataframe thead th {\n        text-align: right;\n    }\n</style>\n<table border=\"1\" class=\"dataframe\">\n  <thead>\n    <tr style=\"text-align: right;\">\n      <th></th>\n      <th>date</th>\n      <th>count</th>\n      <th>time_tag</th>\n      <th>waiting_time</th>\n      <th>pq_satisfacao</th>\n    </tr>\n  </thead>\n  <tbody>\n    <tr>\n      <th>0</th>\n      <td>2020-03-02</td>\n      <td>1.0</td>\n      <td>0.0</td>\n      <td>9.0</td>\n      <td>7.0</td>\n    </tr>\n    <tr>\n      <th>1</th>\n      <td>2020-03-09</td>\n      <td>1.0</td>\n      <td>0.0</td>\n      <td>18.0</td>\n      <td>0.0</td>\n    </tr>\n    <tr>\n      <th>2</th>\n      <td>2020-03-16</td>\n      <td>0.0</td>\n      <td>NaN</td>\n      <td>NaN</td>\n      <td>NaN</td>\n    </tr>\n    <tr>\n      <th>3</th>\n      <td>2020-03-23</td>\n      <td>0.0</td>\n      <td>NaN</td>\n      <td>NaN</td>\n      <td>NaN</td>\n    </tr>\n    <tr>\n      <th>4</th>\n      <td>2020-03-30</td>\n      <td>1.0</td>\n      <td>0.0</td>\n      <td>10.0</td>\n      <td>0.0</td>\n    </tr>\n  </tbody>\n</table>\n</div>"
                    },
                    "metadata": {},
                    "execution_count": 34,
                    "output_type": "execute_result"
                }
            ],
            "execution_count": 34
        },
        {
            "cell_type": "markdown",
            "source": [
                "Feedback"
            ],
            "metadata": {
                "azdata_cell_guid": "1ea5d2ff-475a-467f-801c-1fd36b07b57b"
            },
            "attachments": {}
        },
        {
            "cell_type": "code",
            "source": [
                "df_feedback['date'] = pd.to_datetime(df_feedback['date']) - pd.to_timedelta(7, unit='d')\r\n",
                "df_feedback_grp = df_feedback.groupby([pd.Grouper(key='date', freq='W-MON')]).describe()\r\n",
                "dates_list = df_feedback_grp.index"
            ],
            "metadata": {
                "azdata_cell_guid": "f02ca88a-69e7-4f85-9ee7-bfdc1d8f3bce"
            },
            "outputs": [],
            "execution_count": 35
        },
        {
            "cell_type": "code",
            "source": [
                "#criar listas com cada elemento \r\n",
                "#count:\r\n",
                "count = []\r\n",
                "time_tag = []\r\n",
                "waiting_time = []\r\n",
                "pq_satisfacao = []\r\n",
                "\r\n",
                "df_length = len(df_feedback_grp)\r\n",
                "i = 0\r\n",
                "\r\n",
                "while(i < df_length):\r\n",
                "\r\n",
                "    count.append(df_feedback_grp.iloc[i,0])\r\n",
                "    time_tag.append(df_feedback_grp.iloc[i,33])\r\n",
                "    waiting_time.append(df_feedback_grp.iloc[i,41])\r\n",
                "    pq_satisfacao.append(df_feedback_grp.iloc[i,49])\r\n",
                "    i = i + 1\r\n",
                "\r\n",
                "#criar dicionario com as listas\r\n",
                "d = {'date': dates_list, 'count': count, 'time_tag': time_tag, 'waiting_time': waiting_time, 'pq_satisfacao': pq_satisfacao}\r\n",
                "\r\n",
                "#converter dicionario no novo dataframe\r\n",
                "feedback_week = pd.DataFrame(data = d)\r\n",
                "feedback_week.head()"
            ],
            "metadata": {
                "azdata_cell_guid": "648c6050-230b-438e-8966-e6705b3b1ac7"
            },
            "outputs": [
                {
                    "data": {
                        "text/plain": "        date  count  time_tag  waiting_time  pq_satisfacao\n0 2020-03-02    2.0       0.0     13.500000            0.0\n1 2020-03-09    1.0       0.0      6.000000            5.0\n2 2020-03-16    0.0       NaN           NaN            NaN\n3 2020-03-23    3.0       0.0     16.333333            5.0\n4 2020-03-30    2.0       0.0     11.500000            5.5",
                        "text/html": "<div>\n<style scoped>\n    .dataframe tbody tr th:only-of-type {\n        vertical-align: middle;\n    }\n\n    .dataframe tbody tr th {\n        vertical-align: top;\n    }\n\n    .dataframe thead th {\n        text-align: right;\n    }\n</style>\n<table border=\"1\" class=\"dataframe\">\n  <thead>\n    <tr style=\"text-align: right;\">\n      <th></th>\n      <th>date</th>\n      <th>count</th>\n      <th>time_tag</th>\n      <th>waiting_time</th>\n      <th>pq_satisfacao</th>\n    </tr>\n  </thead>\n  <tbody>\n    <tr>\n      <th>0</th>\n      <td>2020-03-02</td>\n      <td>2.0</td>\n      <td>0.0</td>\n      <td>13.500000</td>\n      <td>0.0</td>\n    </tr>\n    <tr>\n      <th>1</th>\n      <td>2020-03-09</td>\n      <td>1.0</td>\n      <td>0.0</td>\n      <td>6.000000</td>\n      <td>5.0</td>\n    </tr>\n    <tr>\n      <th>2</th>\n      <td>2020-03-16</td>\n      <td>0.0</td>\n      <td>NaN</td>\n      <td>NaN</td>\n      <td>NaN</td>\n    </tr>\n    <tr>\n      <th>3</th>\n      <td>2020-03-23</td>\n      <td>3.0</td>\n      <td>0.0</td>\n      <td>16.333333</td>\n      <td>5.0</td>\n    </tr>\n    <tr>\n      <th>4</th>\n      <td>2020-03-30</td>\n      <td>2.0</td>\n      <td>0.0</td>\n      <td>11.500000</td>\n      <td>5.5</td>\n    </tr>\n  </tbody>\n</table>\n</div>"
                    },
                    "metadata": {},
                    "execution_count": 36,
                    "output_type": "execute_result"
                }
            ],
            "execution_count": 36
        },
        {
            "cell_type": "markdown",
            "source": [
                "Cadastro"
            ],
            "metadata": {
                "azdata_cell_guid": "057b7642-4d99-4702-8244-8a244848ffc8"
            },
            "attachments": {}
        },
        {
            "cell_type": "code",
            "source": [
                "df_cadastro['date'] = pd.to_datetime(df_cadastro['date']) - pd.to_timedelta(7, unit='d')\r\n",
                "df_cadastro_grp = df_cadastro.groupby([pd.Grouper(key='date', freq='W-MON')]).describe()\r\n",
                "dates_list = df_cadastro_grp.index"
            ],
            "metadata": {
                "azdata_cell_guid": "ef818a3f-79af-435d-9609-ce901d92294a"
            },
            "outputs": [],
            "execution_count": 37
        },
        {
            "cell_type": "code",
            "source": [
                "#criar listas com cada elemento \r\n",
                "#count:\r\n",
                "count = []\r\n",
                "time_tag = []\r\n",
                "waiting_time = []\r\n",
                "pq_satisfacao = []\r\n",
                "\r\n",
                "df_length = len(df_cadastro_grp)\r\n",
                "i = 0\r\n",
                "\r\n",
                "while(i < df_length):\r\n",
                "\r\n",
                "    count.append(df_cadastro_grp.iloc[i,0])\r\n",
                "    time_tag.append(df_cadastro_grp.iloc[i,33])\r\n",
                "    waiting_time.append(df_cadastro_grp.iloc[i,41])\r\n",
                "    pq_satisfacao.append(df_cadastro_grp.iloc[i,49])\r\n",
                "    i = i + 1\r\n",
                "\r\n",
                "#criar dicionario com as listas\r\n",
                "d = {'date': dates_list, 'count': count, 'time_tag': time_tag, 'waiting_time': waiting_time, 'pq_satisfacao': pq_satisfacao}\r\n",
                "\r\n",
                "#converter dicionario no novo dataframe\r\n",
                "cadastro_week = pd.DataFrame(data = d)\r\n",
                "cadastro_week.head()"
            ],
            "metadata": {
                "azdata_cell_guid": "38542e84-4b47-42f7-a43a-614c4ca9d4f0"
            },
            "outputs": [
                {
                    "data": {
                        "text/plain": "        date  count  time_tag  waiting_time  pq_satisfacao\n0 2020-02-24   11.0       0.0     11.272727       4.090909\n1 2020-03-02   22.0       0.0     15.045455       3.727273\n2 2020-03-09   17.0       0.0     10.176471       5.058824\n3 2020-03-16    3.0       0.0     12.000000       3.333333\n4 2020-03-23   13.0       0.0     14.384615       3.692308",
                        "text/html": "<div>\n<style scoped>\n    .dataframe tbody tr th:only-of-type {\n        vertical-align: middle;\n    }\n\n    .dataframe tbody tr th {\n        vertical-align: top;\n    }\n\n    .dataframe thead th {\n        text-align: right;\n    }\n</style>\n<table border=\"1\" class=\"dataframe\">\n  <thead>\n    <tr style=\"text-align: right;\">\n      <th></th>\n      <th>date</th>\n      <th>count</th>\n      <th>time_tag</th>\n      <th>waiting_time</th>\n      <th>pq_satisfacao</th>\n    </tr>\n  </thead>\n  <tbody>\n    <tr>\n      <th>0</th>\n      <td>2020-02-24</td>\n      <td>11.0</td>\n      <td>0.0</td>\n      <td>11.272727</td>\n      <td>4.090909</td>\n    </tr>\n    <tr>\n      <th>1</th>\n      <td>2020-03-02</td>\n      <td>22.0</td>\n      <td>0.0</td>\n      <td>15.045455</td>\n      <td>3.727273</td>\n    </tr>\n    <tr>\n      <th>2</th>\n      <td>2020-03-09</td>\n      <td>17.0</td>\n      <td>0.0</td>\n      <td>10.176471</td>\n      <td>5.058824</td>\n    </tr>\n    <tr>\n      <th>3</th>\n      <td>2020-03-16</td>\n      <td>3.0</td>\n      <td>0.0</td>\n      <td>12.000000</td>\n      <td>3.333333</td>\n    </tr>\n    <tr>\n      <th>4</th>\n      <td>2020-03-23</td>\n      <td>13.0</td>\n      <td>0.0</td>\n      <td>14.384615</td>\n      <td>3.692308</td>\n    </tr>\n  </tbody>\n</table>\n</div>"
                    },
                    "metadata": {},
                    "execution_count": 38,
                    "output_type": "execute_result"
                }
            ],
            "execution_count": 38
        },
        {
            "cell_type": "markdown",
            "source": [
                "Transação"
            ],
            "metadata": {
                "azdata_cell_guid": "d4d86d8f-0c56-499c-b588-00ad4bab2447"
            },
            "attachments": {}
        },
        {
            "cell_type": "code",
            "source": [
                "df_transacao['date'] = pd.to_datetime(df_transacao['date']) - pd.to_timedelta(7, unit='d')\r\n",
                "df_transacao_grp = df_transacao.groupby([pd.Grouper(key='date', freq='W-MON')]).describe()\r\n",
                "dates_list = df_transacao_grp.index"
            ],
            "metadata": {
                "azdata_cell_guid": "43e0daf6-525a-4c14-9ceb-ea7a1112bed9"
            },
            "outputs": [],
            "execution_count": 39
        },
        {
            "cell_type": "code",
            "source": [
                "#criar listas com cada elemento \r\n",
                "#count:\r\n",
                "count = []\r\n",
                "time_tag = []\r\n",
                "waiting_time = []\r\n",
                "pq_satisfacao = []\r\n",
                "\r\n",
                "df_length = len(df_transacao_grp)\r\n",
                "i = 0\r\n",
                "\r\n",
                "while(i < df_length):\r\n",
                "\r\n",
                "    count.append(df_transacao_grp.iloc[i,0])\r\n",
                "    time_tag.append(df_transacao_grp.iloc[i,33])\r\n",
                "    waiting_time.append(df_transacao_grp.iloc[i,41])\r\n",
                "    pq_satisfacao.append(df_transacao_grp.iloc[i,49])\r\n",
                "    i = i + 1\r\n",
                "\r\n",
                "#criar dicionario com as listas\r\n",
                "d = {'date': dates_list, 'count': count, 'time_tag': time_tag, 'waiting_time': waiting_time, 'pq_satisfacao': pq_satisfacao}\r\n",
                "\r\n",
                "#converter dicionario no novo dataframe\r\n",
                "transacao_week = pd.DataFrame(data = d)\r\n",
                "transacao_week.head()"
            ],
            "metadata": {
                "azdata_cell_guid": "d48a7ae7-7b9b-4286-bc32-53cc30657657"
            },
            "outputs": [
                {
                    "data": {
                        "text/plain": "        date  count  time_tag  waiting_time  pq_satisfacao\n0 2020-02-24    3.0       0.0     16.000000       5.000000\n1 2020-03-02    5.0       0.0     11.400000       4.000000\n2 2020-03-09    8.0       0.0     11.125000       3.750000\n3 2020-03-16    3.0       0.0     13.000000       1.666667\n4 2020-03-23    3.0       0.0      5.333333       5.000000",
                        "text/html": "<div>\n<style scoped>\n    .dataframe tbody tr th:only-of-type {\n        vertical-align: middle;\n    }\n\n    .dataframe tbody tr th {\n        vertical-align: top;\n    }\n\n    .dataframe thead th {\n        text-align: right;\n    }\n</style>\n<table border=\"1\" class=\"dataframe\">\n  <thead>\n    <tr style=\"text-align: right;\">\n      <th></th>\n      <th>date</th>\n      <th>count</th>\n      <th>time_tag</th>\n      <th>waiting_time</th>\n      <th>pq_satisfacao</th>\n    </tr>\n  </thead>\n  <tbody>\n    <tr>\n      <th>0</th>\n      <td>2020-02-24</td>\n      <td>3.0</td>\n      <td>0.0</td>\n      <td>16.000000</td>\n      <td>5.000000</td>\n    </tr>\n    <tr>\n      <th>1</th>\n      <td>2020-03-02</td>\n      <td>5.0</td>\n      <td>0.0</td>\n      <td>11.400000</td>\n      <td>4.000000</td>\n    </tr>\n    <tr>\n      <th>2</th>\n      <td>2020-03-09</td>\n      <td>8.0</td>\n      <td>0.0</td>\n      <td>11.125000</td>\n      <td>3.750000</td>\n    </tr>\n    <tr>\n      <th>3</th>\n      <td>2020-03-16</td>\n      <td>3.0</td>\n      <td>0.0</td>\n      <td>13.000000</td>\n      <td>1.666667</td>\n    </tr>\n    <tr>\n      <th>4</th>\n      <td>2020-03-23</td>\n      <td>3.0</td>\n      <td>0.0</td>\n      <td>5.333333</td>\n      <td>5.000000</td>\n    </tr>\n  </tbody>\n</table>\n</div>"
                    },
                    "metadata": {},
                    "execution_count": 40,
                    "output_type": "execute_result"
                }
            ],
            "execution_count": 40
        },
        {
            "cell_type": "markdown",
            "source": [
                "Transferência"
            ],
            "metadata": {
                "azdata_cell_guid": "5faf278c-3f75-4bc3-8ff1-6693236dd65f"
            },
            "attachments": {}
        },
        {
            "cell_type": "code",
            "source": [
                "df_transferencia['date'] = pd.to_datetime(df_transferencia['date']) - pd.to_timedelta(7, unit='d')\r\n",
                "df_transferencia_grp = df_transferencia.groupby([pd.Grouper(key='date', freq='W-MON')]).describe()\r\n",
                "dates_list = df_transferencia_grp.index"
            ],
            "metadata": {
                "azdata_cell_guid": "e310f5b9-6ea7-49c0-abcf-a1a29ba0a32b"
            },
            "outputs": [],
            "execution_count": 41
        },
        {
            "cell_type": "code",
            "source": [
                "#criar listas com cada elemento \r\n",
                "#count:\r\n",
                "count = []\r\n",
                "time_tag = []\r\n",
                "waiting_time = []\r\n",
                "pq_satisfacao = []\r\n",
                "\r\n",
                "df_length = len(df_transferencia_grp)\r\n",
                "i = 0\r\n",
                "\r\n",
                "while(i < df_length):\r\n",
                "\r\n",
                "    count.append(df_transferencia_grp.iloc[i,0])\r\n",
                "    time_tag.append(df_transferencia_grp.iloc[i,33])\r\n",
                "    waiting_time.append(df_transferencia_grp.iloc[i,41])\r\n",
                "    pq_satisfacao.append(df_transferencia_grp.iloc[i,49])\r\n",
                "    i = i + 1\r\n",
                "\r\n",
                "#criar dicionario com as listas\r\n",
                "d = {'date': dates_list, 'count': count, 'time_tag': time_tag, 'waiting_time': waiting_time, 'pq_satisfacao': pq_satisfacao}\r\n",
                "\r\n",
                "#converter dicionario no novo dataframe\r\n",
                "transferencia_week = pd.DataFrame(data = d)\r\n",
                "transferencia_week.head()"
            ],
            "metadata": {
                "azdata_cell_guid": "7c4cc4a3-0b50-4057-b520-d8576a32616a"
            },
            "outputs": [
                {
                    "data": {
                        "text/plain": "        date  count  time_tag  waiting_time  pq_satisfacao\n0 2020-02-24   23.0       0.0     12.391304       4.434783\n1 2020-03-02   34.0       0.0     14.176471       2.823529\n2 2020-03-09   23.0       0.0     11.217391       4.130435\n3 2020-03-16    4.0       0.0      9.500000       5.750000\n4 2020-03-23   11.0       0.0      9.000000       4.090909",
                        "text/html": "<div>\n<style scoped>\n    .dataframe tbody tr th:only-of-type {\n        vertical-align: middle;\n    }\n\n    .dataframe tbody tr th {\n        vertical-align: top;\n    }\n\n    .dataframe thead th {\n        text-align: right;\n    }\n</style>\n<table border=\"1\" class=\"dataframe\">\n  <thead>\n    <tr style=\"text-align: right;\">\n      <th></th>\n      <th>date</th>\n      <th>count</th>\n      <th>time_tag</th>\n      <th>waiting_time</th>\n      <th>pq_satisfacao</th>\n    </tr>\n  </thead>\n  <tbody>\n    <tr>\n      <th>0</th>\n      <td>2020-02-24</td>\n      <td>23.0</td>\n      <td>0.0</td>\n      <td>12.391304</td>\n      <td>4.434783</td>\n    </tr>\n    <tr>\n      <th>1</th>\n      <td>2020-03-02</td>\n      <td>34.0</td>\n      <td>0.0</td>\n      <td>14.176471</td>\n      <td>2.823529</td>\n    </tr>\n    <tr>\n      <th>2</th>\n      <td>2020-03-09</td>\n      <td>23.0</td>\n      <td>0.0</td>\n      <td>11.217391</td>\n      <td>4.130435</td>\n    </tr>\n    <tr>\n      <th>3</th>\n      <td>2020-03-16</td>\n      <td>4.0</td>\n      <td>0.0</td>\n      <td>9.500000</td>\n      <td>5.750000</td>\n    </tr>\n    <tr>\n      <th>4</th>\n      <td>2020-03-23</td>\n      <td>11.0</td>\n      <td>0.0</td>\n      <td>9.000000</td>\n      <td>4.090909</td>\n    </tr>\n  </tbody>\n</table>\n</div>"
                    },
                    "metadata": {},
                    "execution_count": 42,
                    "output_type": "execute_result"
                }
            ],
            "execution_count": 42
        },
        {
            "cell_type": "markdown",
            "source": [
                "Bandeira"
            ],
            "metadata": {
                "azdata_cell_guid": "01085260-58a5-452d-addd-c823626df314"
            },
            "attachments": {}
        },
        {
            "cell_type": "code",
            "source": [
                "df_bandeira['date'] = pd.to_datetime(df_bandeira['date']) - pd.to_timedelta(7, unit='d')\r\n",
                "df_bandeira_grp = df_bandeira.groupby([pd.Grouper(key='date', freq='W-MON')]).describe()\r\n",
                "dates_list = df_bandeira_grp.index"
            ],
            "metadata": {
                "azdata_cell_guid": "c60b6ba2-55e8-41d7-a3e2-6eba8f57752c"
            },
            "outputs": [],
            "execution_count": 45
        },
        {
            "cell_type": "code",
            "source": [
                "#criar listas com cada elemento \r\n",
                "#count:\r\n",
                "count = []\r\n",
                "time_tag = []\r\n",
                "waiting_time = []\r\n",
                "pq_satisfacao = []\r\n",
                "\r\n",
                "df_length = len(df_bandeira_grp)\r\n",
                "i = 0\r\n",
                "\r\n",
                "while(i < df_length):\r\n",
                "\r\n",
                "    count.append(df_bandeira_grp.iloc[i,0])\r\n",
                "    time_tag.append(df_bandeira_grp.iloc[i,33])\r\n",
                "    waiting_time.append(df_bandeira_grp.iloc[i,41])\r\n",
                "    pq_satisfacao.append(df_bandeira_grp.iloc[i,49])\r\n",
                "    i = i + 1\r\n",
                "\r\n",
                "#criar dicionario com as listas\r\n",
                "d = {'date': dates_list, 'count': count, 'time_tag': time_tag, 'waiting_time': waiting_time, 'pq_satisfacao': pq_satisfacao}\r\n",
                "\r\n",
                "#converter dicionario no novo dataframe\r\n",
                "bandeira_week = pd.DataFrame(data = d)\r\n",
                "bandeira_week.head()"
            ],
            "metadata": {
                "azdata_cell_guid": "189bc458-7f55-4d26-b15a-517124637b57"
            },
            "outputs": [
                {
                    "data": {
                        "text/plain": "        date  count  time_tag  waiting_time  pq_satisfacao\n0 2020-02-17    3.0       0.0     19.333333            5.0\n1 2020-02-24    1.0       0.0      7.000000            8.0\n2 2020-03-02    1.0       0.0      9.000000            5.0\n3 2020-03-09    1.0       0.0     12.000000            7.0\n4 2020-03-16    5.0       0.0     11.800000            2.0",
                        "text/html": "<div>\n<style scoped>\n    .dataframe tbody tr th:only-of-type {\n        vertical-align: middle;\n    }\n\n    .dataframe tbody tr th {\n        vertical-align: top;\n    }\n\n    .dataframe thead th {\n        text-align: right;\n    }\n</style>\n<table border=\"1\" class=\"dataframe\">\n  <thead>\n    <tr style=\"text-align: right;\">\n      <th></th>\n      <th>date</th>\n      <th>count</th>\n      <th>time_tag</th>\n      <th>waiting_time</th>\n      <th>pq_satisfacao</th>\n    </tr>\n  </thead>\n  <tbody>\n    <tr>\n      <th>0</th>\n      <td>2020-02-17</td>\n      <td>3.0</td>\n      <td>0.0</td>\n      <td>19.333333</td>\n      <td>5.0</td>\n    </tr>\n    <tr>\n      <th>1</th>\n      <td>2020-02-24</td>\n      <td>1.0</td>\n      <td>0.0</td>\n      <td>7.000000</td>\n      <td>8.0</td>\n    </tr>\n    <tr>\n      <th>2</th>\n      <td>2020-03-02</td>\n      <td>1.0</td>\n      <td>0.0</td>\n      <td>9.000000</td>\n      <td>5.0</td>\n    </tr>\n    <tr>\n      <th>3</th>\n      <td>2020-03-09</td>\n      <td>1.0</td>\n      <td>0.0</td>\n      <td>12.000000</td>\n      <td>7.0</td>\n    </tr>\n    <tr>\n      <th>4</th>\n      <td>2020-03-16</td>\n      <td>5.0</td>\n      <td>0.0</td>\n      <td>11.800000</td>\n      <td>2.0</td>\n    </tr>\n  </tbody>\n</table>\n</div>"
                    },
                    "metadata": {},
                    "execution_count": 46,
                    "output_type": "execute_result"
                }
            ],
            "execution_count": 46
        },
        {
            "cell_type": "markdown",
            "source": [
                "Telecom"
            ],
            "metadata": {
                "azdata_cell_guid": "cfe5af44-e4d0-4e4c-bcac-59bb6deca812"
            },
            "attachments": {}
        },
        {
            "cell_type": "code",
            "source": [
                "df_telecom['date'] = pd.to_datetime(df_telecom['date']) - pd.to_timedelta(7, unit='d')\r\n",
                "df_telecom_grp = df_telecom.groupby([pd.Grouper(key='date', freq='W-MON')]).describe()\r\n",
                "dates_list = df_telecom_grp.index"
            ],
            "metadata": {
                "azdata_cell_guid": "e07dfb30-73b0-4120-b673-6bd8ff4c78f8"
            },
            "outputs": [],
            "execution_count": 47
        },
        {
            "cell_type": "code",
            "source": [
                "#criar listas com cada elemento \r\n",
                "#count:\r\n",
                "count = []\r\n",
                "time_tag = []\r\n",
                "waiting_time = []\r\n",
                "pq_satisfacao = []\r\n",
                "\r\n",
                "df_length = len(df_telecom_grp)\r\n",
                "i = 0\r\n",
                "\r\n",
                "while(i < df_length):\r\n",
                "\r\n",
                "    count.append(df_telecom_grp.iloc[i,0])\r\n",
                "    time_tag.append(df_telecom_grp.iloc[i,33])\r\n",
                "    waiting_time.append(df_telecom_grp.iloc[i,41])\r\n",
                "    pq_satisfacao.append(df_telecom_grp.iloc[i,49])\r\n",
                "    i = i + 1\r\n",
                "\r\n",
                "#criar dicionario com as listas\r\n",
                "d = {'date': dates_list, 'count': count, 'time_tag': time_tag, 'waiting_time': waiting_time, 'pq_satisfacao': pq_satisfacao}\r\n",
                "\r\n",
                "#converter dicionario no novo dataframe\r\n",
                "telecom_week = pd.DataFrame(data = d)\r\n",
                "telecom_week.head()"
            ],
            "metadata": {
                "azdata_cell_guid": "c06dfaa1-cf85-40a5-87d2-d2a37507d870"
            },
            "outputs": [
                {
                    "data": {
                        "text/plain": "        date  count  time_tag  waiting_time  pq_satisfacao\n0 2020-03-02    4.0       0.0          10.0           5.75\n1 2020-03-09    1.0       0.0          17.0           5.00\n2 2020-03-16    0.0       NaN           NaN            NaN\n3 2020-03-23    0.0       NaN           NaN            NaN\n4 2020-03-30    0.0       NaN           NaN            NaN",
                        "text/html": "<div>\n<style scoped>\n    .dataframe tbody tr th:only-of-type {\n        vertical-align: middle;\n    }\n\n    .dataframe tbody tr th {\n        vertical-align: top;\n    }\n\n    .dataframe thead th {\n        text-align: right;\n    }\n</style>\n<table border=\"1\" class=\"dataframe\">\n  <thead>\n    <tr style=\"text-align: right;\">\n      <th></th>\n      <th>date</th>\n      <th>count</th>\n      <th>time_tag</th>\n      <th>waiting_time</th>\n      <th>pq_satisfacao</th>\n    </tr>\n  </thead>\n  <tbody>\n    <tr>\n      <th>0</th>\n      <td>2020-03-02</td>\n      <td>4.0</td>\n      <td>0.0</td>\n      <td>10.0</td>\n      <td>5.75</td>\n    </tr>\n    <tr>\n      <th>1</th>\n      <td>2020-03-09</td>\n      <td>1.0</td>\n      <td>0.0</td>\n      <td>17.0</td>\n      <td>5.00</td>\n    </tr>\n    <tr>\n      <th>2</th>\n      <td>2020-03-16</td>\n      <td>0.0</td>\n      <td>NaN</td>\n      <td>NaN</td>\n      <td>NaN</td>\n    </tr>\n    <tr>\n      <th>3</th>\n      <td>2020-03-23</td>\n      <td>0.0</td>\n      <td>NaN</td>\n      <td>NaN</td>\n      <td>NaN</td>\n    </tr>\n    <tr>\n      <th>4</th>\n      <td>2020-03-30</td>\n      <td>0.0</td>\n      <td>NaN</td>\n      <td>NaN</td>\n      <td>NaN</td>\n    </tr>\n  </tbody>\n</table>\n</div>"
                    },
                    "metadata": {},
                    "execution_count": 48,
                    "output_type": "execute_result"
                }
            ],
            "execution_count": 48
        },
        {
            "cell_type": "markdown",
            "source": [
                "Comunicado"
            ],
            "metadata": {
                "azdata_cell_guid": "f680665f-2669-432f-91b4-8e1fd58f325c"
            },
            "attachments": {}
        },
        {
            "cell_type": "code",
            "source": [
                "df_comunicado['date'] = pd.to_datetime(df_comunicado['date']) - pd.to_timedelta(7, unit='d')\r\n",
                "df_comunicado_grp = df_comunicado.groupby([pd.Grouper(key='date', freq='W-MON')]).describe()\r\n",
                "dates_list = df_comunicado_grp.index"
            ],
            "metadata": {
                "azdata_cell_guid": "f8a1ab8f-18b8-4d4c-8ebf-175e46f19a21"
            },
            "outputs": [],
            "execution_count": 49
        },
        {
            "cell_type": "code",
            "source": [
                "#criar listas com cada elemento \r\n",
                "#count:\r\n",
                "count = []\r\n",
                "time_tag = []\r\n",
                "waiting_time = []\r\n",
                "pq_satisfacao = []\r\n",
                "\r\n",
                "df_length = len(df_comunicado_grp)\r\n",
                "i = 0\r\n",
                "\r\n",
                "while(i < df_length):\r\n",
                "\r\n",
                "    count.append(df_comunicado_grp.iloc[i,0])\r\n",
                "    time_tag.append(df_comunicado_grp.iloc[i,33])\r\n",
                "    waiting_time.append(df_comunicado_grp.iloc[i,41])\r\n",
                "    pq_satisfacao.append(df_comunicado_grp.iloc[i,49])\r\n",
                "    i = i + 1\r\n",
                "\r\n",
                "#criar dicionario com as listas\r\n",
                "d = {'date': dates_list, 'count': count, 'time_tag': time_tag, 'waiting_time': waiting_time, 'pq_satisfacao': pq_satisfacao}\r\n",
                "\r\n",
                "#converter dicionario no novo dataframe\r\n",
                "comunicado_week = pd.DataFrame(data = d)\r\n",
                "comunicado_week.head()"
            ],
            "metadata": {
                "azdata_cell_guid": "0d2345a7-431c-43f9-8779-37edad377b86"
            },
            "outputs": [
                {
                    "data": {
                        "text/plain": "        date  count  time_tag  waiting_time  pq_satisfacao\n0 2020-06-08    1.0       0.0          16.0            5.0\n1 2020-06-15    1.0       0.0           7.0            0.0\n2 2020-06-22    1.0       0.0           5.0            5.0\n3 2020-06-29    0.0       NaN           NaN            NaN\n4 2020-07-06    1.0       0.0          12.0            0.0",
                        "text/html": "<div>\n<style scoped>\n    .dataframe tbody tr th:only-of-type {\n        vertical-align: middle;\n    }\n\n    .dataframe tbody tr th {\n        vertical-align: top;\n    }\n\n    .dataframe thead th {\n        text-align: right;\n    }\n</style>\n<table border=\"1\" class=\"dataframe\">\n  <thead>\n    <tr style=\"text-align: right;\">\n      <th></th>\n      <th>date</th>\n      <th>count</th>\n      <th>time_tag</th>\n      <th>waiting_time</th>\n      <th>pq_satisfacao</th>\n    </tr>\n  </thead>\n  <tbody>\n    <tr>\n      <th>0</th>\n      <td>2020-06-08</td>\n      <td>1.0</td>\n      <td>0.0</td>\n      <td>16.0</td>\n      <td>5.0</td>\n    </tr>\n    <tr>\n      <th>1</th>\n      <td>2020-06-15</td>\n      <td>1.0</td>\n      <td>0.0</td>\n      <td>7.0</td>\n      <td>0.0</td>\n    </tr>\n    <tr>\n      <th>2</th>\n      <td>2020-06-22</td>\n      <td>1.0</td>\n      <td>0.0</td>\n      <td>5.0</td>\n      <td>5.0</td>\n    </tr>\n    <tr>\n      <th>3</th>\n      <td>2020-06-29</td>\n      <td>0.0</td>\n      <td>NaN</td>\n      <td>NaN</td>\n      <td>NaN</td>\n    </tr>\n    <tr>\n      <th>4</th>\n      <td>2020-07-06</td>\n      <td>1.0</td>\n      <td>0.0</td>\n      <td>12.0</td>\n      <td>0.0</td>\n    </tr>\n  </tbody>\n</table>\n</div>"
                    },
                    "metadata": {},
                    "execution_count": 50,
                    "output_type": "execute_result"
                }
            ],
            "execution_count": 50
        },
        {
            "cell_type": "markdown",
            "source": [
                "## **Exportar dataframes obtido como um arquivo CSV**"
            ],
            "metadata": {
                "azdata_cell_guid": "f79892d2-4325-4c42-b599-3a566e01ad90",
                "extensions": {
                    "azuredatastudio": {
                        "views": []
                    }
                }
            },
            "attachments": {}
        },
        {
            "cell_type": "code",
            "source": [
                "app_week.to_csv(r\"weekly_app.csv\", index = False)\n",
                "log_week.to_csv(r\"weekly_log.csv\", index = False)\n",
                "pedido_week.to_csv(r\"weekly_pedido.csv\", index = False)\n",
                "risk_week.to_csv(r\"weekly_risk.csv\", index = False)\n",
                "feedback_week.to_csv(r\"weekly_feedback.csv\", index = False)\n",
                "cadastro_week.to_csv(r\"weekly_cadastro.csv\", index = False)\n",
                "transacao_week.to_csv(r\"weekly_transacao.csv\", index = False)\n",
                "transferencia_week.to_csv(r\"weekly_transferencia.csv\", index = False)\n",
                "bandeira_week.to_csv(r\"weekly_bandeira.csv\", index = False)\n",
                "telecom_week.to_csv(r\"weekly_telecom.csv\", index = False)\n",
                "comunicado_week.to_csv(r\"weekly_comunicado.csv\", index = False)"
            ],
            "metadata": {
                "azdata_cell_guid": "6ccfc7d2-7b29-46e3-924e-db25c6ef38d6",
                "tags": [],
                "extensions": {
                    "azuredatastudio": {
                        "views": []
                    }
                }
            },
            "outputs": [],
            "execution_count": 51
        }
    ]
}